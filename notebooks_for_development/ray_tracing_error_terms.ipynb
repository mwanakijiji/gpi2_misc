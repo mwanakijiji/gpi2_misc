{
 "cells": [
  {
   "cell_type": "code",
   "execution_count": null,
   "id": "c8ad3701",
   "metadata": {},
   "outputs": [],
   "source": [
    "# This determines the path of rays in simple geometrical ray traces,\n",
    "# relative to apertures; and also finds errors\n",
    "\n",
    "# Created 2022 Apr. 25 by E.S."
   ]
  },
  {
   "cell_type": "code",
   "execution_count": 1,
   "id": "f6930b44",
   "metadata": {},
   "outputs": [],
   "source": [
    "import matplotlib.pyplot as plt\n",
    "import numpy as np"
   ]
  },
  {
   "cell_type": "code",
   "execution_count": 2,
   "id": "d359eaed",
   "metadata": {},
   "outputs": [],
   "source": [
    "# locations of elements (all mm) are relative to the flat fold mirror\n",
    "\n",
    "loc_obj = -106.7\n",
    "loc_lens = 40.\n",
    "rad_lens = 5.25 # radius of lens\n",
    "\n",
    "# sizes of elements (all mm) are ito radii from center path\n",
    "\n",
    "names_apertures_array = [\"pupil\",\n",
    "                         \"r4: cold shield\", \n",
    "                         \"r5: dewar window\", \n",
    "                         \"detector\"]\n",
    "\n",
    "radii_apertures_array = np.array([5., 11.,8.,4.72])\n",
    "\n",
    "locs_apertures_array = np.array([loc_obj, 65.65, 120.25, 137.35])"
   ]
  },
  {
   "cell_type": "code",
   "execution_count": 5,
   "id": "7e385294",
   "metadata": {},
   "outputs": [],
   "source": [
    "# path of ray 1: from top of image, optically parallel until lens; then focus at center path\n",
    "# path of ray 2: same origin, but going in single path through center of lens to 'top' of image\n",
    "\n",
    "# radial extent of ray 1 from center path\n",
    "def rays_radial_extent(x_pos):\n",
    "    \n",
    "    if (x_pos < loc_lens):\n",
    "        \n",
    "        # distance between object and lens\n",
    "        dist_obj_lens = np.subtract(loc_lens,loc_obj)\n",
    "        \n",
    "        y_extent_1 = radii_apertures_array[0] # ray is at the height of the object height\n",
    "        y_extent_2 = np.divide(radii_apertures_array[0],dist_obj_lens) * np.subtract(loc_lens, x_pos)\n",
    "        \n",
    "    elif (x_pos > loc_lens):\n",
    "        \n",
    "        # distance between lens and detector\n",
    "        dist_lens_detec = locs_apertures_array[-1] - loc_lens\n",
    "        \n",
    "        y_extent_1 = np.divide(rad_lens,dist_lens_detec) * np.subtract(locs_apertures_array[-1],x_pos)\n",
    "        y_extent_2 = np.subtract(x_pos,loc_lens) * np.divide(radii_apertures_array[-1],dist_lens_detec)\n",
    "        \n",
    "    return y_extent_1, y_extent_2"
   ]
  },
  {
   "cell_type": "code",
   "execution_count": 8,
   "id": "cb38d505",
   "metadata": {},
   "outputs": [
    {
     "name": "stdout",
     "output_type": "stream",
     "text": [
      "-----\n",
      "APERTURE:  pupil\n",
      "Ray 1: Absolute extent of ray from parallel: 5.0\n",
      "Ray 1: Aperture extent of aperture beyond rays: 0.0\n",
      "Ray 2: Absolute extent of ray from parallel: 5.0\n",
      "Ray 2: Aperture extent of aperture beyond rays: 0.0\n",
      "-----\n",
      "APERTURE:  r4: cold shield\n",
      "Ray 1: Absolute extent of ray from parallel: 3.8667180277349766\n",
      "Ray 1: Aperture extent of aperture beyond rays: 7.133281972265023\n",
      "Ray 2: Absolute extent of ray from parallel: 1.2436363636363639\n",
      "Ray 2: Aperture extent of aperture beyond rays: 9.756363636363636\n",
      "-----\n",
      "APERTURE:  r5: dewar window\n",
      "Ray 1: Absolute extent of ray from parallel: 0.9221879815100152\n",
      "Ray 1: Aperture extent of aperture beyond rays: 7.077812018489984\n",
      "Ray 2: Absolute extent of ray from parallel: 3.890909090909091\n",
      "Ray 2: Aperture extent of aperture beyond rays: 4.109090909090909\n",
      "-----\n",
      "APERTURE:  detector\n",
      "Ray 1: Absolute extent of ray from parallel: 0.0\n",
      "Ray 1: Aperture extent of aperture beyond rays: 4.72\n",
      "Ray 2: Absolute extent of ray from parallel: 4.72\n",
      "Ray 2: Aperture extent of aperture beyond rays: 0.0\n"
     ]
    }
   ],
   "source": [
    "for t in range(0,len(radii_apertures_array)):\n",
    "\n",
    "    abs_extent_1, abs_extent_2 = rays_radial_extent(locs_apertures_array[t])\n",
    "    margin_extent_1 = np.subtract(radii_apertures_array,abs_extent_1)\n",
    "    margin_extent_2 = np.subtract(radii_apertures_array,abs_extent_2)\n",
    "    \n",
    "    print(\"-----\")\n",
    "    print(\"APERTURE: \", names_apertures_array[t])\n",
    "    print(\"Ray 1: Absolute extent of ray from parallel:\", abs_extent_1)\n",
    "    print(\"Ray 1: Aperture extent of aperture beyond rays:\", margin_extent_1[t])\n",
    "    print(\"Ray 2: Absolute extent of ray from parallel:\", abs_extent_2)\n",
    "    print(\"Ray 2: Aperture extent of aperture beyond rays:\", margin_extent_2[t])\n",
    "    if (margin_extent_1[t] < 0):\n",
    "        print(\"VIGNETTING OF RAY 1 !!\")\n",
    "    if (margin_extent_2[t] < 0):\n",
    "        print(\"VIGNETTING OF RAY 2 !!\")"
   ]
  },
  {
   "cell_type": "code",
   "execution_count": null,
   "id": "cc9c375c",
   "metadata": {},
   "outputs": [],
   "source": []
  },
  {
   "cell_type": "code",
   "execution_count": null,
   "id": "4665bcc6",
   "metadata": {},
   "outputs": [],
   "source": []
  }
 ],
 "metadata": {
  "kernelspec": {
   "display_name": "Python 3",
   "language": "python",
   "name": "python3"
  },
  "language_info": {
   "codemirror_mode": {
    "name": "ipython",
    "version": 3
   },
   "file_extension": ".py",
   "mimetype": "text/x-python",
   "name": "python",
   "nbconvert_exporter": "python",
   "pygments_lexer": "ipython3",
   "version": "3.6.10"
  }
 },
 "nbformat": 4,
 "nbformat_minor": 5
}
