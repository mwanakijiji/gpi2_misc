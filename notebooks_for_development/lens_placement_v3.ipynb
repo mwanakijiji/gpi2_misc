{
 "cells": [
  {
   "cell_type": "code",
   "execution_count": null,
   "id": "d6fe213e",
   "metadata": {},
   "outputs": [],
   "source": [
    "# This calculates where a lens should go in GPI to re-image the Lyot stop\n",
    "# in the new PupilCam\n",
    "\n",
    "# Created 2021 Dec 6 by E.S"
   ]
  },
  {
   "cell_type": "code",
   "execution_count": 1,
   "id": "a98b98e5",
   "metadata": {},
   "outputs": [],
   "source": [
    "import numpy as np\n",
    "import pandas as pd\n",
    "import matplotlib.pyplot as plt\n",
    "from itertools import product\n",
    "\n",
    "%matplotlib qt"
   ]
  },
  {
   "cell_type": "code",
   "execution_count": 2,
   "id": "88c64d25",
   "metadata": {},
   "outputs": [],
   "source": [
    "# Try grids of\n",
    "\n",
    "# n_l: 1.2 to 3.0\n",
    "# R: 10 mm to 1000 mm\n",
    "\n",
    "n_l_array = [1.45,2.47] # np.linspace(1.2, 3.0, num=50, endpoint=True)\n",
    "R1_array = np.linspace(1., 500., num=200, endpoint=True)\n",
    "R1_array = np.append(R1_array,[1e8]) # to approximate at inf\n",
    "R2_array = -np.linspace(1., 500., num=200, endpoint=True)\n",
    "R2_array = np.append(R2_array,[11e8]) # to approximate at inf\n",
    "d_l_array = np.linspace(0.5, 5., num=200, endpoint=True)\n",
    "#M_array = np.linspace(-0.384,-0.9, num=200, endpoint=True)"
   ]
  },
  {
   "cell_type": "code",
   "execution_count": 3,
   "id": "c6c0f8e3",
   "metadata": {},
   "outputs": [],
   "source": [
    "# Thick lensmaker's formula: 1/f =\n",
    "\n",
    "def thick_lens(n_l_pass, R1_pass, R2_pass, d_l_pass):\n",
    "    '''\n",
    "    returns focal length, using \n",
    "    \n",
    "    1/f = A * [B + C]\n",
    "    '''\n",
    "    \n",
    "    A = np.subtract(n_l_pass,1.)\n",
    "    \n",
    "    B = np.subtract(1./R1_pass,1./R2_pass)\n",
    "    \n",
    "    C = np.divide(np.multiply(A,d_l_pass),np.multiply(d_l_pass,np.multiply(R1_pass,R2_pass)))\n",
    "    \n",
    "    f_inv = np.multiply(A,np.add(B,C))\n",
    "\n",
    "    return 1./f_inv"
   ]
  },
  {
   "cell_type": "code",
   "execution_count": 4,
   "id": "277baeb2",
   "metadata": {},
   "outputs": [
    {
     "name": "stdout",
     "output_type": "stream",
     "text": [
      "146.34146341463415\n"
     ]
    }
   ],
   "source": [
    "test = thick_lens(1.5, 30, 50, 0.1)\n",
    "print(test)"
   ]
  },
  {
   "cell_type": "code",
   "execution_count": 5,
   "id": "f0273e60",
   "metadata": {},
   "outputs": [],
   "source": [
    "# make DataFrame holding permutations of lens parameters\n",
    "\n",
    "df = pd.DataFrame(product(n_l_array, R1_array, R2_array, d_l_array), \n",
    "                  columns=[\"n_l\",\"R1\",\"R2\",\"d_l\"])"
   ]
  },
  {
   "cell_type": "code",
   "execution_count": 6,
   "id": "6bb71ba7",
   "metadata": {},
   "outputs": [],
   "source": [
    "# find effective focal length for each combination\n",
    "\n",
    "df[\"f\"] = thick_lens(n_l_pass=df[\"n_l\"],\n",
    "                     R1_pass=df[\"R1\"],\n",
    "                     R2_pass=df[\"R2\"],\n",
    "                     d_l_pass=df[\"d_l\"])"
   ]
  },
  {
   "cell_type": "code",
   "execution_count": 7,
   "id": "e91a01fd",
   "metadata": {},
   "outputs": [],
   "source": [
    "# apply magnification constraint to fit image on detector: M_mag = -0.384\n",
    "# s_i = f*(1-M)\n",
    "\n",
    "#M_mag = -0.384\n",
    "M_mag = -0.384\n",
    "df[\"s_i\"] = np.multiply(df[\"f\"],np.subtract(1.,M_mag))\n",
    "df[\"s_o\"] = np.multiply(df[\"f\"],np.divide(M_mag-1,M_mag))\n",
    "\n",
    "# sanity check\n",
    "df[\"f_test\"] = np.divide(1.,np.add(np.divide(1.,df[\"s_i\"]),np.divide(1.,df[\"s_o\"]))) "
   ]
  },
  {
   "cell_type": "code",
   "execution_count": 8,
   "id": "3aacacc0",
   "metadata": {},
   "outputs": [],
   "source": [
    "plt.hist(df[\"R1\"], bins=200)\n",
    "plt.show()"
   ]
  },
  {
   "cell_type": "code",
   "execution_count": 9,
   "id": "ca2fec34",
   "metadata": {},
   "outputs": [],
   "source": [
    "# apply cut such that lens position would only move a few mm from current\n",
    "\n",
    "'''\n",
    "df_physical1 = df.where(np.logical_and(df[\"s_o\"] > 106.7 + 21.3 - 2,\n",
    "                                      df[\"s_o\"] < 106.7 + 21.3 + 2)).dropna()\n",
    "\n",
    "'''\n",
    "df_physical1 = df.copy()"
   ]
  },
  {
   "cell_type": "code",
   "execution_count": 10,
   "id": "7618799d",
   "metadata": {},
   "outputs": [
    {
     "data": {
      "text/plain": [
       "16160400"
      ]
     },
     "execution_count": 10,
     "metadata": {},
     "output_type": "execute_result"
    }
   ],
   "source": [
    "len(df_physical1)"
   ]
  },
  {
   "cell_type": "code",
   "execution_count": 11,
   "id": "1e239e82",
   "metadata": {},
   "outputs": [],
   "source": [
    "# apply cut such that focal length is < 65 mm\n",
    "\n",
    "df_physical2 = df_physical1.where(df_physical1[\"f\"] < 65).dropna()"
   ]
  },
  {
   "cell_type": "code",
   "execution_count": 12,
   "id": "0a7b1cba",
   "metadata": {},
   "outputs": [
    {
     "data": {
      "text/plain": [
       "4998200"
      ]
     },
     "execution_count": 12,
     "metadata": {},
     "output_type": "execute_result"
    }
   ],
   "source": [
    "len(df_physical2)"
   ]
  },
  {
   "cell_type": "code",
   "execution_count": 13,
   "id": "3fa6e69c",
   "metadata": {},
   "outputs": [],
   "source": [
    "# apply cut such that si+so is close to (106.7+137.35) mm\n",
    "\n",
    "df_physical3 = df_physical2.where(np.logical_and(\n",
    "                                        np.add(df_physical2[\"s_i\"],df_physical2[\"s_o\"]) > 106.7+137.35-2,\n",
    "                                        np.add(df_physical2[\"s_i\"],df_physical2[\"s_o\"]) < 106.7+137.35+2)).dropna()"
   ]
  },
  {
   "cell_type": "code",
   "execution_count": 14,
   "id": "ecacf206",
   "metadata": {},
   "outputs": [
    {
     "data": {
      "text/plain": [
       "74400"
      ]
     },
     "execution_count": 14,
     "metadata": {},
     "output_type": "execute_result"
    }
   ],
   "source": [
    "len(df_physical3)"
   ]
  },
  {
   "cell_type": "code",
   "execution_count": 15,
   "id": "b79fa9f4",
   "metadata": {},
   "outputs": [],
   "source": [
    "# add a column to show residuals of si+so with needed\n",
    "df_physical3[\"siso_resid\"] = np.subtract(np.add(df_physical3[\"s_i\"],df_physical3[\"s_o\"]),106.7+137.35)\n",
    "# add column to show residuals of movement from current\n",
    "df_physical3[\"movement_resid\"] = np.subtract(df_physical3[\"s_o\"], 106.7 + 21.3)"
   ]
  },
  {
   "cell_type": "code",
   "execution_count": 16,
   "id": "c7de2655",
   "metadata": {},
   "outputs": [],
   "source": [
    "df_physical3[\"siso_sum\"] = np.add(df_physical3[\"s_i\"],df_physical3[\"s_o\"])"
   ]
  },
  {
   "cell_type": "code",
   "execution_count": 29,
   "id": "76b4ef0b",
   "metadata": {},
   "outputs": [],
   "source": [
    "plt.hist(df_physical3[\"siso_sum\"],bins=100)\n",
    "plt.show()"
   ]
  },
  {
   "cell_type": "code",
   "execution_count": 31,
   "id": "2affcd45",
   "metadata": {},
   "outputs": [],
   "source": [
    "# where are both residuals small?\n",
    "\n",
    "#cond_siso = np.abs(df_physical3[\"siso_resid\"]) < 2. # redundant\n",
    "cond_movement = np.abs(df_physical3[\"movement_resid\"]) < 30.\n",
    "#cond_movement = True\n",
    "#df_physical4 = df_physical3.where(np.logical_and(cond_movement,cond_siso)).dropna()\n",
    "df_physical4 = df_physical3.where(cond_movement).dropna()"
   ]
  },
  {
   "cell_type": "code",
   "execution_count": 33,
   "id": "c329bba2",
   "metadata": {},
   "outputs": [],
   "source": [
    "# where are both residuals small?\n",
    "\n",
    "#cond_siso = np.abs(df_physical3[\"siso_resid\"]) < 2. # redundant\n",
    "cond_compact = np.subtract(np.add(df_physical3[\"s_o\"],df_physical3[\"f\"]),106.7) < 65.65\n",
    "#cond_movement = True\n",
    "#df_physical4 = df_physical3.where(np.logical_and(cond_movement,cond_siso)).dropna()\n",
    "df_physical5 = df_physical4.where(cond_compact).dropna()"
   ]
  },
  {
   "cell_type": "code",
   "execution_count": 35,
   "id": "cc403a52",
   "metadata": {},
   "outputs": [
    {
     "data": {
      "text/plain": [
       "74400"
      ]
     },
     "execution_count": 35,
     "metadata": {},
     "output_type": "execute_result"
    }
   ],
   "source": [
    "len(df_physical4)"
   ]
  },
  {
   "cell_type": "code",
   "execution_count": 26,
   "id": "2e1e03a2",
   "metadata": {},
   "outputs": [
    {
     "data": {
      "text/plain": [
       "74400"
      ]
     },
     "execution_count": 26,
     "metadata": {},
     "output_type": "execute_result"
    }
   ],
   "source": [
    "len(df_physical4)"
   ]
  },
  {
   "cell_type": "code",
   "execution_count": 30,
   "id": "aa907abd",
   "metadata": {},
   "outputs": [],
   "source": [
    "plt.hist(df_physical4[\"f\"], bins=200)\n",
    "plt.show()"
   ]
  },
  {
   "cell_type": "code",
   "execution_count": 36,
   "id": "1a539b7c",
   "metadata": {},
   "outputs": [],
   "source": [
    "plt.hist(df_physical4[\"R2\"], bins=200)\n",
    "plt.show()"
   ]
  },
  {
   "cell_type": "code",
   "execution_count": null,
   "id": "307fbed8",
   "metadata": {},
   "outputs": [],
   "source": []
  }
 ],
 "metadata": {
  "kernelspec": {
   "display_name": "Python 3",
   "language": "python",
   "name": "python3"
  },
  "language_info": {
   "codemirror_mode": {
    "name": "ipython",
    "version": 3
   },
   "file_extension": ".py",
   "mimetype": "text/x-python",
   "name": "python",
   "nbconvert_exporter": "python",
   "pygments_lexer": "ipython3",
   "version": "3.6.10"
  }
 },
 "nbformat": 4,
 "nbformat_minor": 5
}
