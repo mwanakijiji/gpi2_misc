{
 "cells": [
  {
   "cell_type": "code",
   "execution_count": null,
   "id": "fc39012f",
   "metadata": {},
   "outputs": [],
   "source": [
    "# This is for some trial-and-error to see what focal lengths we might need"
   ]
  },
  {
   "cell_type": "code",
   "execution_count": 17,
   "id": "da700b6d",
   "metadata": {},
   "outputs": [],
   "source": [
    "import matplotlib.pyplot as plt\n",
    "import numpy as np"
   ]
  },
  {
   "cell_type": "code",
   "execution_count": 18,
   "id": "d292ec59",
   "metadata": {},
   "outputs": [],
   "source": [
    "# si in terms of so and f\n",
    "\n",
    "def si(so_pass,f_pass):\n",
    "    \n",
    "    si_result = np.divide(so_pass,np.subtract(np.divide(so_pass,f_pass),1.))\n",
    "    \n",
    "    return si_result"
   ]
  },
  {
   "cell_type": "code",
   "execution_count": 39,
   "id": "c67d7fe7",
   "metadata": {},
   "outputs": [],
   "source": [
    "f_array = [12.7, 15., 16., 19., 20., 25.4, 33., 38.1, 40., 50., \n",
    "           50.2, 62.9, 75., 75.6, 88.3, 100.]"
   ]
  },
  {
   "cell_type": "code",
   "execution_count": 40,
   "id": "66bc83ad",
   "metadata": {},
   "outputs": [],
   "source": [
    "si_array = si(so_pass = so, f_pass = f_array)"
   ]
  },
  {
   "cell_type": "code",
   "execution_count": 44,
   "id": "82a39836",
   "metadata": {},
   "outputs": [
    {
     "data": {
      "image/png": "[encoded data removed]",
      "text/plain": [
       "<Figure size 432x288 with 1 Axes>"
      ]
     },
     "metadata": {
      "needs_background": "light"
     },
     "output_type": "display_data"
    }
   ],
   "source": [
    "plt.scatter(f_array,si_array)\n",
    "plt.xlabel(\"f (mm)\")\n",
    "plt.ylabel(\"s_o\")\n",
    "plt.axhline(y=116.05, color=\"k\", linestyle=\"--\")\n",
    "plt.show()"
   ]
  },
  {
   "cell_type": "code",
   "execution_count": 45,
   "id": "620c5570",
   "metadata": {},
   "outputs": [
    {
     "name": "stdout",
     "output_type": "stream",
     "text": [
      "[ 14.09887251  16.99115044  18.28571429  22.31192661  23.7037037\n",
      "  31.68810916  44.46315789  54.24694105  58.18181818  82.05128205\n",
      "  82.59125964 123.67434716 181.13207547 184.67175573 284.69521411\n",
      " 457.14285714]\n"
     ]
    }
   ],
   "source": [
    "print(si_array)"
   ]
  },
  {
   "cell_type": "code",
   "execution_count": 46,
   "id": "4bacbb97",
   "metadata": {},
   "outputs": [],
   "source": [
    "# required movement of the detector\n",
    "# movements of [0,+50] mm *should* be acceptable without requiring movement of the lens itself\n",
    "\n",
    "resids_detector = np.subtract(si_array,116.05)"
   ]
  },
  {
   "cell_type": "code",
   "execution_count": 48,
   "id": "171ac468",
   "metadata": {},
   "outputs": [],
   "source": [
    "resids_candidates = np.subtract([82.,181.],116.05)"
   ]
  },
  {
   "cell_type": "code",
   "execution_count": 49,
   "id": "5acdfc28",
   "metadata": {},
   "outputs": [
    {
     "name": "stdout",
     "output_type": "stream",
     "text": [
      "[-34.05  64.95]\n"
     ]
    }
   ],
   "source": [
    "print(resids_candidates)"
   ]
  },
  {
   "cell_type": "code",
   "execution_count": null,
   "id": "778be3ee",
   "metadata": {},
   "outputs": [],
   "source": []
  }
 ],
 "metadata": {
  "kernelspec": {
   "display_name": "Python 3",
   "language": "python",
   "name": "python3"
  },
  "language_info": {
   "codemirror_mode": {
    "name": "ipython",
    "version": 3
   },
   "file_extension": ".py",
   "mimetype": "text/x-python",
   "name": "python",
   "nbconvert_exporter": "python",
   "pygments_lexer": "ipython3",
   "version": "3.6.10"
  }
 },
 "nbformat": 4,
 "nbformat_minor": 5
}
