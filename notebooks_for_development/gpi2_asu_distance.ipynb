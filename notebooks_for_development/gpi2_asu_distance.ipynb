{
 "cells": [
  {
   "cell_type": "code",
   "execution_count": null,
   "metadata": {},
   "outputs": [],
   "source": [
    "# This computes necessary distances to move the ASU on GPI, given the entrance\n",
    "# scale of the telescope \n",
    "\n",
    "# Created 2021 May 28 by E.S."
   ]
  },
  {
   "cell_type": "code",
   "execution_count": 6,
   "metadata": {},
   "outputs": [],
   "source": [
    "import numpy as np"
   ]
  },
  {
   "cell_type": "code",
   "execution_count": 2,
   "metadata": {},
   "outputs": [],
   "source": [
    "# input window plate scale \n",
    "\n",
    "ps_input = 1.610 # arcsec/mm"
   ]
  },
  {
   "cell_type": "code",
   "execution_count": 3,
   "metadata": {},
   "outputs": [],
   "source": [
    "# find needed motion (in mm) for N lambda/D\n",
    "\n",
    "N = 4 # lambda/D\n",
    "wavel_lambda = 1.6 # in um\n",
    "D = 7.7701 # in m"
   ]
  },
  {
   "cell_type": "code",
   "execution_count": 8,
   "metadata": {},
   "outputs": [],
   "source": [
    "def move_mm(N,wavel_lambda):\n",
    "    \n",
    "    lambda_D_rad = N*np.divide(np.divide(wavel_lambda,1e6),D) # rad\n",
    "    lambda_D_asec = 206265.*lambda_D_rad\n",
    "    \n",
    "    return lambda_D_asec"
   ]
  },
  {
   "cell_type": "code",
   "execution_count": 9,
   "metadata": {},
   "outputs": [
    {
     "data": {
      "text/plain": [
       "0.08494716927710069"
      ]
     },
     "execution_count": 9,
     "metadata": {},
     "output_type": "execute_result"
    }
   ],
   "source": [
    "move_mm(2,1.6)"
   ]
  },
  {
   "cell_type": "code",
   "execution_count": 14,
   "metadata": {},
   "outputs": [],
   "source": [
    "def decibels_and_mags(input_val, input_mag = False, input_decibel = False):\n",
    "    '''\n",
    "    Converts dB to mag change, or vice versa\n",
    "    \n",
    "    INPUTS:\n",
    "    input_val: input value to convert (either in mags or dB)\n",
    "    input_mag: if True, input value is in mags and output will be in dB\n",
    "    input_decibel: if True, input value is in dB and output will be in mag\n",
    "    '''\n",
    "    \n",
    "    if input_decibel: \n",
    "        \n",
    "        # find power ratio\n",
    "        P_P0 = np.power(10.,np.divide(input_val,10.))\n",
    "        \n",
    "        # convert to delta_mag\n",
    "        output_val = -2.5*np.log10(P_P0)\n",
    "        \n",
    "    return output_val"
   ]
  }
 ],
 "metadata": {
  "kernelspec": {
   "display_name": "Python 3",
   "language": "python",
   "name": "python3"
  },
  "language_info": {
   "codemirror_mode": {
    "name": "ipython",
    "version": 3
   },
   "file_extension": ".py",
   "mimetype": "text/x-python",
   "name": "python",
   "nbconvert_exporter": "python",
   "pygments_lexer": "ipython3",
   "version": "3.6.10"
  }
 },
 "nbformat": 4,
 "nbformat_minor": 4
}
