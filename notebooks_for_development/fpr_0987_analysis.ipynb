{
 "cells": [
  {
   "cell_type": "code",
   "execution_count": null,
   "metadata": {},
   "outputs": [],
   "source": [
    "# This is predecessor code for reading in FITS images and doing other stuff\n",
    "# for analysis pertinent to test FPR 0987\n",
    "\n",
    "# Created 2021 July 6 by E.S."
   ]
  },
  {
   "cell_type": "code",
   "execution_count": 57,
   "metadata": {},
   "outputs": [],
   "source": [
    "from astropy.io import fits\n",
    "import matplotlib.pyplot as plt\n",
    "import photutils\n",
    "from photutils import DAOStarFinder\n",
    "import numpy as np\n",
    "import pandas as pd\n",
    "import glob\n",
    "import os\n",
    "from itertools import combinations\n",
    "\n",
    "%matplotlib qt"
   ]
  },
  {
   "cell_type": "markdown",
   "metadata": {},
   "source": [
    "# Part 1: Read in series of raw IFS images and see if opening and closing the OMSS shutter causes a change in the illumination"
   ]
  },
  {
   "cell_type": "code",
   "execution_count": 33,
   "metadata": {},
   "outputs": [],
   "source": [
    "stem = \"./data/fpr_0987/\""
   ]
  },
  {
   "cell_type": "code",
   "execution_count": 34,
   "metadata": {},
   "outputs": [],
   "source": [
    "file_list_omss = np.sort(glob.glob(stem + \"omss_illumination/reduced/210603/*\"))"
   ]
  },
  {
   "cell_type": "code",
   "execution_count": 45,
   "metadata": {},
   "outputs": [
    {
     "name": "stdout",
     "output_type": "stream",
     "text": [
      "-3.905661\n",
      "CLOSED\n",
      "./data/fpr_0987/omss_illumination/reduced/210603/S20210603E0038_spdc.fits\n",
      "---\n",
      "-4.6150036\n",
      "CLOSED\n",
      "./data/fpr_0987/omss_illumination/reduced/210603/S20210603E0039_spdc.fits\n",
      "---\n",
      "-4.4597006\n",
      "OPEN\n",
      "./data/fpr_0987/omss_illumination/reduced/210603/S20210603E0040_spdc.fits\n",
      "---\n",
      "-3.991497\n",
      "CLOSED\n",
      "./data/fpr_0987/omss_illumination/reduced/210603/S20210603E0041_spdc.fits\n",
      "---\n",
      "-0.9590514\n",
      "OPEN\n",
      "./data/fpr_0987/omss_illumination/reduced/210603/S20210603E0042_spdc.fits\n",
      "---\n",
      "-3.4489512\n",
      "CLOSED\n",
      "./data/fpr_0987/omss_illumination/reduced/210603/S20210603E0043_spdc.fits\n",
      "---\n",
      "-3.8941057\n",
      "OPEN\n",
      "./data/fpr_0987/omss_illumination/reduced/210603/S20210603E0044_spdc.fits\n",
      "---\n",
      "-2.7556005\n",
      "CLOSED\n",
      "./data/fpr_0987/omss_illumination/reduced/210603/S20210603E0045_spdc.fits\n",
      "---\n",
      "-4.3483305\n",
      "OPEN\n",
      "./data/fpr_0987/omss_illumination/reduced/210603/S20210603E0046_spdc.fits\n",
      "---\n",
      "-3.9645283\n",
      "CLOSED\n",
      "./data/fpr_0987/omss_illumination/reduced/210603/S20210603E0047_spdc.fits\n",
      "---\n",
      "-4.6271057\n",
      "OPEN\n",
      "./data/fpr_0987/omss_illumination/reduced/210603/S20210603E0048_spdc.fits\n",
      "---\n",
      "-3.4538007\n",
      "CLOSED\n",
      "./data/fpr_0987/omss_illumination/reduced/210603/S20210603E0049_spdc.fits\n",
      "---\n",
      "-5.6331606\n",
      "OPEN\n",
      "./data/fpr_0987/omss_illumination/reduced/210603/S20210603E0050_spdc.fits\n",
      "---\n",
      "-3.1397057\n",
      "CLOSED\n",
      "./data/fpr_0987/omss_illumination/reduced/210603/S20210603E0051_spdc.fits\n",
      "---\n",
      "-5.1488504\n",
      "OPEN\n",
      "./data/fpr_0987/omss_illumination/reduced/210603/S20210603E0052_spdc.fits\n",
      "---\n",
      "-2.0596337\n",
      "CLOSED\n",
      "./data/fpr_0987/omss_illumination/reduced/210603/S20210603E0053_spdc.fits\n",
      "---\n",
      "-3.8239682\n",
      "OPEN\n",
      "./data/fpr_0987/omss_illumination/reduced/210603/S20210603E0054_spdc.fits\n",
      "---\n",
      "-1.6039591\n",
      "CLOSED\n",
      "./data/fpr_0987/omss_illumination/reduced/210603/S20210603E0055_spdc.fits\n",
      "---\n",
      "-3.4224257\n",
      "OPEN\n",
      "./data/fpr_0987/omss_illumination/reduced/210603/S20210603E0056_spdc.fits\n",
      "---\n",
      "-2.5369892\n",
      "CLOSED\n",
      "./data/fpr_0987/omss_illumination/reduced/210603/S20210603E0057_spdc.fits\n",
      "---\n",
      "-2.5764089\n",
      "OPEN\n",
      "./data/fpr_0987/omss_illumination/reduced/210603/S20210603E0058_spdc.fits\n",
      "---\n",
      "-4.593004\n",
      "CLOSED\n",
      "./data/fpr_0987/omss_illumination/reduced/210603/S20210603E0059_spdc.fits\n",
      "---\n",
      "-5.3021393\n",
      "OPEN\n",
      "./data/fpr_0987/omss_illumination/reduced/210603/S20210603E0060_spdc.fits\n",
      "---\n",
      "-3.5499482\n",
      "CLOSED\n",
      "./data/fpr_0987/omss_illumination/reduced/210603/S20210603E0061_spdc.fits\n",
      "---\n",
      "-2.5532959\n",
      "OPEN\n",
      "./data/fpr_0987/omss_illumination/reduced/210603/S20210603E0062_spdc.fits\n",
      "---\n",
      "-3.8088331\n",
      "CLOSED\n",
      "./data/fpr_0987/omss_illumination/reduced/210603/S20210603E0063_spdc.fits\n",
      "---\n",
      "-4.274657\n",
      "OPEN\n",
      "./data/fpr_0987/omss_illumination/reduced/210603/S20210603E0064_spdc.fits\n",
      "---\n",
      "-5.736411\n",
      "CLOSED\n",
      "./data/fpr_0987/omss_illumination/reduced/210603/S20210603E0065_spdc.fits\n",
      "---\n",
      "-3.8972178\n",
      "OPEN\n",
      "./data/fpr_0987/omss_illumination/reduced/210603/S20210603E0066_spdc.fits\n",
      "---\n",
      "-3.1869664\n",
      "CLOSED\n",
      "./data/fpr_0987/omss_illumination/reduced/210603/S20210603E0067_spdc.fits\n",
      "---\n",
      "-4.940465\n",
      "OPEN\n",
      "./data/fpr_0987/omss_illumination/reduced/210603/S20210603E0068_spdc.fits\n",
      "---\n",
      "-4.81001\n",
      "CLOSED\n",
      "./data/fpr_0987/omss_illumination/reduced/210603/S20210603E0069_spdc.fits\n",
      "---\n",
      "-5.119724\n",
      "OPEN\n",
      "./data/fpr_0987/omss_illumination/reduced/210603/S20210603E0070_spdc.fits\n",
      "---\n",
      "-3.5948021\n",
      "CLOSED\n",
      "./data/fpr_0987/omss_illumination/reduced/210603/S20210603E0071_spdc.fits\n",
      "---\n",
      "-5.021304\n",
      "OPEN\n",
      "./data/fpr_0987/omss_illumination/reduced/210603/S20210603E0072_spdc.fits\n",
      "---\n",
      "-4.6178403\n",
      "CLOSED\n",
      "./data/fpr_0987/omss_illumination/reduced/210603/S20210603E0073_spdc.fits\n",
      "---\n",
      "-2.3880777\n",
      "OPEN\n",
      "./data/fpr_0987/omss_illumination/reduced/210603/S20210603E0074_spdc.fits\n",
      "---\n",
      "-2.1331086\n",
      "CLOSED\n",
      "./data/fpr_0987/omss_illumination/reduced/210603/S20210603E0075_spdc.fits\n",
      "---\n",
      "-3.8633327\n",
      "OPEN\n",
      "./data/fpr_0987/omss_illumination/reduced/210603/S20210603E0076_spdc.fits\n",
      "---\n",
      "-4.707933\n",
      "CLOSED\n",
      "./data/fpr_0987/omss_illumination/reduced/210603/S20210603E0077_spdc.fits\n",
      "---\n",
      "-3.2252884\n",
      "OPEN\n",
      "./data/fpr_0987/omss_illumination/reduced/210603/S20210603E0078_spdc.fits\n",
      "---\n"
     ]
    }
   ],
   "source": [
    "# initialize dictionary\n",
    "dict_status = {\"illum\":[],\"omss\":[]}\n",
    "\n",
    "for fits_num in range(0,len(file_list_omss)):\n",
    "\n",
    "    # read in raw FITS file\n",
    "    hdul = fits.open(file_list_omss[fits_num])\n",
    "    image_array = hdul[1].data[-1]\n",
    "    omss_status = hdul[0].header[\"OMSSENT\"]\n",
    "    \n",
    "    # measure median flux (betting that this minimizes effect of bad pixels)\n",
    "    flux_median = np.nanmedian(image_array) #(image_array[1128:1222,338:505])\n",
    "    print(flux_median)\n",
    "    print(omss_status)\n",
    "    print(file_list_omss[fits_num])\n",
    "    print(\"---\")\n",
    "    \n",
    "    dict_status[\"illum\"].append(flux_median)\n",
    "    dict_status[\"omss\"].append(omss_status)\n",
    "    \n",
    "# convert to dataframe\n",
    "df = pd.DataFrame(dict_status)\n"
   ]
  },
  {
   "cell_type": "code",
   "execution_count": 46,
   "metadata": {},
   "outputs": [
    {
     "data": {
      "image/png": "[encoded data removed]",
      "text/plain": [
       "<Figure size 432x288 with 1 Axes>"
      ]
     },
     "metadata": {
      "needs_background": "light"
     },
     "output_type": "display_data"
    }
   ],
   "source": [
    "plt.plot(df[\"illum\"].where(df[\"omss\"] == \"CLOSED\").dropna(), label=\"Closed\")\n",
    "plt.plot(df[\"illum\"].where(df[\"omss\"] == \"OPEN\").dropna(), label=\"Open\")\n",
    "plt.legend()\n",
    "plt.show()"
   ]
  },
  {
   "cell_type": "code",
   "execution_count": 25,
   "metadata": {},
   "outputs": [
    {
     "data": {
      "text/plain": [
       "0     4.080565\n",
       "1     3.092192\n",
       "2          NaN\n",
       "3     4.343024\n",
       "4          NaN\n",
       "5     4.578074\n",
       "6          NaN\n",
       "7     4.872093\n",
       "8          NaN\n",
       "9     3.936877\n",
       "10         NaN\n",
       "11    4.808969\n",
       "12         NaN\n",
       "13    5.223423\n",
       "14         NaN\n",
       "15    5.661961\n",
       "16         NaN\n",
       "17    6.058139\n",
       "18         NaN\n",
       "19    5.563123\n",
       "20         NaN\n",
       "21    3.632890\n",
       "22         NaN\n",
       "23    4.478405\n",
       "24         NaN\n",
       "25    4.040698\n",
       "26         NaN\n",
       "27    2.490034\n",
       "28         NaN\n",
       "29    4.680233\n",
       "30         NaN\n",
       "31    3.553987\n",
       "32         NaN\n",
       "33    4.488372\n",
       "34         NaN\n",
       "35    3.264120\n",
       "36         NaN\n",
       "37    5.512459\n",
       "38         NaN\n",
       "39    3.479236\n",
       "40         NaN\n",
       "Name: illum, dtype: float64"
      ]
     },
     "execution_count": 25,
     "metadata": {},
     "output_type": "execute_result"
    }
   ],
   "source": [
    "df[\"illum\"].where(df[\"omss\"] == \"CLOSED\")"
   ]
  },
  {
   "cell_type": "markdown",
   "metadata": {},
   "source": [
    "# Part 2: Plot changing illumination of AOWFS filter and \"Show that the flux reduces for each successively narrower filter\""
   ]
  },
  {
   "cell_type": "code",
   "execution_count": 49,
   "metadata": {},
   "outputs": [],
   "source": [
    "# set up data on AOWFS illumination\n",
    "\n",
    "dict_aowfs = {\"filter\":[\"OPEN\",\"600nm\",\"700nm\",\"800nm\",\"900nm\",\"910_to_900nm\"],\"counts\":[2580,2540,2550,2250,805,255]}\n",
    "df_aowfs = pd.DataFrame.from_dict(dict_aowfs)"
   ]
  },
  {
   "cell_type": "code",
   "execution_count": 59,
   "metadata": {},
   "outputs": [],
   "source": [
    "plt.plot(dict_aowfs[\"counts\"],marker=\"o\")\n",
    "for t in range(0,len(dict_aowfs[\"counts\"])):\n",
    "    plt.annotate(dict_aowfs[\"filter\"][t],xy=[t,dict_aowfs[\"counts\"][t]])\n",
    "plt.ylabel(\"AOWFS counts\")\n",
    "plt.xlabel(\"(unitless)\")\n",
    "plt.show()"
   ]
  },
  {
   "cell_type": "markdown",
   "metadata": {},
   "source": [
    "# Part 3: Read in series of IFS images and see if NRM movements were consistent"
   ]
  }
 ],
 "metadata": {
  "kernelspec": {
   "display_name": "Python 3",
   "language": "python",
   "name": "python3"
  },
  "language_info": {
   "codemirror_mode": {
    "name": "ipython",
    "version": 3
   },
   "file_extension": ".py",
   "mimetype": "text/x-python",
   "name": "python",
   "nbconvert_exporter": "python",
   "pygments_lexer": "ipython3",
   "version": "3.6.10"
  }
 },
 "nbformat": 4,
 "nbformat_minor": 4
}
