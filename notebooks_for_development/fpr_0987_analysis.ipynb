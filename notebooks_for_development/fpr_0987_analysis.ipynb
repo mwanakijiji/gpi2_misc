{
 "cells": [
  {
   "cell_type": "code",
   "execution_count": null,
   "metadata": {},
   "outputs": [],
   "source": [
    "# This is predecessor code for reading in FITS images and doing other stuff\n",
    "# for analysis pertinent to test FPR 0987\n",
    "\n",
    "# Created 2021 July 6 by E.S."
   ]
  },
  {
   "cell_type": "code",
   "execution_count": 9,
   "metadata": {},
   "outputs": [],
   "source": [
    "from astropy.io import fits\n",
    "import matplotlib.pyplot as plt\n",
    "import numpy as np\n",
    "import pandas as pd\n",
    "import glob\n",
    "import os\n",
    "from itertools import combinations\n",
    "\n",
    "%matplotlib inline"
   ]
  },
  {
   "cell_type": "markdown",
   "metadata": {},
   "source": [
    "# Part 1: Read in series of raw IFS images and see if opening and closing the OMSS shutter causes a change in the illumination"
   ]
  },
  {
   "cell_type": "code",
   "execution_count": 5,
   "metadata": {},
   "outputs": [],
   "source": [
    "stem = \"./data/fpr_0987/\""
   ]
  },
  {
   "cell_type": "code",
   "execution_count": 6,
   "metadata": {},
   "outputs": [],
   "source": [
    "file_list_omss = np.sort(glob.glob(stem + \"omss_illumination/*20210709*\"))"
   ]
  },
  {
   "cell_type": "code",
   "execution_count": 21,
   "metadata": {},
   "outputs": [
    {
     "name": "stdout",
     "output_type": "stream",
     "text": [
      "59.64639\n",
      "59.64639\n",
      "59.64639\n",
      "59.64639\n",
      "599.37348\n",
      "599.37348\n",
      "599.37348\n",
      "599.37348\n",
      "599.37348\n",
      "599.37348\n",
      "599.37348\n",
      "599.37348\n"
     ]
    }
   ],
   "source": [
    "# initialize dictionary\n",
    "dict_status = {\"illum_median\":[],\"omss\":[],\"illum_mean\":[],\"illum_sum\":[]}\n",
    "\n",
    "for fits_num in range(0,len(file_list_omss)):\n",
    "\n",
    "    # read in raw FITS file\n",
    "    hdul = fits.open(file_list_omss[fits_num])\n",
    "    image_array = hdul[1].data[-1]\n",
    "    omss_status = hdul[0].header[\"OMSSENT\"]\n",
    "    print(hdul[1].header[\"ITIME\"])\n",
    "    \n",
    "    # measure median flux (betting that this minimizes effect of bad pixels)\n",
    "    flux_median = np.nanmedian(image_array) #(image_array[1128:1222,338:505])\n",
    "    flux_mean = np.nanmean(image_array)\n",
    "    flux_sum = np.nansum(image_array)\n",
    "    \n",
    "    dict_status[\"illum_median\"].append(flux_median)\n",
    "    dict_status[\"illum_mean\"].append(flux_mean)\n",
    "    dict_status[\"illum_sum\"].append(flux_sum)\n",
    "    dict_status[\"omss\"].append(omss_status)\n",
    "    \n",
    "# convert to dataframe\n",
    "df = pd.DataFrame(dict_status)\n"
   ]
  },
  {
   "cell_type": "code",
   "execution_count": 28,
   "metadata": {},
   "outputs": [
    {
     "data": {
      "image/png": "[encoded data removed]",
      "text/plain": [
       "<Figure size 720x360 with 1 Axes>"
      ]
     },
     "metadata": {
      "needs_background": "light"
     },
     "output_type": "display_data"
    }
   ],
   "source": [
    "df[\"abcissa\"] = np.arange(0,len(df[\"illum_median\"]))\n",
    "\n",
    "plt.figure(figsize=(10,5))\n",
    "plt.scatter(df[\"abcissa\"].where(df[\"omss\"] == \"CLOSED\").dropna(),df[\"illum_median\"].where(df[\"omss\"] == \"CLOSED\").dropna(), label=\"median counts, Closed\")\n",
    "plt.scatter(df[\"abcissa\"].where(df[\"omss\"] == \"OPEN\").dropna(),df[\"illum_median\"].where(df[\"omss\"] == \"OPEN\").dropna(), label=\"median counts, Open\")\n",
    "plt.scatter(df[\"abcissa\"].where(df[\"omss\"] == \"CLOSED\").dropna(),df[\"illum_mean\"].where(df[\"omss\"] == \"CLOSED\").dropna(), label=\"mean counts, Closed\")\n",
    "plt.scatter(df[\"abcissa\"].where(df[\"omss\"] == \"OPEN\").dropna(),df[\"illum_mean\"].where(df[\"omss\"] == \"OPEN\").dropna(), label=\"mean counts, Open\")\n",
    "plt.axvline(x=3.5, linestyle=\"--\")\n",
    "#plt.plot(df[\"illum_sum\"].where(df[\"omss\"] == \"CLOSED\").dropna(), label=\"sum, Closed\")\n",
    "#plt.plot(df[\"illum_sum\"].where(df[\"omss\"] == \"OPEN\").dropna(), label=\"sum, Open\")\n",
    "plt.legend()\n",
    "plt.xlabel(\"Trial number\")\n",
    "plt.ylabel(\"DN counts\")\n",
    "plt.savefig(\"junk_omss.pdf\")"
   ]
  },
  {
   "cell_type": "markdown",
   "metadata": {},
   "source": [
    "# Part 2: Plot changing illumination of AOWFS filter and \"Show that the flux reduces for each successively narrower filter\""
   ]
  },
  {
   "cell_type": "code",
   "execution_count": 49,
   "metadata": {},
   "outputs": [],
   "source": [
    "# set up data on AOWFS illumination\n",
    "\n",
    "dict_aowfs = {\"filter\":[\"OPEN\",\"600nm\",\"700nm\",\"800nm\",\"900nm\",\"910_to_900nm\"],\"counts\":[2580,2540,2550,2250,805,255]}\n",
    "df_aowfs = pd.DataFrame.from_dict(dict_aowfs)"
   ]
  },
  {
   "cell_type": "code",
   "execution_count": 59,
   "metadata": {},
   "outputs": [],
   "source": [
    "plt.plot(dict_aowfs[\"counts\"],marker=\"o\")\n",
    "for t in range(0,len(dict_aowfs[\"counts\"])):\n",
    "    plt.annotate(dict_aowfs[\"filter\"][t],xy=[t,dict_aowfs[\"counts\"][t]])\n",
    "plt.ylabel(\"AOWFS counts\")\n",
    "plt.xlabel(\"(unitless)\")\n",
    "plt.savefig(\"junk_aowfs.pdf\")"
   ]
  },
  {
   "cell_type": "markdown",
   "metadata": {},
   "source": [
    "# Part 3: Read in series of IFS images and see if NRM movements were consistent"
   ]
  }
 ],
 "metadata": {
  "kernelspec": {
   "display_name": "Python 3",
   "language": "python",
   "name": "python3"
  },
  "language_info": {
   "codemirror_mode": {
    "name": "ipython",
    "version": 3
   },
   "file_extension": ".py",
   "mimetype": "text/x-python",
   "name": "python",
   "nbconvert_exporter": "python",
   "pygments_lexer": "ipython3",
   "version": "3.8.3"
  }
 },
 "nbformat": 4,
 "nbformat_minor": 4
}
