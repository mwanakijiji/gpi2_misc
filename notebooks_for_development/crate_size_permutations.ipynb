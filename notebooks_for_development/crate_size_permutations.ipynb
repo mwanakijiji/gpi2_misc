{
 "cells": [
  {
   "cell_type": "code",
   "execution_count": null,
   "metadata": {},
   "outputs": [],
   "source": [
    "# This is to calculate the volumes which will be needed for storing GPI2 crates\n",
    "\n",
    "# Created 2021 July 22 by E.S."
   ]
  },
  {
   "cell_type": "code",
   "execution_count": 1,
   "metadata": {},
   "outputs": [],
   "source": [
    "import numpy as np\n",
    "import itertools\n",
    "import pandas as pd"
   ]
  },
  {
   "cell_type": "code",
   "execution_count": 2,
   "metadata": {},
   "outputs": [],
   "source": [
    "# dimensions of crate exteriors (in)\n",
    "dims_by_crate = {\"Crate 1\":[111,87,63],\"Crate 2\":[74,58,44],\"Crate 3\":[73,58,44],\"Crate 4\":[118,72,39],\n",
    "                \"Crate 5\":[65,45,32],\"Crate 6\":[26,61,24],\"Crate 7\":[57,43,48],\"Crate 8\":[84,54,43]}\n",
    "\n",
    "# thickness of crate wall (in)\n",
    "slab_thick = 6"
   ]
  },
  {
   "cell_type": "code",
   "execution_count": null,
   "metadata": {},
   "outputs": [],
   "source": [
    "print(\"Crate exterior dims (in): \")\n",
    "print(dims_by_crate)\n",
    "\n",
    "print(\"Thickness of each slab (6 slabs for each crate) (in): \")\n",
    "print(slab_thick)"
   ]
  },
  {
   "cell_type": "code",
   "execution_count": 3,
   "metadata": {},
   "outputs": [],
   "source": [
    "# do permutations and add thickness to get dims of all the slabs, and put into another dict\n",
    "  \n",
    "# initialize dictionary with same keys as before\n",
    "dims_by_slab = {key: [] for key in list(dims_by_crate.keys())}\n",
    "\n",
    "# loop over each crate and append arrays with dimensions of each slab\n",
    "for string_crate in list(dims_by_crate.keys()):\n",
    "    perms_2_this_crate = itertools.combinations(dims_by_crate[string_crate],2)\n",
    "    for perm_this in perms_2_this_crate:\n",
    "        perm_array = np.array(list(perm_this))\n",
    "        perm_array = np.append(perm_array,slab_thick)\n",
    "        dims_by_slab[string_crate].append(perm_array)\n",
    "        dims_by_slab[string_crate].append(perm_array) # a second time, for 2 faces"
   ]
  },
  {
   "cell_type": "code",
   "execution_count": 4,
   "metadata": {},
   "outputs": [],
   "source": [
    "# convert to dataframe\n",
    "\n",
    "df_dims_by_slab = pd.DataFrame.from_dict(dims_by_slab)"
   ]
  },
  {
   "cell_type": "code",
   "execution_count": 17,
   "metadata": {},
   "outputs": [],
   "source": [
    "# rearrange\n",
    "\n",
    "df_sep_dims_of_each_slab = pd.DataFrame(df_dims_by_slab.stack())\n",
    "df_sep_dims_of_each_slab = df_sep_dims_of_each_slab.reset_index(level=-1, inplace=False)\n",
    "df_sep_dims_of_each_slab.columns = [\"parent_crate\",\"dims\"]"
   ]
  },
  {
   "cell_type": "code",
   "execution_count": 22,
   "metadata": {},
   "outputs": [],
   "source": [
    "# split dims\n",
    "\n",
    "df_sep_dims_of_each_slab[[\"slab_l\",\"slab_w\",\"slab_h\"]] = pd.DataFrame(df_sep_dims_of_each_slab.dims.tolist(), \n",
    "                                                       index= df_sep_dims_of_each_slab.index)"
   ]
  },
  {
   "cell_type": "code",
   "execution_count": 23,
   "metadata": {},
   "outputs": [],
   "source": [
    "df_sep_dims_of_each_slab = df_sep_dims_of_each_slab.sort_values(by=\"l\")"
   ]
  },
  {
   "cell_type": "code",
   "execution_count": 24,
   "metadata": {},
   "outputs": [],
   "source": [
    "df_sep_dims_of_each_slab = df_sep_dims_of_each_slab.reset_index(drop=True)"
   ]
  },
  {
   "cell_type": "code",
   "execution_count": 25,
   "metadata": {},
   "outputs": [
    {
     "name": "stdout",
     "output_type": "stream",
     "text": [
      "   parent_crate          dims    l   w  h  slab_l  slab_w  slab_h\n",
      "0       Crate 6   [26, 24, 6]   26  24  6      26      24       6\n",
      "1       Crate 6   [26, 24, 6]   26  24  6      26      24       6\n",
      "2       Crate 6   [26, 61, 6]   26  61  6      26      61       6\n",
      "3       Crate 6   [26, 61, 6]   26  61  6      26      61       6\n",
      "4       Crate 7   [43, 48, 6]   43  48  6      43      48       6\n",
      "5       Crate 7   [43, 48, 6]   43  48  6      43      48       6\n",
      "6       Crate 5   [45, 32, 6]   45  32  6      45      32       6\n",
      "7       Crate 5   [45, 32, 6]   45  32  6      45      32       6\n",
      "8       Crate 8   [54, 43, 6]   54  43  6      54      43       6\n",
      "9       Crate 8   [54, 43, 6]   54  43  6      54      43       6\n",
      "10      Crate 7   [57, 48, 6]   57  48  6      57      48       6\n",
      "11      Crate 7   [57, 43, 6]   57  43  6      57      43       6\n",
      "12      Crate 7   [57, 48, 6]   57  48  6      57      48       6\n",
      "13      Crate 7   [57, 43, 6]   57  43  6      57      43       6\n",
      "14      Crate 2   [58, 44, 6]   58  44  6      58      44       6\n",
      "15      Crate 3   [58, 44, 6]   58  44  6      58      44       6\n",
      "16      Crate 2   [58, 44, 6]   58  44  6      58      44       6\n",
      "17      Crate 3   [58, 44, 6]   58  44  6      58      44       6\n",
      "18      Crate 6   [61, 24, 6]   61  24  6      61      24       6\n",
      "19      Crate 6   [61, 24, 6]   61  24  6      61      24       6\n",
      "20      Crate 5   [65, 32, 6]   65  32  6      65      32       6\n",
      "21      Crate 5   [65, 45, 6]   65  45  6      65      45       6\n",
      "22      Crate 5   [65, 32, 6]   65  32  6      65      32       6\n",
      "23      Crate 5   [65, 45, 6]   65  45  6      65      45       6\n",
      "24      Crate 4   [72, 39, 6]   72  39  6      72      39       6\n",
      "25      Crate 4   [72, 39, 6]   72  39  6      72      39       6\n",
      "26      Crate 3   [73, 44, 6]   73  44  6      73      44       6\n",
      "27      Crate 3   [73, 44, 6]   73  44  6      73      44       6\n",
      "28      Crate 3   [73, 58, 6]   73  58  6      73      58       6\n",
      "29      Crate 3   [73, 58, 6]   73  58  6      73      58       6\n",
      "30      Crate 2   [74, 44, 6]   74  44  6      74      44       6\n",
      "31      Crate 2   [74, 44, 6]   74  44  6      74      44       6\n",
      "32      Crate 2   [74, 58, 6]   74  58  6      74      58       6\n",
      "33      Crate 2   [74, 58, 6]   74  58  6      74      58       6\n",
      "34      Crate 8   [84, 54, 6]   84  54  6      84      54       6\n",
      "35      Crate 8   [84, 54, 6]   84  54  6      84      54       6\n",
      "36      Crate 8   [84, 43, 6]   84  43  6      84      43       6\n",
      "37      Crate 8   [84, 43, 6]   84  43  6      84      43       6\n",
      "38      Crate 1   [87, 63, 6]   87  63  6      87      63       6\n",
      "39      Crate 1   [87, 63, 6]   87  63  6      87      63       6\n",
      "40      Crate 1  [111, 63, 6]  111  63  6     111      63       6\n",
      "41      Crate 1  [111, 63, 6]  111  63  6     111      63       6\n",
      "42      Crate 1  [111, 87, 6]  111  87  6     111      87       6\n",
      "43      Crate 1  [111, 87, 6]  111  87  6     111      87       6\n",
      "44      Crate 4  [118, 72, 6]  118  72  6     118      72       6\n",
      "45      Crate 4  [118, 39, 6]  118  39  6     118      39       6\n",
      "46      Crate 4  [118, 39, 6]  118  39  6     118      39       6\n",
      "47      Crate 4  [118, 72, 6]  118  72  6     118      72       6\n"
     ]
    }
   ],
   "source": [
    "print(df_sep_dims_of_each_slab)"
   ]
  },
  {
   "cell_type": "code",
   "execution_count": null,
   "metadata": {},
   "outputs": [],
   "source": []
  }
 ],
 "metadata": {
  "kernelspec": {
   "display_name": "Python 3",
   "language": "python",
   "name": "python3"
  },
  "language_info": {
   "codemirror_mode": {
    "name": "ipython",
    "version": 3
   },
   "file_extension": ".py",
   "mimetype": "text/x-python",
   "name": "python",
   "nbconvert_exporter": "python",
   "pygments_lexer": "ipython3",
   "version": "3.6.10"
  }
 },
 "nbformat": 4,
 "nbformat_minor": 4
}
