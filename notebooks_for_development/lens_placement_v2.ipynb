{
 "cells": [
  {
   "cell_type": "code",
   "execution_count": null,
   "id": "d6fe213e",
   "metadata": {},
   "outputs": [],
   "source": [
    "# This calculates where a lens should go in GPI to re-image the Lyot stop\n",
    "# in the new PupilCam\n",
    "\n",
    "# Created 2021 Dec 6 by E.S"
   ]
  },
  {
   "cell_type": "code",
   "execution_count": 8,
   "id": "a98b98e5",
   "metadata": {},
   "outputs": [],
   "source": [
    "import numpy as np\n",
    "import pandas as pd\n",
    "import matplotlib.pyplot as plt\n",
    "from itertools import product\n",
    "\n",
    "%matplotlib qt"
   ]
  },
  {
   "cell_type": "code",
   "execution_count": 12,
   "id": "88c64d25",
   "metadata": {},
   "outputs": [],
   "source": [
    "# Try grids of\n",
    "\n",
    "# M: 0.01 to 1\n",
    "\n",
    "M_array = np.linspace(0.01, 1.0, num=100, endpoint=True)"
   ]
  },
  {
   "cell_type": "code",
   "execution_count": 13,
   "id": "a9db9d17",
   "metadata": {},
   "outputs": [
    {
     "name": "stderr",
     "output_type": "stream",
     "text": [
      "/Users/bandari/anaconda3/envs/py36/lib/python3.6/site-packages/ipykernel_launcher.py:1: RuntimeWarning: divide by zero encountered in true_divide\n",
      "  \"\"\"Entry point for launching an IPython kernel.\n"
     ]
    }
   ],
   "source": [
    "alpha_array = np.divide(np.add(106.7*M_array,137.35),np.subtract(1.,M_array))"
   ]
  },
  {
   "cell_type": "code",
   "execution_count": 15,
   "id": "6291b6d0",
   "metadata": {},
   "outputs": [],
   "source": [
    "plt.plot(M_array,alpha_array)\n",
    "plt.show()"
   ]
  },
  {
   "cell_type": "code",
   "execution_count": 17,
   "id": "3b02ca3a",
   "metadata": {},
   "outputs": [],
   "source": [
    "A_const = 137.35\n",
    "B_const = 106.7\n",
    "alpha_array_2 = np.linspace(10., 60., num=100)"
   ]
  },
  {
   "cell_type": "code",
   "execution_count": 18,
   "id": "cc01385f",
   "metadata": {},
   "outputs": [],
   "source": [
    "f_array = np.divide(np.multiply((B_const-alpha_array_2),(A_const-alpha_array_2)),(A_const+B_const))"
   ]
  },
  {
   "cell_type": "code",
   "execution_count": 20,
   "id": "9f76d122",
   "metadata": {},
   "outputs": [],
   "source": [
    "plt.plot(alpha_array_2,f_array)\n",
    "plt.show()"
   ]
  },
  {
   "cell_type": "code",
   "execution_count": 2,
   "id": "f5a6eeb2",
   "metadata": {},
   "outputs": [],
   "source": [
    "# Try grids of\n",
    "\n",
    "# n_l: 1.49 to 1.80\n",
    "# R: 10 mm to 1000 mm\n",
    "\n",
    "n_l_array = np.linspace(1.49, 1.80, num=10, endpoint=True)\n",
    "R_array = np.linspace(10., 1000., num=100, endpoint=True)"
   ]
  },
  {
   "cell_type": "code",
   "execution_count": 3,
   "id": "c6c0f8e3",
   "metadata": {},
   "outputs": [],
   "source": [
    "# Thick lensmaker's formula: 1/f =\n",
    "\n",
    "def thick_lens(n_l_pass, R_pass, d_l_pass):\n",
    "    \n",
    "    f_inv = np.multiply((n_l_pass-1.),((2./R_pass) + \n",
    "                                       np.divide(\n",
    "                                           np.multiply(\n",
    "                                               (n_l_pass-1.),d_l_pass),np.multiply(n_l_pass,np.power(R_pass,2.)))\n",
    "                                      )\n",
    "                       )\n",
    "    \n",
    "    return f_inv"
   ]
  },
  {
   "cell_type": "code",
   "execution_count": 4,
   "id": "f0273e60",
   "metadata": {},
   "outputs": [],
   "source": [
    "# make DataFrame holding permutations of lens parameters\n",
    "\n",
    "df = pd.DataFrame(product(n_l_array, R_array), columns=[\"n_l\",\"R\"])"
   ]
  },
  {
   "cell_type": "code",
   "execution_count": 5,
   "id": "6bb71ba7",
   "metadata": {},
   "outputs": [],
   "source": [
    "# find effective focal length for each combination\n",
    "\n",
    "df[\"f\"] = np.divide(1.,thick_lens(df[\"n_l\"],df[\"R\"],d_l_pass=4.))"
   ]
  },
  {
   "cell_type": "code",
   "execution_count": 6,
   "id": "6d3013f8",
   "metadata": {},
   "outputs": [],
   "source": [
    "# find s_i\n",
    "\n",
    "df[\"s_i\"] = np.multiply(0.65,df[\"f\"])"
   ]
  },
  {
   "cell_type": "code",
   "execution_count": 7,
   "id": "f69b4550",
   "metadata": {},
   "outputs": [],
   "source": [
    "# find minimum acceptable values of alpha\n",
    "\n",
    "df[\"alpha_min\"] = np.subtract(137.35,df[\"s_i\"])"
   ]
  },
  {
   "cell_type": "code",
   "execution_count": 8,
   "id": "b9c508ad",
   "metadata": {},
   "outputs": [],
   "source": [
    "df_physical = df.where(np.logical_and(df[\"alpha_min\"] > 10,df[\"alpha_min\"] < 60)).dropna()"
   ]
  },
  {
   "cell_type": "code",
   "execution_count": 21,
   "id": "2132ae26",
   "metadata": {},
   "outputs": [
    {
     "data": {
      "text/html": [
       "<div>\n",
       "<style scoped>\n",
       "    .dataframe tbody tr th:only-of-type {\n",
       "        vertical-align: middle;\n",
       "    }\n",
       "\n",
       "    .dataframe tbody tr th {\n",
       "        vertical-align: top;\n",
       "    }\n",
       "\n",
       "    .dataframe thead th {\n",
       "        text-align: right;\n",
       "    }\n",
       "</style>\n",
       "<table border=\"1\" class=\"dataframe\">\n",
       "  <thead>\n",
       "    <tr style=\"text-align: right;\">\n",
       "      <th></th>\n",
       "      <th>n_l</th>\n",
       "      <th>R</th>\n",
       "      <th>f</th>\n",
       "      <th>s_i</th>\n",
       "      <th>alpha_min</th>\n",
       "    </tr>\n",
       "  </thead>\n",
       "  <tbody>\n",
       "    <tr>\n",
       "      <th>0</th>\n",
       "      <td>1.49</td>\n",
       "      <td>10.0</td>\n",
       "      <td>9.574359</td>\n",
       "      <td>6.223333</td>\n",
       "      <td>131.126667</td>\n",
       "    </tr>\n",
       "    <tr>\n",
       "      <th>1</th>\n",
       "      <td>1.49</td>\n",
       "      <td>20.0</td>\n",
       "      <td>19.758391</td>\n",
       "      <td>12.842954</td>\n",
       "      <td>124.507046</td>\n",
       "    </tr>\n",
       "    <tr>\n",
       "      <th>2</th>\n",
       "      <td>1.49</td>\n",
       "      <td>30.0</td>\n",
       "      <td>29.955502</td>\n",
       "      <td>19.471077</td>\n",
       "      <td>117.878923</td>\n",
       "    </tr>\n",
       "    <tr>\n",
       "      <th>3</th>\n",
       "      <td>1.49</td>\n",
       "      <td>40.0</td>\n",
       "      <td>40.156043</td>\n",
       "      <td>26.101428</td>\n",
       "      <td>111.248572</td>\n",
       "    </tr>\n",
       "    <tr>\n",
       "      <th>4</th>\n",
       "      <td>1.49</td>\n",
       "      <td>50.0</td>\n",
       "      <td>50.357981</td>\n",
       "      <td>32.732688</td>\n",
       "      <td>104.617312</td>\n",
       "    </tr>\n",
       "    <tr>\n",
       "      <th>...</th>\n",
       "      <td>...</td>\n",
       "      <td>...</td>\n",
       "      <td>...</td>\n",
       "      <td>...</td>\n",
       "      <td>...</td>\n",
       "    </tr>\n",
       "    <tr>\n",
       "      <th>995</th>\n",
       "      <td>1.80</td>\n",
       "      <td>960.0</td>\n",
       "      <td>599.444958</td>\n",
       "      <td>389.639223</td>\n",
       "      <td>-252.289223</td>\n",
       "    </tr>\n",
       "    <tr>\n",
       "      <th>996</th>\n",
       "      <td>1.80</td>\n",
       "      <td>970.0</td>\n",
       "      <td>605.694953</td>\n",
       "      <td>393.701720</td>\n",
       "      <td>-256.351720</td>\n",
       "    </tr>\n",
       "    <tr>\n",
       "      <th>997</th>\n",
       "      <td>1.80</td>\n",
       "      <td>980.0</td>\n",
       "      <td>611.944948</td>\n",
       "      <td>397.764216</td>\n",
       "      <td>-260.414216</td>\n",
       "    </tr>\n",
       "    <tr>\n",
       "      <th>998</th>\n",
       "      <td>1.80</td>\n",
       "      <td>990.0</td>\n",
       "      <td>618.194943</td>\n",
       "      <td>401.826713</td>\n",
       "      <td>-264.476713</td>\n",
       "    </tr>\n",
       "    <tr>\n",
       "      <th>999</th>\n",
       "      <td>1.80</td>\n",
       "      <td>1000.0</td>\n",
       "      <td>624.444938</td>\n",
       "      <td>405.889210</td>\n",
       "      <td>-268.539210</td>\n",
       "    </tr>\n",
       "  </tbody>\n",
       "</table>\n",
       "<p>1000 rows × 5 columns</p>\n",
       "</div>"
      ],
      "text/plain": [
       "      n_l       R           f         s_i   alpha_min\n",
       "0    1.49    10.0    9.574359    6.223333  131.126667\n",
       "1    1.49    20.0   19.758391   12.842954  124.507046\n",
       "2    1.49    30.0   29.955502   19.471077  117.878923\n",
       "3    1.49    40.0   40.156043   26.101428  111.248572\n",
       "4    1.49    50.0   50.357981   32.732688  104.617312\n",
       "..    ...     ...         ...         ...         ...\n",
       "995  1.80   960.0  599.444958  389.639223 -252.289223\n",
       "996  1.80   970.0  605.694953  393.701720 -256.351720\n",
       "997  1.80   980.0  611.944948  397.764216 -260.414216\n",
       "998  1.80   990.0  618.194943  401.826713 -264.476713\n",
       "999  1.80  1000.0  624.444938  405.889210 -268.539210\n",
       "\n",
       "[1000 rows x 5 columns]"
      ]
     },
     "execution_count": 21,
     "metadata": {},
     "output_type": "execute_result"
    }
   ],
   "source": [
    "df"
   ]
  },
  {
   "cell_type": "code",
   "execution_count": 18,
   "id": "a166813e",
   "metadata": {},
   "outputs": [
    {
     "data": {
      "text/plain": [
       "n_l            1.662222\n",
       "R            240.000000\n",
       "f            180.608440\n",
       "s_i          117.395486\n",
       "alpha_min     19.954514\n",
       "Name: 523, dtype: float64"
      ]
     },
     "execution_count": 18,
     "metadata": {},
     "output_type": "execute_result"
    }
   ],
   "source": [
    "df_physical.iloc[50]"
   ]
  },
  {
   "cell_type": "code",
   "execution_count": 20,
   "id": "a66ed86d",
   "metadata": {},
   "outputs": [
    {
     "data": {
      "image/png": "[encoded data removed]",
      "text/plain": [
       "<Figure size 432x288 with 1 Axes>"
      ]
     },
     "metadata": {
      "needs_background": "light"
     },
     "output_type": "display_data"
    }
   ],
   "source": [
    "plt.hist(df_physical[\"alpha_min\"], bins=100)\n",
    "plt.xlabel(\"Min. alpha (mm)\")\n",
    "plt.title(\"histogram\")\n",
    "plt.savefig(\"junk.pdf\")"
   ]
  },
  {
   "cell_type": "code",
   "execution_count": 24,
   "id": "9fbadf9e",
   "metadata": {},
   "outputs": [
    {
     "data": {
      "image/png": "[encoded data removed]",
      "text/plain": [
       "<Figure size 432x288 with 1 Axes>"
      ]
     },
     "metadata": {
      "needs_background": "light"
     },
     "output_type": "display_data"
    }
   ],
   "source": [
    "plt.hist(df_physical[\"n_l\"], bins=100)\n",
    "plt.xlabel(\"index of refraction n_l\")\n",
    "plt.title(\"histogram\")\n",
    "plt.savefig(\"junk.pdf\")"
   ]
  },
  {
   "cell_type": "code",
   "execution_count": 23,
   "id": "0b22b2da",
   "metadata": {},
   "outputs": [
    {
     "data": {
      "image/png": "[encoded data removed]",
      "text/plain": [
       "<Figure size 432x288 with 1 Axes>"
      ]
     },
     "metadata": {
      "needs_background": "light"
     },
     "output_type": "display_data"
    }
   ],
   "source": [
    "plt.hist(df_physical[\"R\"], bins=100)\n",
    "plt.xlabel(\"radii of curvature\")\n",
    "plt.title(\"histogram\")\n",
    "plt.savefig(\"junk.pdf\")"
   ]
  },
  {
   "cell_type": "code",
   "execution_count": null,
   "id": "b54125a0",
   "metadata": {},
   "outputs": [],
   "source": []
  }
 ],
 "metadata": {
  "kernelspec": {
   "display_name": "Python 3",
   "language": "python",
   "name": "python3"
  },
  "language_info": {
   "codemirror_mode": {
    "name": "ipython",
    "version": 3
   },
   "file_extension": ".py",
   "mimetype": "text/x-python",
   "name": "python",
   "nbconvert_exporter": "python",
   "pygments_lexer": "ipython3",
   "version": "3.6.10"
  }
 },
 "nbformat": 4,
 "nbformat_minor": 5
}
