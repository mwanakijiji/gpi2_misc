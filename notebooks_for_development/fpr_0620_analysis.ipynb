{
 "cells": [
  {
   "cell_type": "code",
   "execution_count": 7,
   "metadata": {},
   "outputs": [],
   "source": [
    "# This reads in FITS-format files of the GPI1 filter transmission curves, then fits them\n",
    "# to spectra of corresponding bands in IFS images to determine approximate spectral resolution.\n",
    "\n",
    "# The IFS illuminations are simply a broadband source as seen through a particular filter. They\n",
    "# are not of calibration lamps, which are not available to us---so this procedure finds resolution\n",
    "# only in this makeshift, approximate way.\n",
    "\n",
    "# Created 2021 June 29 by E.S."
   ]
  },
  {
   "cell_type": "code",
   "execution_count": 1,
   "metadata": {},
   "outputs": [],
   "source": [
    "from astropy.io import fits\n",
    "import matplotlib.pyplot as plt\n",
    "import numpy as np\n",
    "from astropy.table import Table\n",
    "import glob\n",
    "from scipy.interpolate import UnivariateSpline\n",
    "\n",
    "%matplotlib qt"
   ]
  },
  {
   "cell_type": "code",
   "execution_count": 3,
   "metadata": {},
   "outputs": [],
   "source": [
    "stem = \"/Users/bandari/Documents/git.repos/gpi2_dst\"\n",
    "#stem = \"/Users/bandari/Desktop/dst_data\"\n",
    "\n",
    "stem_ifs_data = \"/Users/bandari/Documents/git.repos/gpi2_misc/notebooks_for_development/data/fpr_0620/\""
   ]
  },
  {
   "cell_type": "code",
   "execution_count": 4,
   "metadata": {},
   "outputs": [],
   "source": [
    "# original GPI1 filters\n",
    "\n",
    "leaf_H = \"/detector_data/GPI-filter-H.fits\"\n",
    "leaf_J = \"/detector_data/GPI-filter-J.fits\"\n",
    "leaf_K1 = \"/detector_data/GPI-filter-K1.fits\"\n",
    "leaf_K2 = \"/detector_data/GPI-filter-K2.fits\"\n",
    "leaf_Y = \"/detector_data/GPI-filter-Y.fits\""
   ]
  },
  {
   "cell_type": "code",
   "execution_count": 5,
   "metadata": {},
   "outputs": [],
   "source": [
    "def single_spec_frame(dir_pass):\n",
    "    '''\n",
    "    Reads in all the IFS frames in a directory and returns a median\n",
    "    '''\n",
    "    \n",
    "    file_list = glob.glob(dir_pass + \"*fits\")\n",
    "    \n",
    "    # initialize cube\n",
    "    cube_arrays = np.zeros((len(file_list),2048,2048))\n",
    "    \n",
    "    for file_num in range(0,len(file_list)):\n",
    "        \n",
    "        hdul = fits.open(file_list[file_num])        \n",
    "        cube_arrays[file_num,:,:] = hdul[1].data\n",
    "        \n",
    "    # take median\n",
    "    median_array = np.nanmedian(cube_arrays, axis = 0)\n",
    "    \n",
    "    return median_array"
   ]
  },
  {
   "cell_type": "code",
   "execution_count": 6,
   "metadata": {},
   "outputs": [],
   "source": [
    "# now cut out small spectra in each band"
   ]
  },
  {
   "cell_type": "code",
   "execution_count": 7,
   "metadata": {},
   "outputs": [],
   "source": [
    "y_median = single_spec_frame(stem_ifs_data + \"Y_band/\")\n",
    "y_snippet = y_median[1057:1073,1125:1130]\n",
    "\n",
    "# take 1D profile\n",
    "y_band_1d = np.max(y_snippet,axis=1)"
   ]
  },
  {
   "cell_type": "code",
   "execution_count": 8,
   "metadata": {},
   "outputs": [],
   "source": [
    "j_median = single_spec_frame(stem_ifs_data + \"J_band/\")\n",
    "j_snippet = j_median[1046:1068,1125:1130]\n",
    "\n",
    "# take 1D profile\n",
    "j_band_1d = np.max(j_snippet,axis=1)"
   ]
  },
  {
   "cell_type": "code",
   "execution_count": 9,
   "metadata": {},
   "outputs": [],
   "source": [
    "h_median = single_spec_frame(stem_ifs_data + \"H_band/\")\n",
    "h_snippet = h_median[1044:1065,1123:1129]\n",
    "\n",
    "# take 1D profile\n",
    "h_band_1d = np.max(h_snippet,axis=1)"
   ]
  },
  {
   "cell_type": "code",
   "execution_count": 10,
   "metadata": {},
   "outputs": [],
   "source": [
    "k1_median = single_spec_frame(stem_ifs_data + \"K1_band/\")\n",
    "k1_snippet = k1_median[1038:1049,1113:1120]\n",
    "\n",
    "# take 1D profile\n",
    "k1_band_1d = np.max(k1_snippet,axis=1)"
   ]
  },
  {
   "cell_type": "code",
   "execution_count": 11,
   "metadata": {},
   "outputs": [],
   "source": [
    "# can't see illumination by eye\n",
    "\n",
    "k2_median = single_spec_frame(stem_ifs_data + \"K2_band/\")\n",
    "k2_snippet = k2_median[1046:1065,1125:1130]"
   ]
  },
  {
   "cell_type": "code",
   "execution_count": 61,
   "metadata": {},
   "outputs": [],
   "source": [
    "# returns arguments around the zeros\n",
    "\n",
    "num_samples = 1000\n",
    "def return_half_trans(band_trans_pass):\n",
    "\n",
    "    x, y = np.arange(len(band_trans_pass)), band_trans_pass\n",
    "    w = np.isnan(y)\n",
    "    y[w] = 0.\n",
    "    spl = UnivariateSpline(x, y, w=~w)\n",
    "    \n",
    "    xs = np.linspace(0, len(band_trans_pass), num_samples)\n",
    "    #plt.plot(xs, spl(xs), 'g', lw=3)\n",
    "    #plt.plot(x,y)\n",
    "    #plt.show()\n",
    "    \n",
    "    half_trans_y = np.subtract(band_trans_pass,np.max(band_trans_pass))\n",
    "    \n",
    "    #print(np.max(band_trans_pass))\n",
    "    #print(spl(xs))\n",
    "    #print(np.abs(np.subtract(spl(xs),0.5*np.max(band_trans_pass))))\n",
    "    idx_list = np.argsort(np.abs(np.subtract(spl(xs),0.5*np.max(band_trans_pass))))[:20]\n",
    "    \n",
    "    print(\"indices of interpolation\")\n",
    "    print(idx_list)\n",
    "    \n",
    "    print(\"height of snippet (pixels)\")\n",
    "    print(len(band_trans_pass))\n",
    "\n",
    "    return"
   ]
  },
  {
   "cell_type": "code",
   "execution_count": 62,
   "metadata": {},
   "outputs": [
    {
     "name": "stdout",
     "output_type": "stream",
     "text": [
      "indices of interpolation\n",
      "[475 762 474 763 476 761 473 764 760 472 477 765 471 759 478 766 470 758\n",
      " 479 358]\n",
      "height of snippet (pixels)\n",
      "16\n"
     ]
    }
   ],
   "source": [
    "return_half_trans(y_band_1d)"
   ]
  },
  {
   "cell_type": "code",
   "execution_count": 63,
   "metadata": {},
   "outputs": [
    {
     "name": "stdout",
     "output_type": "stream",
     "text": [
      "indices of interpolation\n",
      "[509 508 510 507 511 506 512 505 513 504 514 503 502 515 501 516 105 500\n",
      " 517 499]\n",
      "height of snippet (pixels)\n",
      "22\n"
     ]
    }
   ],
   "source": [
    "return_half_trans(j_band_1d)"
   ]
  },
  {
   "cell_type": "code",
   "execution_count": 64,
   "metadata": {},
   "outputs": [
    {
     "name": "stdout",
     "output_type": "stream",
     "text": [
      "indices of interpolation\n",
      "[794 795 793  72  73 796 792 797 791 798 790 799  71 789  74 800 788 801\n",
      " 787 802]\n",
      "height of snippet (pixels)\n",
      "21\n"
     ]
    }
   ],
   "source": [
    "return_half_trans(h_band_1d)"
   ]
  },
  {
   "cell_type": "code",
   "execution_count": 65,
   "metadata": {},
   "outputs": [
    {
     "name": "stdout",
     "output_type": "stream",
     "text": [
      "indices of interpolation\n",
      "[596 312 595 313 597 594 311 314 598 593 310 599 315 592 309 600 316 591\n",
      " 601 308]\n",
      "height of snippet (pixels)\n",
      "11\n"
     ]
    }
   ],
   "source": [
    "return_half_trans(k1_band_1d)"
   ]
  },
  {
   "cell_type": "code",
   "execution_count": 66,
   "metadata": {},
   "outputs": [
    {
     "ename": "NameError",
     "evalue": "name 'k2_band_1d' is not defined",
     "output_type": "error",
     "traceback": [
      "\u001b[0;31m---------------------------------------------------------------------------\u001b[0m",
      "\u001b[0;31mNameError\u001b[0m                                 Traceback (most recent call last)",
      "\u001b[0;32m<ipython-input-66-d6e72ff13792>\u001b[0m in \u001b[0;36m<module>\u001b[0;34m\u001b[0m\n\u001b[0;32m----> 1\u001b[0;31m \u001b[0mreturn_half_trans\u001b[0m\u001b[0;34m(\u001b[0m\u001b[0mk2_band_1d\u001b[0m\u001b[0;34m)\u001b[0m\u001b[0;34m\u001b[0m\u001b[0;34m\u001b[0m\u001b[0m\n\u001b[0m",
      "\u001b[0;31mNameError\u001b[0m: name 'k2_band_1d' is not defined"
     ]
    }
   ],
   "source": [
    "return_half_trans(k2_band_1d)"
   ]
  },
  {
   "cell_type": "code",
   "execution_count": 55,
   "metadata": {},
   "outputs": [],
   "source": [
    "# convert to width in pixel\n",
    "\n",
    "def indices_2_pixels(arg1_pass,arg2_pass,snippet_height_pixels):\n",
    "    \n",
    "    # find filter transmission width, in terms of pixels\n",
    "    trans_width_pixels = snippet_height_pixels*np.divide(np.subtract(arg2_pass,arg1_pass),num_samples)\n",
    "    #trans_width_pixels = np.divide(trans_width_finesampling,(num_samples)) # CONVERT HERE\n",
    "    \n",
    "    print(\"Filter width (pixels):\")\n",
    "    print(trans_width_pixels)"
   ]
  },
  {
   "cell_type": "code",
   "execution_count": 67,
   "metadata": {},
   "outputs": [
    {
     "name": "stdout",
     "output_type": "stream",
     "text": [
      "Y\n",
      "Filter width (pixels):\n",
      "4.592\n",
      "----\n"
     ]
    }
   ],
   "source": [
    "# y\n",
    "print(\"Y\")\n",
    "indices_2_pixels(475,762,16)\n",
    "print(\"----\")"
   ]
  },
  {
   "cell_type": "code",
   "execution_count": 68,
   "metadata": {},
   "outputs": [
    {
     "name": "stdout",
     "output_type": "stream",
     "text": [
      "J\n",
      "Filter width (pixels):\n",
      "8.888\n",
      "----\n"
     ]
    }
   ],
   "source": [
    "# j\n",
    "print(\"J\")\n",
    "indices_2_pixels(105,509,22)\n",
    "print(\"----\")"
   ]
  },
  {
   "cell_type": "code",
   "execution_count": 69,
   "metadata": {},
   "outputs": [
    {
     "name": "stdout",
     "output_type": "stream",
     "text": [
      "h\n",
      "Filter width (pixels):\n",
      "15.161999999999999\n",
      "----\n"
     ]
    }
   ],
   "source": [
    "# h\n",
    "print(\"h\")\n",
    "indices_2_pixels(72,794,21)\n",
    "print(\"----\")"
   ]
  },
  {
   "cell_type": "code",
   "execution_count": 70,
   "metadata": {},
   "outputs": [
    {
     "name": "stdout",
     "output_type": "stream",
     "text": [
      "k1\n",
      "Filter width (pixels):\n",
      "3.1239999999999997\n",
      "----\n"
     ]
    }
   ],
   "source": [
    "# k1\n",
    "print(\"k1\")\n",
    "indices_2_pixels(312,596,11)\n",
    "print(\"----\")"
   ]
  },
  {
   "cell_type": "code",
   "execution_count": 95,
   "metadata": {},
   "outputs": [],
   "source": [
    "# returns arguments around the zeros\n",
    "\n",
    "def return_half_filter(wavel_pass, filter_trans_pass):\n",
    "    \n",
    "    #print(np.max(band_trans_pass))\n",
    "    #print(spl(xs))\n",
    "    #print(np.abs(np.subtract(spl(xs),0.5*np.max(band_trans_pass))))\n",
    "    idx_list = np.argsort(np.abs(np.subtract(filter_trans_pass,0.5*np.max(filter_trans_pass))))[:10]\n",
    "    \n",
    "    print(\"indices of interpolation\")\n",
    "    print(idx_list)\n",
    "    \n",
    "    print(\"height of filter_trans_pass (pixels)\")\n",
    "    print(len(filter_trans_pass))\n",
    "    \n",
    "    print(\"Wavelength discretion:\")\n",
    "    print(np.median(np.subtract(wavel_pass,np.roll(wavel_pass,1))))\n",
    "\n",
    "    return"
   ]
  },
  {
   "cell_type": "code",
   "execution_count": 96,
   "metadata": {},
   "outputs": [],
   "source": [
    "def plot_transmission(file_name_leaf):\n",
    "    '''\n",
    "    Reads in FITS file filter transmission and plots it\n",
    "    \n",
    "    INPUTS:\n",
    "    file_name_leaf: leaf of file name beyond the 'stem' set above\n",
    "    '''\n",
    "    \n",
    "    hdul = fits.open(stem + file_name_leaf)\n",
    "    \n",
    "    # print some things\n",
    "    print(hdul.info())\n",
    "    print(hdul[1].columns)\n",
    "    \n",
    "    # convert to table\n",
    "    evt_data = Table(hdul[1].data, names=[\"wavel\", \"transm\"])\n",
    "    \n",
    "    print((len(np.squeeze(evt_data[\"wavel\"].data))))\n",
    "    \n",
    "    # plot\n",
    "    wavel = np.squeeze(evt_data[\"wavel\"].data)\n",
    "    transm = np.squeeze(evt_data[\"transm\"].data)\n",
    "    '''\n",
    "    plt.plot(wavel,transm)\n",
    "    plt.show()\n",
    "    '''\n",
    "    \n",
    "    return wavel, transm"
   ]
  },
  {
   "cell_type": "code",
   "execution_count": 101,
   "metadata": {},
   "outputs": [],
   "source": [
    "# convert to width in wavel\n",
    "\n",
    "def indices_2_wavel(arg1_pass,arg2_pass,wavel_discret):\n",
    "    \n",
    "    # find filter transmission width, in terms of pixels\n",
    "    trans_width_wavel = wavel_discret*np.subtract(arg2_pass,arg1_pass)\n",
    "    #trans_width_pixels = np.divide(trans_width_finesampling,(num_samples)) # CONVERT HERE\n",
    "    \n",
    "    print(\"Filter width (wavel):\")\n",
    "    print(trans_width_wavel)"
   ]
  },
  {
   "cell_type": "code",
   "execution_count": 105,
   "metadata": {},
   "outputs": [],
   "source": [
    "def res_ifs(cent_wavel,del_wavel,del_pixels):\n",
    "    \n",
    "    # convert wavelength to pixels; this is delta_lambda\n",
    "    delta_lambda = np.divide(del_wavel,del_pixels)\n",
    "    \n",
    "    print(\"resolution:\")\n",
    "    print(np.divide(cent_wavel,delta_lambda))"
   ]
  },
  {
   "cell_type": "markdown",
   "metadata": {},
   "source": [
    "## Y-band"
   ]
  },
  {
   "cell_type": "code",
   "execution_count": 102,
   "metadata": {},
   "outputs": [
    {
     "name": "stdout",
     "output_type": "stream",
     "text": [
      "Filename: /Users/bandari/Documents/git.repos/gpi2_dst/detector_data/GPI-filter-Y.fits\n",
      "No.    Name      Ver    Type      Cards   Dimensions   Format\n",
      "  0  PRIMARY       1 PrimaryHDU       9   ()      \n",
      "  1                1 BinTableHDU     21   1R x 2C   [2001E, 2001E]   \n",
      "None\n",
      "ColDefs(\n",
      "    name = 'WAVELENGTH'; format = '2001E'\n",
      "    name = 'TRANSMISSION'; format = '2001E'\n",
      ")\n",
      "2001\n",
      "indices of interpolation\n",
      "[1189  245  244 1190  246 1191 1188  243  247 1187]\n",
      "height of filter_trans_pass (pixels)\n",
      "2001\n",
      "Wavelength discretion:\n",
      "0.00020003319\n"
     ]
    }
   ],
   "source": [
    "wavel_Y, transm_Y = plot_transmission(leaf_Y)\n",
    "return_half_filter(wavel_Y, transm_Y)"
   ]
  },
  {
   "cell_type": "code",
   "execution_count": 103,
   "metadata": {},
   "outputs": [
    {
     "name": "stdout",
     "output_type": "stream",
     "text": [
      "Filter width (wavel):\n",
      "0.18883133136\n"
     ]
    }
   ],
   "source": [
    "indices_2_wavel(245,1189,0.00020003319)"
   ]
  },
  {
   "cell_type": "code",
   "execution_count": 106,
   "metadata": {},
   "outputs": [
    {
     "name": "stdout",
     "output_type": "stream",
     "text": [
      "resolution:\n",
      "25.463376047660145\n"
     ]
    }
   ],
   "source": [
    "res_ifs(1.0471,0.18883133136,4.592)"
   ]
  },
  {
   "cell_type": "markdown",
   "metadata": {},
   "source": [
    "## J-band"
   ]
  },
  {
   "cell_type": "code",
   "execution_count": 108,
   "metadata": {},
   "outputs": [
    {
     "name": "stdout",
     "output_type": "stream",
     "text": [
      "Filename: /Users/bandari/Documents/git.repos/gpi2_dst/detector_data/GPI-filter-J.fits\n",
      "No.    Name      Ver    Type      Cards   Dimensions   Format\n",
      "  0  PRIMARY       1 PrimaryHDU       9   ()      \n",
      "  1                1 BinTableHDU     21   1R x 2C   [2501E, 2501E]   \n",
      "None\n",
      "ColDefs(\n",
      "    name = 'WAVELENGTH'; format = '2501E'\n",
      "    name = 'TRANSMISSION'; format = '2501E'\n",
      ")\n",
      "2501\n",
      "indices of interpolation\n",
      "[1727  590  591 1726  592  589  593 1728  588  594]\n",
      "height of filter_trans_pass (pixels)\n",
      "2501\n",
      "Wavelength discretion:\n",
      "0.00020003319\n"
     ]
    }
   ],
   "source": [
    "wavel_J, transm_J = plot_transmission(leaf_J)\n",
    "return_half_filter(wavel_J, transm_J)"
   ]
  },
  {
   "cell_type": "code",
   "execution_count": 110,
   "metadata": {},
   "outputs": [
    {
     "name": "stdout",
     "output_type": "stream",
     "text": [
      "Filter width (wavel):\n",
      "0.22743773702999998\n"
     ]
    }
   ],
   "source": [
    "indices_2_wavel(590,1727,0.00020003319)"
   ]
  },
  {
   "cell_type": "code",
   "execution_count": 112,
   "metadata": {},
   "outputs": [
    {
     "name": "stdout",
     "output_type": "stream",
     "text": [
      "resolution:\n",
      "48.238904164583886\n"
     ]
    }
   ],
   "source": [
    "res_ifs(cent_wavel=1.2344,del_wavel=0.22743773702999998,del_pixels=8.888)"
   ]
  },
  {
   "cell_type": "markdown",
   "metadata": {},
   "source": [
    "## H-band"
   ]
  },
  {
   "cell_type": "code",
   "execution_count": 113,
   "metadata": {},
   "outputs": [
    {
     "name": "stdout",
     "output_type": "stream",
     "text": [
      "Filename: /Users/bandari/Documents/git.repos/gpi2_dst/detector_data/GPI-filter-H.fits\n",
      "No.    Name      Ver    Type      Cards   Dimensions   Format\n",
      "  0  PRIMARY       1 PrimaryHDU       9   ()      \n",
      "  1                1 BinTableHDU     21   1R x 2C   [2501E, 2501E]   \n",
      "None\n",
      "ColDefs(\n",
      "    name = 'WAVELENGTH'; format = '2501E'\n",
      "    name = 'TRANSMISSION'; format = '2501E'\n",
      ")\n",
      "2501\n",
      "indices of interpolation\n",
      "[ 476 1968 1967 1969 1966 1970  475 1965  474  477]\n",
      "height of filter_trans_pass (pixels)\n",
      "2501\n",
      "Wavelength discretion:\n",
      "0.00020003319\n"
     ]
    }
   ],
   "source": [
    "wavel_H, transm_H = plot_transmission(leaf_H)\n",
    "return_half_filter(wavel_H, transm_H)"
   ]
  },
  {
   "cell_type": "code",
   "execution_count": 114,
   "metadata": {},
   "outputs": [
    {
     "name": "stdout",
     "output_type": "stream",
     "text": [
      "Filter width (wavel):\n",
      "0.29844951948\n"
     ]
    }
   ],
   "source": [
    "indices_2_wavel(arg1_pass=476,arg2_pass=1968,wavel_discret=0.00020003319)"
   ]
  },
  {
   "cell_type": "code",
   "execution_count": 115,
   "metadata": {},
   "outputs": [
    {
     "name": "stdout",
     "output_type": "stream",
     "text": [
      "resolution:\n",
      "83.68197892733963\n"
     ]
    }
   ],
   "source": [
    "res_ifs(cent_wavel=1.6472,del_wavel=0.29844951948,del_pixels=15.161999999999999)"
   ]
  },
  {
   "cell_type": "markdown",
   "metadata": {},
   "source": [
    "## K1-band"
   ]
  },
  {
   "cell_type": "code",
   "execution_count": 116,
   "metadata": {},
   "outputs": [
    {
     "name": "stdout",
     "output_type": "stream",
     "text": [
      "Filename: /Users/bandari/Documents/git.repos/gpi2_dst/detector_data/GPI-filter-K1.fits\n",
      "No.    Name      Ver    Type      Cards   Dimensions   Format\n",
      "  0  PRIMARY       1 PrimaryHDU       9   ()      \n",
      "  1                1 BinTableHDU     21   1R x 2C   [3501E, 3501E]   \n",
      "None\n",
      "ColDefs(\n",
      "    name = 'WAVELENGTH'; format = '3501E'\n",
      "    name = 'TRANSMISSION'; format = '3501E'\n",
      ")\n",
      "3501\n",
      "indices of interpolation\n",
      "[ 997 2431  996  998 2430  995 2432  999 2429 1000]\n",
      "height of filter_trans_pass (pixels)\n",
      "3501\n",
      "Wavelength discretion:\n",
      "0.00020003319\n"
     ]
    }
   ],
   "source": [
    "wavel_K1, transm_K1 = plot_transmission(leaf_K1)\n",
    "return_half_filter(wavel_K1, transm_K1)"
   ]
  },
  {
   "cell_type": "code",
   "execution_count": 117,
   "metadata": {},
   "outputs": [
    {
     "name": "stdout",
     "output_type": "stream",
     "text": [
      "Filter width (wavel):\n",
      "0.28684759445999997\n"
     ]
    }
   ],
   "source": [
    "indices_2_wavel(arg1_pass=997,arg2_pass=2431,wavel_discret=0.00020003319)"
   ]
  },
  {
   "cell_type": "code",
   "execution_count": 118,
   "metadata": {},
   "outputs": [
    {
     "name": "stdout",
     "output_type": "stream",
     "text": [
      "resolution:\n",
      "22.243371474010164\n"
     ]
    }
   ],
   "source": [
    "res_ifs(cent_wavel=2.0424,del_wavel=0.28684759445999997,del_pixels=3.1239999999999997)"
   ]
  },
  {
   "cell_type": "code",
   "execution_count": null,
   "metadata": {},
   "outputs": [],
   "source": [
    "############"
   ]
  },
  {
   "cell_type": "code",
   "execution_count": 81,
   "metadata": {},
   "outputs": [
    {
     "name": "stdout",
     "output_type": "stream",
     "text": [
      "Filename: /Users/bandari/Documents/git.repos/gpi2_dst/detector_data/GPI-filter-J.fits\n",
      "No.    Name      Ver    Type      Cards   Dimensions   Format\n",
      "  0  PRIMARY       1 PrimaryHDU       9   ()      \n",
      "  1                1 BinTableHDU     21   1R x 2C   [2501E, 2501E]   \n",
      "None\n",
      "ColDefs(\n",
      "    name = 'WAVELENGTH'; format = '2501E'\n",
      "    name = 'TRANSMISSION'; format = '2501E'\n",
      ")\n",
      "2501\n"
     ]
    }
   ],
   "source": [
    "wavel_J, transm_J = plot_transmission(leaf_J)"
   ]
  },
  {
   "cell_type": "code",
   "execution_count": 82,
   "metadata": {},
   "outputs": [
    {
     "name": "stdout",
     "output_type": "stream",
     "text": [
      "Filename: /Users/bandari/Documents/git.repos/gpi2_dst/detector_data/GPI-filter-H.fits\n",
      "No.    Name      Ver    Type      Cards   Dimensions   Format\n",
      "  0  PRIMARY       1 PrimaryHDU       9   ()      \n",
      "  1                1 BinTableHDU     21   1R x 2C   [2501E, 2501E]   \n",
      "None\n",
      "ColDefs(\n",
      "    name = 'WAVELENGTH'; format = '2501E'\n",
      "    name = 'TRANSMISSION'; format = '2501E'\n",
      ")\n",
      "2501\n"
     ]
    }
   ],
   "source": [
    "wavel_J, transm_J = plot_transmission(leaf_H)"
   ]
  },
  {
   "cell_type": "code",
   "execution_count": 83,
   "metadata": {},
   "outputs": [
    {
     "name": "stdout",
     "output_type": "stream",
     "text": [
      "Filename: /Users/bandari/Documents/git.repos/gpi2_dst/detector_data/GPI-filter-K1.fits\n",
      "No.    Name      Ver    Type      Cards   Dimensions   Format\n",
      "  0  PRIMARY       1 PrimaryHDU       9   ()      \n",
      "  1                1 BinTableHDU     21   1R x 2C   [3501E, 3501E]   \n",
      "None\n",
      "ColDefs(\n",
      "    name = 'WAVELENGTH'; format = '3501E'\n",
      "    name = 'TRANSMISSION'; format = '3501E'\n",
      ")\n",
      "3501\n"
     ]
    }
   ],
   "source": [
    "wavel_J, transm_J = plot_transmission(leaf_K1)"
   ]
  },
  {
   "cell_type": "code",
   "execution_count": 84,
   "metadata": {},
   "outputs": [
    {
     "name": "stdout",
     "output_type": "stream",
     "text": [
      "Filename: /Users/bandari/Documents/git.repos/gpi2_dst/detector_data/GPI-filter-K2.fits\n",
      "No.    Name      Ver    Type      Cards   Dimensions   Format\n",
      "  0  PRIMARY       1 PrimaryHDU       9   ()      \n",
      "  1                1 BinTableHDU     21   1R x 2C   [3501E, 3501E]   \n",
      "None\n",
      "ColDefs(\n",
      "    name = 'WAVELENGTH'; format = '3501E'\n",
      "    name = 'TRANSMISSION'; format = '3501E'\n",
      ")\n",
      "3501\n"
     ]
    }
   ],
   "source": [
    "wavel_J, transm_J = plot_transmission(leaf_K2)"
   ]
  },
  {
   "cell_type": "code",
   "execution_count": 67,
   "metadata": {},
   "outputs": [],
   "source": [
    "h_median = single_spec_frame(stem_ifs_data + \"H_band/\")\n",
    "#j_snippet = j_median[1046:1065,1125:1130]"
   ]
  },
  {
   "cell_type": "code",
   "execution_count": null,
   "metadata": {},
   "outputs": [],
   "source": [
    "from scipy.interpolate import interp1d\n",
    "f = interp1d( y, x )\n",
    "f(0.5)"
   ]
  },
  {
   "cell_type": "code",
   "execution_count": 68,
   "metadata": {},
   "outputs": [],
   "source": [
    "plt.imshow(h_median)\n",
    "plt.show()"
   ]
  },
  {
   "cell_type": "code",
   "execution_count": 66,
   "metadata": {},
   "outputs": [],
   "source": [
    "plt.imshow(h_snippet)\n",
    "plt.show()"
   ]
  },
  {
   "cell_type": "code",
   "execution_count": 60,
   "metadata": {},
   "outputs": [],
   "source": [
    "plt.imshow(test)\n",
    "plt.show()"
   ]
  },
  {
   "cell_type": "code",
   "execution_count": 47,
   "metadata": {},
   "outputs": [],
   "source": [
    "file_list = glob.glob(J_band/*fits\")"
   ]
  },
  {
   "cell_type": "code",
   "execution_count": 48,
   "metadata": {},
   "outputs": [
    {
     "data": {
      "text/plain": [
       "['/Users/bandari/Documents/git.repos/gpi2_misc/notebooks_for_development/data/fpr_0620/J_band/S20210427E0026.fits',\n",
       " '/Users/bandari/Documents/git.repos/gpi2_misc/notebooks_for_development/data/fpr_0620/J_band/S20210427E0027.fits',\n",
       " '/Users/bandari/Documents/git.repos/gpi2_misc/notebooks_for_development/data/fpr_0620/J_band/S20210427E0020.fits',\n",
       " '/Users/bandari/Documents/git.repos/gpi2_misc/notebooks_for_development/data/fpr_0620/J_band/S20210427E0017.fits',\n",
       " '/Users/bandari/Documents/git.repos/gpi2_misc/notebooks_for_development/data/fpr_0620/J_band/S20210427E0021.fits',\n",
       " '/Users/bandari/Documents/git.repos/gpi2_misc/notebooks_for_development/data/fpr_0620/J_band/S20210427E0022.fits',\n",
       " '/Users/bandari/Documents/git.repos/gpi2_misc/notebooks_for_development/data/fpr_0620/J_band/S20210427E0018.fits',\n",
       " '/Users/bandari/Documents/git.repos/gpi2_misc/notebooks_for_development/data/fpr_0620/J_band/S20210427E0019.fits',\n",
       " '/Users/bandari/Documents/git.repos/gpi2_misc/notebooks_for_development/data/fpr_0620/J_band/S20210427E0023.fits',\n",
       " '/Users/bandari/Documents/git.repos/gpi2_misc/notebooks_for_development/data/fpr_0620/J_band/S20210427E0028.fits',\n",
       " '/Users/bandari/Documents/git.repos/gpi2_misc/notebooks_for_development/data/fpr_0620/J_band/S20210427E0024.fits',\n",
       " '/Users/bandari/Documents/git.repos/gpi2_misc/notebooks_for_development/data/fpr_0620/J_band/S20210427E0025.fits']"
      ]
     },
     "execution_count": 48,
     "metadata": {},
     "output_type": "execute_result"
    }
   ],
   "source": [
    "file_list"
   ]
  },
  {
   "cell_type": "code",
   "execution_count": 32,
   "metadata": {},
   "outputs": [],
   "source": [
    "plt.imshow(test)\n",
    "plt.show()"
   ]
  },
  {
   "cell_type": "code",
   "execution_count": 11,
   "metadata": {},
   "outputs": [],
   "source": [
    "def info_standalone(file_name_leaf):\n",
    "    '''\n",
    "    Reads in a FITS file and prints the HDU primary and extensions\n",
    "    \n",
    "    INPUTS:\n",
    "    file_name_leaf: leaf of file name beyond the 'stem' set above\n",
    "    '''\n",
    "    \n",
    "    hdul = fits.open(stem + file_name_leaf)\n",
    "    \n",
    "    # print some things\n",
    "    print(hdul.info())"
   ]
  },
  {
   "cell_type": "code",
   "execution_count": 13,
   "metadata": {},
   "outputs": [
    {
     "ename": "FileNotFoundError",
     "evalue": "[Errno 2] No such file or directory: '/Users/bandari/Documents/git.repos/gpi2_dst/empirical_dst_data/S20200201S0247.fits'",
     "output_type": "error",
     "traceback": [
      "\u001b[0;31m---------------------------------------------------------------------------\u001b[0m",
      "\u001b[0;31mFileNotFoundError\u001b[0m                         Traceback (most recent call last)",
      "\u001b[0;32m<ipython-input-13-0a57c11bc9c2>\u001b[0m in \u001b[0;36m<module>\u001b[0;34m\u001b[0m\n\u001b[0;32m----> 1\u001b[0;31m \u001b[0mhdul\u001b[0m \u001b[0;34m=\u001b[0m \u001b[0mfits\u001b[0m\u001b[0;34m.\u001b[0m\u001b[0mopen\u001b[0m\u001b[0;34m(\u001b[0m\u001b[0mstem\u001b[0m \u001b[0;34m+\u001b[0m \u001b[0;34m\"/empirical_dst_data/S20200201S0247.fits\"\u001b[0m\u001b[0;34m)\u001b[0m\u001b[0;34m\u001b[0m\u001b[0;34m\u001b[0m\u001b[0m\n\u001b[0m",
      "\u001b[0;32m~/anaconda3/envs/py36/lib/python3.6/site-packages/astropy/io/fits/hdu/hdulist.py\u001b[0m in \u001b[0;36mfitsopen\u001b[0;34m(name, mode, memmap, save_backup, cache, lazy_load_hdus, **kwargs)\u001b[0m\n\u001b[1;32m    163\u001b[0m \u001b[0;34m\u001b[0m\u001b[0m\n\u001b[1;32m    164\u001b[0m     return HDUList.fromfile(name, mode, memmap, save_backup, cache,\n\u001b[0;32m--> 165\u001b[0;31m                             lazy_load_hdus, **kwargs)\n\u001b[0m\u001b[1;32m    166\u001b[0m \u001b[0;34m\u001b[0m\u001b[0m\n\u001b[1;32m    167\u001b[0m \u001b[0;34m\u001b[0m\u001b[0m\n",
      "\u001b[0;32m~/anaconda3/envs/py36/lib/python3.6/site-packages/astropy/io/fits/hdu/hdulist.py\u001b[0m in \u001b[0;36mfromfile\u001b[0;34m(cls, fileobj, mode, memmap, save_backup, cache, lazy_load_hdus, **kwargs)\u001b[0m\n\u001b[1;32m    403\u001b[0m         return cls._readfrom(fileobj=fileobj, mode=mode, memmap=memmap,\n\u001b[1;32m    404\u001b[0m                              \u001b[0msave_backup\u001b[0m\u001b[0;34m=\u001b[0m\u001b[0msave_backup\u001b[0m\u001b[0;34m,\u001b[0m \u001b[0mcache\u001b[0m\u001b[0;34m=\u001b[0m\u001b[0mcache\u001b[0m\u001b[0;34m,\u001b[0m\u001b[0;34m\u001b[0m\u001b[0;34m\u001b[0m\u001b[0m\n\u001b[0;32m--> 405\u001b[0;31m                              lazy_load_hdus=lazy_load_hdus, **kwargs)\n\u001b[0m\u001b[1;32m    406\u001b[0m \u001b[0;34m\u001b[0m\u001b[0m\n\u001b[1;32m    407\u001b[0m     \u001b[0;34m@\u001b[0m\u001b[0mclassmethod\u001b[0m\u001b[0;34m\u001b[0m\u001b[0;34m\u001b[0m\u001b[0m\n",
      "\u001b[0;32m~/anaconda3/envs/py36/lib/python3.6/site-packages/astropy/io/fits/hdu/hdulist.py\u001b[0m in \u001b[0;36m_readfrom\u001b[0;34m(cls, fileobj, data, mode, memmap, save_backup, cache, lazy_load_hdus, **kwargs)\u001b[0m\n\u001b[1;32m   1052\u001b[0m             \u001b[0;32mif\u001b[0m \u001b[0;32mnot\u001b[0m \u001b[0misinstance\u001b[0m\u001b[0;34m(\u001b[0m\u001b[0mfileobj\u001b[0m\u001b[0;34m,\u001b[0m \u001b[0m_File\u001b[0m\u001b[0;34m)\u001b[0m\u001b[0;34m:\u001b[0m\u001b[0;34m\u001b[0m\u001b[0;34m\u001b[0m\u001b[0m\n\u001b[1;32m   1053\u001b[0m                 \u001b[0;31m# instantiate a FITS file object (ffo)\u001b[0m\u001b[0;34m\u001b[0m\u001b[0;34m\u001b[0m\u001b[0;34m\u001b[0m\u001b[0m\n\u001b[0;32m-> 1054\u001b[0;31m                 \u001b[0mfileobj\u001b[0m \u001b[0;34m=\u001b[0m \u001b[0m_File\u001b[0m\u001b[0;34m(\u001b[0m\u001b[0mfileobj\u001b[0m\u001b[0;34m,\u001b[0m \u001b[0mmode\u001b[0m\u001b[0;34m=\u001b[0m\u001b[0mmode\u001b[0m\u001b[0;34m,\u001b[0m \u001b[0mmemmap\u001b[0m\u001b[0;34m=\u001b[0m\u001b[0mmemmap\u001b[0m\u001b[0;34m,\u001b[0m \u001b[0mcache\u001b[0m\u001b[0;34m=\u001b[0m\u001b[0mcache\u001b[0m\u001b[0;34m)\u001b[0m\u001b[0;34m\u001b[0m\u001b[0;34m\u001b[0m\u001b[0m\n\u001b[0m\u001b[1;32m   1055\u001b[0m             \u001b[0;31m# The Astropy mode is determined by the _File initializer if the\u001b[0m\u001b[0;34m\u001b[0m\u001b[0;34m\u001b[0m\u001b[0;34m\u001b[0m\u001b[0m\n\u001b[1;32m   1056\u001b[0m             \u001b[0;31m# supplied mode was None\u001b[0m\u001b[0;34m\u001b[0m\u001b[0;34m\u001b[0m\u001b[0;34m\u001b[0m\u001b[0m\n",
      "\u001b[0;32m~/anaconda3/envs/py36/lib/python3.6/site-packages/astropy/utils/decorators.py\u001b[0m in \u001b[0;36mwrapper\u001b[0;34m(*args, **kwargs)\u001b[0m\n\u001b[1;32m    533\u001b[0m                     \u001b[0mwarnings\u001b[0m\u001b[0;34m.\u001b[0m\u001b[0mwarn\u001b[0m\u001b[0;34m(\u001b[0m\u001b[0mmessage\u001b[0m\u001b[0;34m,\u001b[0m \u001b[0mwarning_type\u001b[0m\u001b[0;34m,\u001b[0m \u001b[0mstacklevel\u001b[0m\u001b[0;34m=\u001b[0m\u001b[0;36m2\u001b[0m\u001b[0;34m)\u001b[0m\u001b[0;34m\u001b[0m\u001b[0;34m\u001b[0m\u001b[0m\n\u001b[1;32m    534\u001b[0m \u001b[0;34m\u001b[0m\u001b[0m\n\u001b[0;32m--> 535\u001b[0;31m             \u001b[0;32mreturn\u001b[0m \u001b[0mfunction\u001b[0m\u001b[0;34m(\u001b[0m\u001b[0;34m*\u001b[0m\u001b[0margs\u001b[0m\u001b[0;34m,\u001b[0m \u001b[0;34m**\u001b[0m\u001b[0mkwargs\u001b[0m\u001b[0;34m)\u001b[0m\u001b[0;34m\u001b[0m\u001b[0;34m\u001b[0m\u001b[0m\n\u001b[0m\u001b[1;32m    536\u001b[0m \u001b[0;34m\u001b[0m\u001b[0m\n\u001b[1;32m    537\u001b[0m         \u001b[0;32mreturn\u001b[0m \u001b[0mwrapper\u001b[0m\u001b[0;34m\u001b[0m\u001b[0;34m\u001b[0m\u001b[0m\n",
      "\u001b[0;32m~/anaconda3/envs/py36/lib/python3.6/site-packages/astropy/io/fits/file.py\u001b[0m in \u001b[0;36m__init__\u001b[0;34m(self, fileobj, mode, memmap, overwrite, cache)\u001b[0m\n\u001b[1;32m    191\u001b[0m             \u001b[0mself\u001b[0m\u001b[0;34m.\u001b[0m\u001b[0m_open_fileobj\u001b[0m\u001b[0;34m(\u001b[0m\u001b[0mfileobj\u001b[0m\u001b[0;34m,\u001b[0m \u001b[0mmode\u001b[0m\u001b[0;34m,\u001b[0m \u001b[0moverwrite\u001b[0m\u001b[0;34m)\u001b[0m\u001b[0;34m\u001b[0m\u001b[0;34m\u001b[0m\u001b[0m\n\u001b[1;32m    192\u001b[0m         \u001b[0;32melif\u001b[0m \u001b[0misinstance\u001b[0m\u001b[0;34m(\u001b[0m\u001b[0mfileobj\u001b[0m\u001b[0;34m,\u001b[0m \u001b[0mstr\u001b[0m\u001b[0;34m)\u001b[0m\u001b[0;34m:\u001b[0m\u001b[0;34m\u001b[0m\u001b[0;34m\u001b[0m\u001b[0m\n\u001b[0;32m--> 193\u001b[0;31m             \u001b[0mself\u001b[0m\u001b[0;34m.\u001b[0m\u001b[0m_open_filename\u001b[0m\u001b[0;34m(\u001b[0m\u001b[0mfileobj\u001b[0m\u001b[0;34m,\u001b[0m \u001b[0mmode\u001b[0m\u001b[0;34m,\u001b[0m \u001b[0moverwrite\u001b[0m\u001b[0;34m)\u001b[0m\u001b[0;34m\u001b[0m\u001b[0;34m\u001b[0m\u001b[0m\n\u001b[0m\u001b[1;32m    194\u001b[0m         \u001b[0;32melse\u001b[0m\u001b[0;34m:\u001b[0m\u001b[0;34m\u001b[0m\u001b[0;34m\u001b[0m\u001b[0m\n\u001b[1;32m    195\u001b[0m             \u001b[0mself\u001b[0m\u001b[0;34m.\u001b[0m\u001b[0m_open_filelike\u001b[0m\u001b[0;34m(\u001b[0m\u001b[0mfileobj\u001b[0m\u001b[0;34m,\u001b[0m \u001b[0mmode\u001b[0m\u001b[0;34m,\u001b[0m \u001b[0moverwrite\u001b[0m\u001b[0;34m)\u001b[0m\u001b[0;34m\u001b[0m\u001b[0;34m\u001b[0m\u001b[0m\n",
      "\u001b[0;32m~/anaconda3/envs/py36/lib/python3.6/site-packages/astropy/io/fits/file.py\u001b[0m in \u001b[0;36m_open_filename\u001b[0;34m(self, filename, mode, overwrite)\u001b[0m\n\u001b[1;32m    572\u001b[0m \u001b[0;34m\u001b[0m\u001b[0m\n\u001b[1;32m    573\u001b[0m         \u001b[0;32mif\u001b[0m \u001b[0;32mnot\u001b[0m \u001b[0mself\u001b[0m\u001b[0;34m.\u001b[0m\u001b[0m_try_read_compressed\u001b[0m\u001b[0;34m(\u001b[0m\u001b[0mself\u001b[0m\u001b[0;34m.\u001b[0m\u001b[0mname\u001b[0m\u001b[0;34m,\u001b[0m \u001b[0mmagic\u001b[0m\u001b[0;34m,\u001b[0m \u001b[0mmode\u001b[0m\u001b[0;34m,\u001b[0m \u001b[0mext\u001b[0m\u001b[0;34m=\u001b[0m\u001b[0mext\u001b[0m\u001b[0;34m)\u001b[0m\u001b[0;34m:\u001b[0m\u001b[0;34m\u001b[0m\u001b[0;34m\u001b[0m\u001b[0m\n\u001b[0;32m--> 574\u001b[0;31m             \u001b[0mself\u001b[0m\u001b[0;34m.\u001b[0m\u001b[0m_file\u001b[0m \u001b[0;34m=\u001b[0m \u001b[0mfileobj_open\u001b[0m\u001b[0;34m(\u001b[0m\u001b[0mself\u001b[0m\u001b[0;34m.\u001b[0m\u001b[0mname\u001b[0m\u001b[0;34m,\u001b[0m \u001b[0mIO_FITS_MODES\u001b[0m\u001b[0;34m[\u001b[0m\u001b[0mmode\u001b[0m\u001b[0;34m]\u001b[0m\u001b[0;34m)\u001b[0m\u001b[0;34m\u001b[0m\u001b[0;34m\u001b[0m\u001b[0m\n\u001b[0m\u001b[1;32m    575\u001b[0m             \u001b[0mself\u001b[0m\u001b[0;34m.\u001b[0m\u001b[0mclose_on_error\u001b[0m \u001b[0;34m=\u001b[0m \u001b[0;32mTrue\u001b[0m\u001b[0;34m\u001b[0m\u001b[0;34m\u001b[0m\u001b[0m\n\u001b[1;32m    576\u001b[0m \u001b[0;34m\u001b[0m\u001b[0m\n",
      "\u001b[0;32m~/anaconda3/envs/py36/lib/python3.6/site-packages/astropy/io/fits/util.py\u001b[0m in \u001b[0;36mfileobj_open\u001b[0;34m(filename, mode)\u001b[0m\n\u001b[1;32m    394\u001b[0m     \"\"\"\n\u001b[1;32m    395\u001b[0m \u001b[0;34m\u001b[0m\u001b[0m\n\u001b[0;32m--> 396\u001b[0;31m     \u001b[0;32mreturn\u001b[0m \u001b[0mopen\u001b[0m\u001b[0;34m(\u001b[0m\u001b[0mfilename\u001b[0m\u001b[0;34m,\u001b[0m \u001b[0mmode\u001b[0m\u001b[0;34m,\u001b[0m \u001b[0mbuffering\u001b[0m\u001b[0;34m=\u001b[0m\u001b[0;36m0\u001b[0m\u001b[0;34m)\u001b[0m\u001b[0;34m\u001b[0m\u001b[0;34m\u001b[0m\u001b[0m\n\u001b[0m\u001b[1;32m    397\u001b[0m \u001b[0;34m\u001b[0m\u001b[0m\n\u001b[1;32m    398\u001b[0m \u001b[0;34m\u001b[0m\u001b[0m\n",
      "\u001b[0;31mFileNotFoundError\u001b[0m: [Errno 2] No such file or directory: '/Users/bandari/Documents/git.repos/gpi2_dst/empirical_dst_data/S20200201S0247.fits'"
     ]
    }
   ],
   "source": [
    "hdul = fits.open(stem + \"/empirical_dst_data/S20200201S0247.fits\")"
   ]
  },
  {
   "cell_type": "code",
   "execution_count": 8,
   "metadata": {},
   "outputs": [
    {
     "name": "stdout",
     "output_type": "stream",
     "text": [
      "Filename: /Users/bandari/Documents/git.repos/gpi2_dst/detector_data/GPI-filter-K1.fits\n",
      "No.    Name      Ver    Type      Cards   Dimensions   Format\n",
      "  0  PRIMARY       1 PrimaryHDU       9   ()      \n",
      "  1                1 BinTableHDU     21   1R x 2C   [3501E, 3501E]   \n",
      "None\n",
      "ColDefs(\n",
      "    name = 'WAVELENGTH'; format = '3501E'\n",
      "    name = 'TRANSMISSION'; format = '3501E'\n",
      ")\n"
     ]
    },
    {
     "data": {
      "image/png": "[encoded data removed]",
      "text/plain": [
       "<Figure size 432x288 with 1 Axes>"
      ]
     },
     "metadata": {
      "needs_background": "light"
     },
     "output_type": "display_data"
    }
   ],
   "source": [
    "wavel_K1, transm_K1 = plot_transmission(leaf_K1)"
   ]
  },
  {
   "cell_type": "code",
   "execution_count": 9,
   "metadata": {},
   "outputs": [
    {
     "name": "stdout",
     "output_type": "stream",
     "text": [
      "Filename: /Users/bandari/Documents/git.repos/gpi2_dst/detector_data/GPI-filter-K2.fits\n",
      "No.    Name      Ver    Type      Cards   Dimensions   Format\n",
      "  0  PRIMARY       1 PrimaryHDU       9   ()      \n",
      "  1                1 BinTableHDU     21   1R x 2C   [3501E, 3501E]   \n",
      "None\n",
      "ColDefs(\n",
      "    name = 'WAVELENGTH'; format = '3501E'\n",
      "    name = 'TRANSMISSION'; format = '3501E'\n",
      ")\n"
     ]
    },
    {
     "data": {
      "image/png": "[encoded data removed]",
      "text/plain": [
       "<Figure size 432x288 with 1 Axes>"
      ]
     },
     "metadata": {
      "needs_background": "light"
     },
     "output_type": "display_data"
    }
   ],
   "source": [
    "wavel_K2, transm_K2 = plot_transmission(leaf_K2)"
   ]
  },
  {
   "cell_type": "code",
   "execution_count": 10,
   "metadata": {},
   "outputs": [
    {
     "name": "stdout",
     "output_type": "stream",
     "text": [
      "Filename: /Users/bandari/Documents/git.repos/gpi2_dst/detector_data/GPI-filter-Y.fits\n",
      "No.    Name      Ver    Type      Cards   Dimensions   Format\n",
      "  0  PRIMARY       1 PrimaryHDU       9   ()      \n",
      "  1                1 BinTableHDU     21   1R x 2C   [2001E, 2001E]   \n",
      "None\n",
      "ColDefs(\n",
      "    name = 'WAVELENGTH'; format = '2001E'\n",
      "    name = 'TRANSMISSION'; format = '2001E'\n",
      ")\n"
     ]
    },
    {
     "data": {
      "image/png": "[encoded data removed]",
      "text/plain": [
       "<Figure size 432x288 with 1 Axes>"
      ]
     },
     "metadata": {
      "needs_background": "light"
     },
     "output_type": "display_data"
    }
   ],
   "source": [
    "wavel_Y, transm_Y = plot_transmission(leaf_Y)"
   ]
  },
  {
   "cell_type": "code",
   "execution_count": 14,
   "metadata": {},
   "outputs": [
    {
     "name": "stdout",
     "output_type": "stream",
     "text": [
      "Filename: /Users/bandari/Documents/git.repos/gpi2_dst/Microlens/ifu_microlens_psfY.fits\n",
      "No.    Name      Ver    Type      Cards   Dimensions   Format\n",
      "  0  PRIMARY       1 PrimaryHDU      12   (55, 55, 925)   float64   \n",
      "None\n"
     ]
    },
    {
     "ename": "IndexError",
     "evalue": "list index out of range",
     "output_type": "error",
     "traceback": [
      "\u001b[0;31m---------------------------------------------------------------------------\u001b[0m",
      "\u001b[0;31mIndexError\u001b[0m                                Traceback (most recent call last)",
      "\u001b[0;32m<ipython-input-14-c2246a3abc97>\u001b[0m in \u001b[0;36m<module>\u001b[0;34m()\u001b[0m\n\u001b[1;32m      3\u001b[0m \u001b[0;31m# print some things\u001b[0m\u001b[0;34m\u001b[0m\u001b[0;34m\u001b[0m\u001b[0;34m\u001b[0m\u001b[0m\n\u001b[1;32m      4\u001b[0m \u001b[0mprint\u001b[0m\u001b[0;34m(\u001b[0m\u001b[0mhdul\u001b[0m\u001b[0;34m.\u001b[0m\u001b[0minfo\u001b[0m\u001b[0;34m(\u001b[0m\u001b[0;34m)\u001b[0m\u001b[0;34m)\u001b[0m\u001b[0;34m\u001b[0m\u001b[0;34m\u001b[0m\u001b[0m\n\u001b[0;32m----> 5\u001b[0;31m \u001b[0mprint\u001b[0m\u001b[0;34m(\u001b[0m\u001b[0mhdul\u001b[0m\u001b[0;34m[\u001b[0m\u001b[0;36m1\u001b[0m\u001b[0;34m]\u001b[0m\u001b[0;34m.\u001b[0m\u001b[0mcolumns\u001b[0m\u001b[0;34m)\u001b[0m\u001b[0;34m\u001b[0m\u001b[0;34m\u001b[0m\u001b[0m\n\u001b[0m",
      "\u001b[0;32m/Users/bandari/anaconda3/envs/dst2_env/lib/python3.7/site-packages/astropy/io/fits/hdu/hdulist.py\u001b[0m in \u001b[0;36m__getitem__\u001b[0;34m(self, key)\u001b[0m\n\u001b[1;32m    316\u001b[0m             \u001b[0;31m# Raise a more helpful IndexError if the file was not fully read.\u001b[0m\u001b[0;34m\u001b[0m\u001b[0;34m\u001b[0m\u001b[0;34m\u001b[0m\u001b[0m\n\u001b[1;32m    317\u001b[0m             \u001b[0;32mif\u001b[0m \u001b[0mself\u001b[0m\u001b[0;34m.\u001b[0m\u001b[0m_read_all\u001b[0m\u001b[0;34m:\u001b[0m\u001b[0;34m\u001b[0m\u001b[0;34m\u001b[0m\u001b[0m\n\u001b[0;32m--> 318\u001b[0;31m                 \u001b[0;32mraise\u001b[0m \u001b[0me\u001b[0m\u001b[0;34m\u001b[0m\u001b[0;34m\u001b[0m\u001b[0m\n\u001b[0m\u001b[1;32m    319\u001b[0m             \u001b[0;32melse\u001b[0m\u001b[0;34m:\u001b[0m\u001b[0;34m\u001b[0m\u001b[0;34m\u001b[0m\u001b[0m\n\u001b[1;32m    320\u001b[0m                 raise IndexError('HDU not found, possibly because the index '\n",
      "\u001b[0;32m/Users/bandari/anaconda3/envs/dst2_env/lib/python3.7/site-packages/astropy/io/fits/hdu/hdulist.py\u001b[0m in \u001b[0;36m__getitem__\u001b[0;34m(self, key)\u001b[0m\n\u001b[1;32m    312\u001b[0m         \u001b[0;32mtry\u001b[0m\u001b[0;34m:\u001b[0m\u001b[0;34m\u001b[0m\u001b[0;34m\u001b[0m\u001b[0m\n\u001b[1;32m    313\u001b[0m             return self._try_while_unread_hdus(super().__getitem__,\n\u001b[0;32m--> 314\u001b[0;31m                                                self._positive_index_of(key))\n\u001b[0m\u001b[1;32m    315\u001b[0m         \u001b[0;32mexcept\u001b[0m \u001b[0mIndexError\u001b[0m \u001b[0;32mas\u001b[0m \u001b[0me\u001b[0m\u001b[0;34m:\u001b[0m\u001b[0;34m\u001b[0m\u001b[0;34m\u001b[0m\u001b[0m\n\u001b[1;32m    316\u001b[0m             \u001b[0;31m# Raise a more helpful IndexError if the file was not fully read.\u001b[0m\u001b[0;34m\u001b[0m\u001b[0;34m\u001b[0m\u001b[0;34m\u001b[0m\u001b[0m\n",
      "\u001b[0;32m/Users/bandari/anaconda3/envs/dst2_env/lib/python3.7/site-packages/astropy/io/fits/hdu/hdulist.py\u001b[0m in \u001b[0;36m_try_while_unread_hdus\u001b[0;34m(self, func, *args, **kwargs)\u001b[0m\n\u001b[1;32m   1109\u001b[0m         \u001b[0;32mwhile\u001b[0m \u001b[0;32mTrue\u001b[0m\u001b[0;34m:\u001b[0m\u001b[0;34m\u001b[0m\u001b[0;34m\u001b[0m\u001b[0m\n\u001b[1;32m   1110\u001b[0m             \u001b[0;32mtry\u001b[0m\u001b[0;34m:\u001b[0m\u001b[0;34m\u001b[0m\u001b[0;34m\u001b[0m\u001b[0m\n\u001b[0;32m-> 1111\u001b[0;31m                 \u001b[0;32mreturn\u001b[0m \u001b[0mfunc\u001b[0m\u001b[0;34m(\u001b[0m\u001b[0;34m*\u001b[0m\u001b[0margs\u001b[0m\u001b[0;34m,\u001b[0m \u001b[0;34m**\u001b[0m\u001b[0mkwargs\u001b[0m\u001b[0;34m)\u001b[0m\u001b[0;34m\u001b[0m\u001b[0;34m\u001b[0m\u001b[0m\n\u001b[0m\u001b[1;32m   1112\u001b[0m             \u001b[0;32mexcept\u001b[0m \u001b[0mException\u001b[0m\u001b[0;34m:\u001b[0m\u001b[0;34m\u001b[0m\u001b[0;34m\u001b[0m\u001b[0m\n\u001b[1;32m   1113\u001b[0m                 \u001b[0;32mif\u001b[0m \u001b[0mself\u001b[0m\u001b[0;34m.\u001b[0m\u001b[0m_read_next_hdu\u001b[0m\u001b[0;34m(\u001b[0m\u001b[0;34m)\u001b[0m\u001b[0;34m:\u001b[0m\u001b[0;34m\u001b[0m\u001b[0;34m\u001b[0m\u001b[0m\n",
      "\u001b[0;31mIndexError\u001b[0m: list index out of range"
     ]
    }
   ],
   "source": [
    "hdul = fits.open(stem + test)\n",
    "\n",
    "# print some things\n",
    "print(hdul.info())\n",
    "print(hdul[1].columns)"
   ]
  },
  {
   "cell_type": "code",
   "execution_count": 29,
   "metadata": {},
   "outputs": [
    {
     "data": {
      "image/png": "[encoded data removed]",
      "text/plain": [
       "<Figure size 432x288 with 1 Axes>"
      ]
     },
     "metadata": {
      "needs_background": "light"
     },
     "output_type": "display_data"
    },
    {
     "data": {
      "image/png": "[encoded data removed]",
      "text/plain": [
       "<Figure size 432x288 with 1 Axes>"
      ]
     },
     "metadata": {
      "needs_background": "light"
     },
     "output_type": "display_data"
    }
   ],
   "source": [
    "# plot low-res spectra from simulated frames\n",
    "\n",
    "hdul = fits.open(stem + \"/zem/test_H.fits\")\n",
    "\n",
    "img = hdul[0].data[490:515,504:510]\n",
    "\n",
    "plt.imshow(img, origin=\"lower\")\n",
    "plt.show()\n",
    "\n",
    "plt.clf()\n",
    "plt.plot(np.max(img,axis=1))\n",
    "plt.title(\"H-band example IFS spectrum (simulated)\")\n",
    "plt.show()"
   ]
  },
  {
   "cell_type": "code",
   "execution_count": 37,
   "metadata": {},
   "outputs": [
    {
     "data": {
      "image/png": "[encoded data removed]",
      "text/plain": [
       "<Figure size 432x288 with 1 Axes>"
      ]
     },
     "metadata": {
      "needs_background": "light"
     },
     "output_type": "display_data"
    },
    {
     "data": {
      "image/png": "[encoded data removed]",
      "text/plain": [
       "<Figure size 432x288 with 1 Axes>"
      ]
     },
     "metadata": {
      "needs_background": "light"
     },
     "output_type": "display_data"
    }
   ],
   "source": [
    "# plot low-res spectra from simulated frames\n",
    "\n",
    "hdul = fits.open(\"/Users/bandari/Desktop/gpi_dst_relevant_data/spectral_empirical_data/S20131210S0025.fits\")\n",
    "\n",
    "img = hdul[1].data[989:1012,975:980]\n",
    "\n",
    "plt.imshow(img, origin=\"lower\")\n",
    "plt.show()\n",
    "\n",
    "plt.clf()\n",
    "plt.plot(np.max(img,axis=1))\n",
    "plt.title(\"H-band example IFS spectrum, filter IFSFILT_H_G1213 (empirical)\")\n",
    "plt.show()"
   ]
  },
  {
   "cell_type": "code",
   "execution_count": 34,
   "metadata": {},
   "outputs": [
    {
     "data": {
      "text/plain": [
       "array([[-2.1762674 , -1.0364825 , -0.6754992 , ..., -8.127111  ,\n",
       "        -1.5940858 , -4.9919353 ],\n",
       "       [-3.6632104 ,  1.2999232 , -1.0994625 , ...,  1.3982334 ,\n",
       "        -2.9811826 , -0.15629798],\n",
       "       [-2.1255763 , -0.5357142 , -1.2914746 , ..., -2.0026882 ,\n",
       "        -3.0518432 , -2.266897  ],\n",
       "       ...,\n",
       "       [ 0.27380952,  3.393625  ,  1.1739631 , ...,  4.356759  ,\n",
       "        -0.02265746,  1.1109833 ],\n",
       "       [ 0.36751145, -1.8982335 ,  3.6363287 , ...,  3.5195854 ,\n",
       "         0.685484  , -1.4973117 ],\n",
       "       [ 5.56106   ,  2.87596   , -0.26075283, ..., -2.008833  ,\n",
       "         3.2108295 ,  1.9635177 ]], dtype=float32)"
      ]
     },
     "execution_count": 34,
     "metadata": {},
     "output_type": "execute_result"
    }
   ],
   "source": []
  },
  {
   "cell_type": "code",
   "execution_count": null,
   "metadata": {},
   "outputs": [],
   "source": []
  }
 ],
 "metadata": {
  "kernelspec": {
   "display_name": "Python 3",
   "language": "python",
   "name": "python3"
  },
  "language_info": {
   "codemirror_mode": {
    "name": "ipython",
    "version": 3
   },
   "file_extension": ".py",
   "mimetype": "text/x-python",
   "name": "python",
   "nbconvert_exporter": "python",
   "pygments_lexer": "ipython3",
   "version": "3.6.10"
  }
 },
 "nbformat": 4,
 "nbformat_minor": 5
}
