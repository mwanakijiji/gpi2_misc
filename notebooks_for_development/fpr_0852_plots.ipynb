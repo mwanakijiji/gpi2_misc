{
 "cells": [
  {
   "cell_type": "code",
   "execution_count": null,
   "metadata": {},
   "outputs": [],
   "source": [
    "# This reads in engineering FITS files from GPI and makes plots for the \n",
    "# instrument test FPR 0852\n",
    "\n",
    "# Created 2021 June 16 by E.S."
   ]
  },
  {
   "cell_type": "code",
   "execution_count": 1,
   "metadata": {},
   "outputs": [],
   "source": [
    "from astropy.io import fits\n",
    "import matplotlib.pyplot as plt\n",
    "import numpy as np\n",
    "import pandas as pd\n",
    "import os\n",
    "import glob\n",
    "\n",
    "# %matplotlib qt"
   ]
  },
  {
   "cell_type": "code",
   "execution_count": 2,
   "metadata": {},
   "outputs": [],
   "source": [
    "stem = \"/Users/bandari/Downloads/fpr_0852/\""
   ]
  },
  {
   "cell_type": "code",
   "execution_count": 3,
   "metadata": {},
   "outputs": [],
   "source": [
    "# read in bad pixel mask\n",
    "# (initially 0=good; 1=bad)\n",
    "\n",
    "hdu_bad_pix = fits.open(stem + \"S20131208S0020_badpix.fits\")"
   ]
  },
  {
   "cell_type": "code",
   "execution_count": 4,
   "metadata": {},
   "outputs": [],
   "source": [
    "# turn bad pixel mask into 1=good; nan=bad)\n",
    "\n",
    "bad_pix_array = hdu_bad_pix[1].data\n",
    "bad_pix_array = np.add(1,bad_pix_array)\n",
    "bad_pix_array[bad_pix_array == 2] = np.nan"
   ]
  },
  {
   "cell_type": "code",
   "execution_count": 5,
   "metadata": {},
   "outputs": [],
   "source": [
    "# make sorted FITS file list\n",
    "\n",
    "file_list_unsorted = glob.glob(stem + \"ifs_data/*fits\")\n",
    "file_list = np.sort(file_list_unsorted)"
   ]
  },
  {
   "cell_type": "code",
   "execution_count": 6,
   "metadata": {},
   "outputs": [
    {
     "data": {
      "text/plain": [
       "'\\nhdu = fits.open(\"/Users/bandari/Downloads/dark_S20210609E0047.fits\")\\ndark_array = hdu[1].data\\n'"
      ]
     },
     "execution_count": 6,
     "metadata": {},
     "output_type": "execute_result"
    }
   ],
   "source": [
    "# read in a separate dark (which is from another day, and at only 1.5 sec integration time, \n",
    "# but for the purposes of this test it is probably adequate)\n",
    "'''\n",
    "hdu = fits.open(\"/Users/bandari/Downloads/dark_S20210609E0047.fits\")\n",
    "dark_array = hdu[1].data\n",
    "'''"
   ]
  },
  {
   "cell_type": "code",
   "execution_count": 7,
   "metadata": {},
   "outputs": [],
   "source": [
    "# initialize pandas dataframe, and consituent arrays/lists\n",
    "df = pd.DataFrame()\n",
    "\n",
    "itime_array = np.nan*np.ones(len(file_list))\n",
    "atten_array = np.nan*np.ones(len(file_list))\n",
    "mean_flux_array = np.nan*np.ones(len(file_list))\n",
    "median_flux_array = np.nan*np.ones(len(file_list))\n",
    "data_sec_list = [\"\"] * len(file_list) # subarray regions\n",
    "file_name_list = [\"\"] * len(file_list)\n",
    "\n",
    "# Read in FITS files\n",
    "for file_num in range(0,len(file_list)):\n",
    "    \n",
    "    hdu = fits.open(file_list[file_num])\n",
    "\n",
    "    # mask bad pixels\n",
    "    ifs_array = np.multiply(bad_pix_array,hdu[1].data)\n",
    "\n",
    "    # true integration time\n",
    "    itime = hdu[1].header[\"ITIME\"]\n",
    "    # ASU attenuation (CORRECT?)\n",
    "    atten = hdu[0].header[\"ARTINT\"]\n",
    "    # subarray\n",
    "    data_sec = hdu[1].header[\"DATASEC\"]\n",
    "\n",
    "    # Subtract dark (?)\n",
    "\n",
    "    # Measure flux\n",
    "    mean_flux_val = np.nanmean(ifs_array)\n",
    "    median_flux_val = np.nanmedian(ifs_array)\n",
    "\n",
    "    # Populate arrays, lists\n",
    "    itime_array[file_num] = itime\n",
    "    atten_array[file_num] = atten\n",
    "    median_flux_array[file_num] = median_flux_val\n",
    "    mean_flux_array[file_num] = mean_flux_val\n",
    "    data_sec_list[file_num] = data_sec\n",
    "    file_name_list[file_num] = os.path.basename(file_list[file_num])\n",
    "\n",
    "# put into DataFrame\n",
    "df[\"file_name\"] = file_name_list\n",
    "df[\"itime\"] = itime_array\n",
    "df[\"atten\"] = atten_array\n",
    "df[\"mean_flux\"] = mean_flux_array\n",
    "df[\"median_flux\"] = median_flux_array"
   ]
  },
  {
   "cell_type": "code",
   "execution_count": 8,
   "metadata": {},
   "outputs": [],
   "source": [
    "# to measure flux want frames S20210506E0038 to S20210507E0024, and without S20210507E0007\n",
    "\n",
    "adu_df = df.drop(index=np.arange(0,37)) #file_list[37:-7]\n",
    "adu_df = adu_df.drop(index=np.arange(80,88))\n",
    "adu_df = adu_df.drop(index=62)"
   ]
  },
  {
   "cell_type": "code",
   "execution_count": 10,
   "metadata": {},
   "outputs": [
    {
     "name": "stdout",
     "output_type": "stream",
     "text": [
      "Non-redundant list of integration times of frames:\n",
      "[  1.45479   2.90958   4.36437   5.81916   8.72874  11.63832  14.5479\n",
      "  18.91227  29.0958   39.27933  49.46286  59.64639  98.92572 199.30623\n",
      " 299.68674 398.61246 498.99297 599.37348 699.75399 798.67971 899.06022]\n"
     ]
    }
   ],
   "source": [
    "# print nonredundant range of supported integration times\n",
    "\n",
    "print(\"Non-redundant list of integration times of frames:\")\n",
    "print(np.sort(df[\"itime\"].drop_duplicates()))"
   ]
  },
  {
   "cell_type": "code",
   "execution_count": 11,
   "metadata": {},
   "outputs": [
    {
     "data": {
      "text/plain": [
       "'\\nplt.scatter(adu_df[\"itime\"],adu_df[\"mean_flux\"],marker=\"o\",label=\"mean\")\\nplt.scatter(adu_df[\"itime\"],adu_df[\"median_flux\"],marker=\"o\",label=\"median\")\\nplt.xlabel(\"True integration time (sec)\")\\nplt.ylabel(\"Average flux (ADU/pixel)\")\\nplt.legend()\\nplt.show()\\n'"
      ]
     },
     "execution_count": 11,
     "metadata": {},
     "output_type": "execute_result"
    }
   ],
   "source": [
    "# plot fluxes as-is\n",
    "'''\n",
    "plt.scatter(adu_df[\"itime\"],adu_df[\"mean_flux\"],marker=\"o\",label=\"mean\")\n",
    "plt.scatter(adu_df[\"itime\"],adu_df[\"median_flux\"],marker=\"o\",label=\"median\")\n",
    "plt.xlabel(\"True integration time (sec)\")\n",
    "plt.ylabel(\"Average flux (ADU/pixel)\")\n",
    "plt.legend()\n",
    "plt.show()\n",
    "'''"
   ]
  },
  {
   "cell_type": "code",
   "execution_count": 21,
   "metadata": {},
   "outputs": [],
   "source": [
    "# normalize fluxes based on ASU attenuation\n",
    "'''\n",
    "adu_df[\"atten_norm_mean_flux\"] = np.divide(adu_df[\"mean_flux\"],np.power(10.,0.1*np.subtract(adu_df[\"atten\"],46)))\n",
    "\n",
    "plt.scatter(adu_df[\"itime\"],adu_df[\"atten_norm_mean_flux\"])\n",
    "plt.show()\n",
    "'''"
   ]
  },
  {
   "cell_type": "code",
   "execution_count": 24,
   "metadata": {},
   "outputs": [],
   "source": [
    "# group by source attenuation\n",
    "\n",
    "groups = adu_df.groupby(\"atten\")"
   ]
  },
  {
   "cell_type": "code",
   "execution_count": 45,
   "metadata": {},
   "outputs": [
    {
     "name": "stdout",
     "output_type": "stream",
     "text": [
      "[899.06022 798.67971 798.67971 699.75399 699.75399 599.37348 899.06022\n",
      " 299.68674 299.68674 199.30623 199.30623  98.92572  98.92572  49.46286\n",
      "  49.46286  39.27933  39.27933]\n",
      "63    98.311691\n",
      "64    88.573006\n",
      "65    91.178024\n",
      "66    77.531754\n",
      "67    77.160896\n",
      "68    69.070091\n",
      "69    97.327629\n",
      "70    41.461655\n",
      "71    41.797955\n",
      "72    31.142405\n",
      "73    31.315998\n",
      "74    18.186378\n",
      "75    18.475220\n",
      "76    12.725410\n",
      "77    13.655918\n",
      "78    12.086587\n",
      "79    12.673647\n",
      "Name: mean_flux, dtype: float64\n",
      "---\n",
      "[0.09922184 9.48072407]\n",
      "[899.06022 899.06022 899.06022 798.67971 798.67971 699.75399 699.75399\n",
      " 599.37348 599.37348 498.99297 498.99297 398.61246 398.61246 299.68674\n",
      " 299.68674 199.30623 199.30623  98.92572  98.92572  49.46286  49.46286]\n",
      "40    71.510719\n",
      "41    72.055336\n",
      "42    75.818527\n",
      "43    65.010475\n",
      "44    64.335686\n",
      "45    57.923450\n",
      "46    59.183445\n",
      "47    51.886253\n",
      "48    52.457317\n",
      "49    47.211319\n",
      "50    47.017174\n",
      "51    40.008694\n",
      "52    40.302624\n",
      "53    32.446884\n",
      "54    31.863438\n",
      "55    25.497557\n",
      "56    24.958038\n",
      "57    17.034901\n",
      "58    16.460579\n",
      "59    12.567411\n",
      "60    12.542246\n",
      "Name: mean_flux, dtype: float64\n",
      "---\n",
      "[ 0.06934634 10.75350207]\n"
     ]
    }
   ],
   "source": [
    "# plot unnormalized and normalized fluxes\n",
    "\n",
    "plt.clf()\n",
    "for name, group in groups:\n",
    "    \n",
    "    # find line of best fit for well-sampled attenuations\n",
    "    if (len(group[\"mean_flux\"]) > 8):\n",
    "        \n",
    "        p = np.polyfit(group[\"itime\"].values, group[\"mean_flux\"].values, 1)\n",
    "        y_expect = np.add(np.multiply(p[0],group[\"itime\"]),p[1])\n",
    "        plt.plot([np.min(group[\"itime\"]),np.max(group[\"itime\"])],\n",
    "                 [np.min(y_expect),np.max(y_expect)], color=\"k\", linestyle=\"--\", alpha = 0.5, marker=\"o\")\n",
    "    \n",
    "    plt.plot(group[\"itime\"],group[\"mean_flux\"], marker='o', linestyle='', label=name)\n",
    "\n",
    "plt.xlabel(\"True integration time (sec)\")\n",
    "plt.ylabel(\"Average flux (ADU/pixel)\")\n",
    "plt.legend()\n",
    "plt.savefig(\"test.png\")"
   ]
  }
 ],
 "metadata": {
  "kernelspec": {
   "display_name": "Python 3",
   "language": "python",
   "name": "python3"
  },
  "language_info": {
   "codemirror_mode": {
    "name": "ipython",
    "version": 3
   },
   "file_extension": ".py",
   "mimetype": "text/x-python",
   "name": "python",
   "nbconvert_exporter": "python",
   "pygments_lexer": "ipython3",
   "version": "3.6.10"
  }
 },
 "nbformat": 4,
 "nbformat_minor": 4
}
