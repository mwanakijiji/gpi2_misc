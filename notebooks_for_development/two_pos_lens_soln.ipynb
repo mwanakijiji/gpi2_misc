{
 "cells": [
  {
   "cell_type": "code",
   "execution_count": null,
   "id": "ea0092b6",
   "metadata": {},
   "outputs": [],
   "source": [
    "# This returns values corresponding to a two-lens solution for re-imaging the\n",
    "# Lyot stop\n",
    "\n",
    "# Created 2022 Mar 14 by E.S."
   ]
  },
  {
   "cell_type": "code",
   "execution_count": 12,
   "id": "653dc378",
   "metadata": {},
   "outputs": [],
   "source": [
    "import numpy as np\n",
    "import matplotlib.pyplot as plt\n",
    "\n",
    "%matplotlib qt"
   ]
  },
  {
   "cell_type": "code",
   "execution_count": 2,
   "id": "98b7713a",
   "metadata": {},
   "outputs": [],
   "source": [
    "def si(so,f):\n",
    "    \n",
    "    return np.divide(so*f,(so-f))"
   ]
  },
  {
   "cell_type": "code",
   "execution_count": 3,
   "id": "6cdce44b",
   "metadata": {},
   "outputs": [],
   "source": [
    "so_array = -np.linspace(1,100)"
   ]
  },
  {
   "cell_type": "code",
   "execution_count": 7,
   "id": "8eaa8370",
   "metadata": {},
   "outputs": [
    {
     "name": "stderr",
     "output_type": "stream",
     "text": [
      "/Users/bandari/anaconda3/envs/py36/lib/python3.6/site-packages/ipykernel_launcher.py:3: RuntimeWarning: divide by zero encountered in true_divide\n",
      "  This is separate from the ipykernel package so we can avoid doing imports until\n"
     ]
    }
   ],
   "source": [
    "f_barlow = -100\n",
    "si_array = si(so_array,f=f_barlow)"
   ]
  },
  {
   "cell_type": "code",
   "execution_count": 13,
   "id": "89dbaab1",
   "metadata": {},
   "outputs": [],
   "source": [
    "plt.plot(so_array,si_array)\n",
    "plt.title(\"f = \" + str(f_barlow) + \"mm\")\n",
    "plt.xlabel(\"so\")\n",
    "plt.ylabel(\"si\")\n",
    "plt.show()"
   ]
  },
  {
   "cell_type": "code",
   "execution_count": null,
   "id": "3cfb440a",
   "metadata": {},
   "outputs": [],
   "source": []
  }
 ],
 "metadata": {
  "kernelspec": {
   "display_name": "Python 3",
   "language": "python",
   "name": "python3"
  },
  "language_info": {
   "codemirror_mode": {
    "name": "ipython",
    "version": 3
   },
   "file_extension": ".py",
   "mimetype": "text/x-python",
   "name": "python",
   "nbconvert_exporter": "python",
   "pygments_lexer": "ipython3",
   "version": "3.6.10"
  }
 },
 "nbformat": 4,
 "nbformat_minor": 5
}
