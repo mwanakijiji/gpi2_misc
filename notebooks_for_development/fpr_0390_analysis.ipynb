{
 "cells": [
  {
   "cell_type": "code",
   "execution_count": null,
   "metadata": {},
   "outputs": [],
   "source": [
    "# This is predecessor code for reading in FITS images, finding centers of PSFs, \n",
    "# and calculating the image scales, pairwise\n",
    "\n",
    "# Created 2021 June 25 by E.S."
   ]
  },
  {
   "cell_type": "code",
   "execution_count": 1,
   "metadata": {},
   "outputs": [],
   "source": [
    "from astropy.io import fits\n",
    "import matplotlib.pyplot as plt\n",
    "import photutils\n",
    "from photutils import DAOStarFinder\n",
    "import numpy as np\n",
    "import pandas as pd\n",
    "import glob\n",
    "import os\n",
    "from itertools import combinations"
   ]
  },
  {
   "cell_type": "code",
   "execution_count": 2,
   "metadata": {},
   "outputs": [],
   "source": [
    "def find_psf_centers(imagePass,fwhmPass,thresholdPass):\n",
    "    '''\n",
    "    Employ DAOPhot to find PSF coordinates\n",
    "    \n",
    "    RETURNS:\n",
    "    ptsEmpiricalPass: empirically-found points\n",
    "    '''\n",
    "    daofind = DAOStarFinder(fwhm=fwhmPass, threshold=thresholdPass, exclude_border=True)\n",
    "    sources = daofind(imagePass)\n",
    "\n",
    "    # put the x,y coordinates into an array\n",
    "    ptsEmpiricalPass = np.transpose(np.concatenate(([sources['xcentroid']], [sources['ycentroid']]),axis=0))\n",
    "\n",
    "    return ptsEmpiricalPass"
   ]
  },
  {
   "cell_type": "code",
   "execution_count": 3,
   "metadata": {},
   "outputs": [],
   "source": [
    "stem = \"./data/fpr_0390/\"\n",
    "file_list = np.sort(glob.glob(stem + \"*\"))"
   ]
  },
  {
   "cell_type": "code",
   "execution_count": 4,
   "metadata": {},
   "outputs": [
    {
     "name": "stdout",
     "output_type": "stream",
     "text": [
      "['./data/fpr_0390/epoch_1' './data/fpr_0390/epoch_2'\n",
      " './data/fpr_0390/epoch_3']\n"
     ]
    }
   ],
   "source": [
    "print(file_list)"
   ]
  },
  {
   "cell_type": "code",
   "execution_count": 5,
   "metadata": {},
   "outputs": [
    {
     "name": "stdout",
     "output_type": "stream",
     "text": [
      "Found PSF center:\n",
      "[143.30151817 146.08948466]\n",
      "Found PSF center:\n",
      "[147.14154179 137.26968743]\n",
      "Found PSF center:\n",
      "[155.58580212 140.98551874]\n",
      "Found PSF center:\n",
      "[151.83255331 149.53582206]\n",
      "Found PSF center:\n",
      "[143.72506864 146.03749073]\n",
      "Found PSF center:\n",
      "[147.44999823 137.51074196]\n",
      "Found PSF center:\n",
      "[156.01909407 141.22858914]\n",
      "Found PSF center:\n",
      "[152.22122472 149.79906715]\n",
      "Found PSF center:\n",
      "[143.72897219 145.96909438]\n",
      "Found PSF center:\n",
      "[147.47342283 137.42411742]\n",
      "Found PSF center:\n",
      "[156.03379074 141.14123762]\n",
      "Found PSF center:\n",
      "[152.24742032 149.72264023]\n"
     ]
    }
   ],
   "source": [
    "# initialize dictionary\n",
    "dict_data = {\"file_name\": [], \"x_pix\": [], \n",
    "                  \"y_pix\": []}\n",
    "'''\n",
    "dict_data = {\"file_name\": [], \"x_mm\": [], \n",
    "                  \"y_mm\": [], \"x_pix\": [], \n",
    "                  \"y_pix\": []}\n",
    "'''\n",
    "for fits_num in range(0,len(file_list)):\n",
    "    \n",
    "    # read in reduced FITS file\n",
    "    hdul = fits.open(file_list[fits_num])\n",
    "    image_array = hdul[1].data\n",
    "    \n",
    "    # choose slice 10 (kind of arbitrary, but is bright)\n",
    "    array_to_examine = image_array[10,:,:]\n",
    "    \n",
    "    # find centers of PSFs\n",
    "    pt_centers = find_psf_centers(array_to_examine,fwhmPass=3,thresholdPass=1000)\n",
    "    pt_centers = np.squeeze(pt_centers)\n",
    "    \n",
    "    print(\"Found PSF center:\")\n",
    "    print(pt_centers)\n",
    "    \n",
    "    # append\n",
    "    dict_data[\"file_name\"].append(os.path.basename(file_list[fits_num]))\n",
    "    dict_data[\"x_pix\"].append(pt_centers[0])\n",
    "    dict_data[\"y_pix\"].append(pt_centers[1])\n",
    "    #dict_data[\"x_mm\"].append(np.nan)\n",
    "    #dict_data[\"y_mm\"].append(np.nan)\n",
    "    \n",
    "# convert to DataFrame\n",
    "df_data = pd.DataFrame.from_dict(dict_data)"
   ]
  },
  {
   "cell_type": "code",
   "execution_count": 6,
   "metadata": {},
   "outputs": [
    {
     "data": {
      "text/html": [
       "<div>\n",
       "<style scoped>\n",
       "    .dataframe tbody tr th:only-of-type {\n",
       "        vertical-align: middle;\n",
       "    }\n",
       "\n",
       "    .dataframe tbody tr th {\n",
       "        vertical-align: top;\n",
       "    }\n",
       "\n",
       "    .dataframe thead th {\n",
       "        text-align: right;\n",
       "    }\n",
       "</style>\n",
       "<table border=\"1\" class=\"dataframe\">\n",
       "  <thead>\n",
       "    <tr style=\"text-align: right;\">\n",
       "      <th></th>\n",
       "      <th>file_name</th>\n",
       "      <th>x_pix</th>\n",
       "      <th>y_pix</th>\n",
       "    </tr>\n",
       "  </thead>\n",
       "  <tbody>\n",
       "    <tr>\n",
       "      <th>0</th>\n",
       "      <td>S20210624E0014_spdc.fits</td>\n",
       "      <td>143.301518</td>\n",
       "      <td>146.089485</td>\n",
       "    </tr>\n",
       "    <tr>\n",
       "      <th>1</th>\n",
       "      <td>S20210624E0015_spdc.fits</td>\n",
       "      <td>147.141542</td>\n",
       "      <td>137.269687</td>\n",
       "    </tr>\n",
       "    <tr>\n",
       "      <th>2</th>\n",
       "      <td>S20210624E0016_spdc.fits</td>\n",
       "      <td>155.585802</td>\n",
       "      <td>140.985519</td>\n",
       "    </tr>\n",
       "    <tr>\n",
       "      <th>3</th>\n",
       "      <td>S20210624E0017_spdc.fits</td>\n",
       "      <td>151.832553</td>\n",
       "      <td>149.535822</td>\n",
       "    </tr>\n",
       "    <tr>\n",
       "      <th>4</th>\n",
       "      <td>S20210625E0002_spdc.fits</td>\n",
       "      <td>143.725069</td>\n",
       "      <td>146.037491</td>\n",
       "    </tr>\n",
       "    <tr>\n",
       "      <th>5</th>\n",
       "      <td>S20210625E0003_spdc.fits</td>\n",
       "      <td>147.449998</td>\n",
       "      <td>137.510742</td>\n",
       "    </tr>\n",
       "    <tr>\n",
       "      <th>6</th>\n",
       "      <td>S20210625E0004_spdc.fits</td>\n",
       "      <td>156.019094</td>\n",
       "      <td>141.228589</td>\n",
       "    </tr>\n",
       "    <tr>\n",
       "      <th>7</th>\n",
       "      <td>S20210625E0005_spdc.fits</td>\n",
       "      <td>152.221225</td>\n",
       "      <td>149.799067</td>\n",
       "    </tr>\n",
       "    <tr>\n",
       "      <th>8</th>\n",
       "      <td>S20210625E0009_spdc.fits</td>\n",
       "      <td>143.728972</td>\n",
       "      <td>145.969094</td>\n",
       "    </tr>\n",
       "    <tr>\n",
       "      <th>9</th>\n",
       "      <td>S20210625E0010_spdc.fits</td>\n",
       "      <td>147.473423</td>\n",
       "      <td>137.424117</td>\n",
       "    </tr>\n",
       "    <tr>\n",
       "      <th>10</th>\n",
       "      <td>S20210625E0011_spdc.fits</td>\n",
       "      <td>156.033791</td>\n",
       "      <td>141.141238</td>\n",
       "    </tr>\n",
       "    <tr>\n",
       "      <th>11</th>\n",
       "      <td>S20210625E0012_spdc.fits</td>\n",
       "      <td>152.247420</td>\n",
       "      <td>149.722640</td>\n",
       "    </tr>\n",
       "  </tbody>\n",
       "</table>\n",
       "</div>"
      ],
      "text/plain": [
       "                   file_name       x_pix       y_pix\n",
       "0   S20210624E0014_spdc.fits  143.301518  146.089485\n",
       "1   S20210624E0015_spdc.fits  147.141542  137.269687\n",
       "2   S20210624E0016_spdc.fits  155.585802  140.985519\n",
       "3   S20210624E0017_spdc.fits  151.832553  149.535822\n",
       "4   S20210625E0002_spdc.fits  143.725069  146.037491\n",
       "5   S20210625E0003_spdc.fits  147.449998  137.510742\n",
       "6   S20210625E0004_spdc.fits  156.019094  141.228589\n",
       "7   S20210625E0005_spdc.fits  152.221225  149.799067\n",
       "8   S20210625E0009_spdc.fits  143.728972  145.969094\n",
       "9   S20210625E0010_spdc.fits  147.473423  137.424117\n",
       "10  S20210625E0011_spdc.fits  156.033791  141.141238\n",
       "11  S20210625E0012_spdc.fits  152.247420  149.722640"
      ]
     },
     "execution_count": 6,
     "metadata": {},
     "output_type": "execute_result"
    }
   ],
   "source": [
    "df_data"
   ]
  },
  {
   "cell_type": "code",
   "execution_count": 7,
   "metadata": {},
   "outputs": [],
   "source": [
    "# fake data\n",
    "\n",
    "dict_data = {\"file_name\": [\"yada1\",\"yada2\",\"yada3\",\"daya4\"],\n",
    "             \"x_mm\": [1.6,8.5,4.3,5.5], \n",
    "             \"y_mm\": [5.3,2.7,7.8,9.7], \n",
    "             \"x_pix\": [43,67,76,45], \n",
    "             \"y_pix\": [76,45,76,56],}\n",
    "\n",
    "df_data = pd.DataFrame.from_dict(dict_data)"
   ]
  },
  {
   "cell_type": "code",
   "execution_count": 8,
   "metadata": {},
   "outputs": [
    {
     "data": {
      "text/html": [
       "<div>\n",
       "<style scoped>\n",
       "    .dataframe tbody tr th:only-of-type {\n",
       "        vertical-align: middle;\n",
       "    }\n",
       "\n",
       "    .dataframe tbody tr th {\n",
       "        vertical-align: top;\n",
       "    }\n",
       "\n",
       "    .dataframe thead th {\n",
       "        text-align: right;\n",
       "    }\n",
       "</style>\n",
       "<table border=\"1\" class=\"dataframe\">\n",
       "  <thead>\n",
       "    <tr style=\"text-align: right;\">\n",
       "      <th></th>\n",
       "      <th>file_name</th>\n",
       "      <th>x_mm</th>\n",
       "      <th>y_mm</th>\n",
       "      <th>x_pix</th>\n",
       "      <th>y_pix</th>\n",
       "    </tr>\n",
       "  </thead>\n",
       "  <tbody>\n",
       "    <tr>\n",
       "      <th>0</th>\n",
       "      <td>yada1</td>\n",
       "      <td>1.6</td>\n",
       "      <td>5.3</td>\n",
       "      <td>43</td>\n",
       "      <td>76</td>\n",
       "    </tr>\n",
       "    <tr>\n",
       "      <th>1</th>\n",
       "      <td>yada2</td>\n",
       "      <td>8.5</td>\n",
       "      <td>2.7</td>\n",
       "      <td>67</td>\n",
       "      <td>45</td>\n",
       "    </tr>\n",
       "    <tr>\n",
       "      <th>2</th>\n",
       "      <td>yada3</td>\n",
       "      <td>4.3</td>\n",
       "      <td>7.8</td>\n",
       "      <td>76</td>\n",
       "      <td>76</td>\n",
       "    </tr>\n",
       "    <tr>\n",
       "      <th>3</th>\n",
       "      <td>daya4</td>\n",
       "      <td>5.5</td>\n",
       "      <td>9.7</td>\n",
       "      <td>45</td>\n",
       "      <td>56</td>\n",
       "    </tr>\n",
       "  </tbody>\n",
       "</table>\n",
       "</div>"
      ],
      "text/plain": [
       "  file_name  x_mm  y_mm  x_pix  y_pix\n",
       "0     yada1   1.6   5.3     43     76\n",
       "1     yada2   8.5   2.7     67     45\n",
       "2     yada3   4.3   7.8     76     76\n",
       "3     daya4   5.5   9.7     45     56"
      ]
     },
     "execution_count": 8,
     "metadata": {},
     "output_type": "execute_result"
    }
   ],
   "source": [
    "df_data"
   ]
  },
  {
   "cell_type": "code",
   "execution_count": 9,
   "metadata": {},
   "outputs": [],
   "source": [
    "# find all baselines and put into new dataframe\n",
    "\n",
    "# get all combinations of endpoints, in sets of 2\n",
    "perm = combinations(np.arange(len(df_data)), 2)\n",
    "\n",
    "dict_baselines = {}\n",
    "\n",
    "dict_baselines = {\"pt_1_name\": [], \"pt_2_name\": [], \n",
    "                  \"pt_1_x_pix\": [], \"pt_1_y_pix\": [], \n",
    "                  \"pt_2_x_pix\": [], \"pt_2_y_pix\": [],\n",
    "                  \"pt_1_x_mm\": [], \"pt_1_y_mm\": [], \n",
    "                  \"pt_2_x_mm\": [], \"pt_2_y_mm\": []}\n",
    "\n",
    "# append names to dict\n",
    "for i in list(perm):\n",
    "    \n",
    "    dict_baselines[\"pt_1_name\"].append(df_data[\"file_name\"].iloc[i[0]])\n",
    "    dict_baselines[\"pt_2_name\"].append(df_data[\"file_name\"].iloc[i[1]])\n",
    "    dict_baselines[\"pt_1_x_pix\"].append(df_data[\"x_pix\"].iloc[i[0]])\n",
    "    dict_baselines[\"pt_2_x_pix\"].append(df_data[\"x_pix\"].iloc[i[1]])\n",
    "    dict_baselines[\"pt_1_y_pix\"].append(df_data[\"y_pix\"].iloc[i[0]])\n",
    "    dict_baselines[\"pt_2_y_pix\"].append(df_data[\"y_pix\"].iloc[i[1]])\n",
    "    dict_baselines[\"pt_1_x_mm\"].append(df_data[\"x_mm\"].iloc[i[0]])\n",
    "    dict_baselines[\"pt_2_x_mm\"].append(df_data[\"x_mm\"].iloc[i[1]])\n",
    "    dict_baselines[\"pt_1_y_mm\"].append(df_data[\"y_mm\"].iloc[i[0]])\n",
    "    dict_baselines[\"pt_2_y_mm\"].append(df_data[\"y_mm\"].iloc[i[1]])\n",
    "\n",
    "df_baselines = pd.DataFrame.from_dict(dict_baselines)"
   ]
  },
  {
   "cell_type": "code",
   "execution_count": 10,
   "metadata": {},
   "outputs": [],
   "source": [
    "# find distances in pixels, and in ASU movements in mm\n",
    "\n",
    "dict_baselines[\"piece_x_pix\"] = np.power(np.subtract(dict_baselines[\"pt_1_x_pix\"],dict_baselines[\"pt_2_x_pix\"]),2.)\n",
    "dict_baselines[\"piece_y_pix\"] = np.power(np.subtract(dict_baselines[\"pt_1_y_pix\"],dict_baselines[\"pt_2_y_pix\"]),2.)\n",
    "dict_baselines[\"d_pix\"] = np.sqrt(np.add(dict_baselines[\"piece_x_pix\"],dict_baselines[\"piece_y_pix\"]))\n",
    "\n",
    "dict_baselines[\"piece_x_mm\"] = np.power(np.subtract(dict_baselines[\"pt_1_x_mm\"],dict_baselines[\"pt_2_x_mm\"]),2.)\n",
    "dict_baselines[\"piece_y_mm\"] = np.power(np.subtract(dict_baselines[\"pt_1_y_mm\"],dict_baselines[\"pt_2_y_mm\"]),2.)\n",
    "dict_baselines[\"d_mm\"] = np.sqrt(np.add(dict_baselines[\"piece_x_mm\"],dict_baselines[\"piece_y_mm\"]))"
   ]
  },
  {
   "cell_type": "code",
   "execution_count": 12,
   "metadata": {},
   "outputs": [],
   "source": [
    "# convert mm distances to asec \n",
    "# GPI input window is 1.610 arcsec/mm\n",
    "\n",
    "dict_baselines[\"d_asec\"] = np.multiply(1.610,dict_baselines[\"d_mm\"]) # Gemini input image scale"
   ]
  },
  {
   "cell_type": "code",
   "execution_count": 13,
   "metadata": {},
   "outputs": [],
   "source": [
    "# add image scales\n",
    "\n",
    "dict_baselines[\"image_scale\"] = np.divide(dict_baselines[\"d_asec\"],dict_baselines[\"d_pix\"]) # units asec/pix"
   ]
  },
  {
   "cell_type": "code",
   "execution_count": 14,
   "metadata": {},
   "outputs": [
    {
     "name": "stdout",
     "output_type": "stream",
     "text": [
      "PS avg (asec/pix): 0.31323051698800125\n",
      "PS std (asec/pix): 0.1436125686637536\n"
     ]
    }
   ],
   "source": [
    "# average the plate scales\n",
    "\n",
    "ps_avg = np.mean(dict_baselines[\"image_scale\"])\n",
    "ps_std = np.std(dict_baselines[\"image_scale\"])\n",
    "\n",
    "print(\"PS avg (asec/pix): \" + str(ps_avg))\n",
    "print(\"PS std (asec/pix): \" + str(ps_std))"
   ]
  },
  {
   "cell_type": "code",
   "execution_count": null,
   "metadata": {},
   "outputs": [],
   "source": []
  }
 ],
 "metadata": {
  "kernelspec": {
   "display_name": "Python 3",
   "language": "python",
   "name": "python3"
  },
  "language_info": {
   "codemirror_mode": {
    "name": "ipython",
    "version": 3
   },
   "file_extension": ".py",
   "mimetype": "text/x-python",
   "name": "python",
   "nbconvert_exporter": "python",
   "pygments_lexer": "ipython3",
   "version": "3.6.10"
  }
 },
 "nbformat": 4,
 "nbformat_minor": 4
}
