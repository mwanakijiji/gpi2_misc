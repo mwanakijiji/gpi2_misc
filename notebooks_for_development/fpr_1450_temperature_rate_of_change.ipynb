{
 "cells": [
  {
   "cell_type": "code",
   "execution_count": 55,
   "metadata": {},
   "outputs": [],
   "source": [
    "import pandas as pd\n",
    "import numpy as np\n",
    "import matplotlib.pyplot as plt\n",
    "\n",
    "%matplotlib qt"
   ]
  },
  {
   "cell_type": "code",
   "execution_count": 2,
   "metadata": {},
   "outputs": [],
   "source": [
    "stem = \"/Users/bandari/Documents/git.repos/gpi2_misc/notebooks_for_development/data/\""
   ]
  },
  {
   "cell_type": "code",
   "execution_count": 3,
   "metadata": {},
   "outputs": [],
   "source": [
    "file_name = stem + \"20220912_temperature.log\""
   ]
  },
  {
   "cell_type": "code",
   "execution_count": 4,
   "metadata": {},
   "outputs": [],
   "source": [
    "df = pd.read_csv(file_name, skiprows=7, names=[\"day\",\"time\",\"molyblock\",\"tita_det_head\",\"intermed_opt_bench\",\n",
    "                                               \"intermed_block_ccr1\",\"cold_tip_ccr2\",\n",
    "                                               \"intermed_block_ccr2\",\"cold_tip_ccr1\",\"asic_strap\",\n",
    "                                               \"opt_bench\",\"cold_shield\",\"output_a\",\"output_b\"])"
   ]
  },
  {
   "cell_type": "code",
   "execution_count": 5,
   "metadata": {},
   "outputs": [
    {
     "data": {
      "text/html": [
       "<div>\n",
       "<style scoped>\n",
       "    .dataframe tbody tr th:only-of-type {\n",
       "        vertical-align: middle;\n",
       "    }\n",
       "\n",
       "    .dataframe tbody tr th {\n",
       "        vertical-align: top;\n",
       "    }\n",
       "\n",
       "    .dataframe thead th {\n",
       "        text-align: right;\n",
       "    }\n",
       "</style>\n",
       "<table border=\"1\" class=\"dataframe\">\n",
       "  <thead>\n",
       "    <tr style=\"text-align: right;\">\n",
       "      <th></th>\n",
       "      <th>day</th>\n",
       "      <th>time</th>\n",
       "      <th>molyblock</th>\n",
       "      <th>tita_det_head</th>\n",
       "      <th>intermed_opt_bench</th>\n",
       "      <th>intermed_block_ccr1</th>\n",
       "      <th>cold_tip_ccr2</th>\n",
       "      <th>intermed_block_ccr2</th>\n",
       "      <th>cold_tip_ccr1</th>\n",
       "      <th>asic_strap</th>\n",
       "      <th>opt_bench</th>\n",
       "      <th>cold_shield</th>\n",
       "      <th>output_a</th>\n",
       "      <th>output_b</th>\n",
       "    </tr>\n",
       "  </thead>\n",
       "  <tbody>\n",
       "    <tr>\n",
       "      <th>0</th>\n",
       "      <td>22/09/12</td>\n",
       "      <td>11:43:12</td>\n",
       "      <td>291.294</td>\n",
       "      <td>291.727</td>\n",
       "      <td>292.334</td>\n",
       "      <td>291.292</td>\n",
       "      <td>295.575</td>\n",
       "      <td>292.808</td>\n",
       "      <td>291.547</td>\n",
       "      <td>291.631</td>\n",
       "      <td>292.189</td>\n",
       "      <td>291.958</td>\n",
       "      <td>0.0</td>\n",
       "      <td>0.0</td>\n",
       "    </tr>\n",
       "    <tr>\n",
       "      <th>1</th>\n",
       "      <td>22/09/12</td>\n",
       "      <td>11:44:12</td>\n",
       "      <td>291.294</td>\n",
       "      <td>291.727</td>\n",
       "      <td>292.334</td>\n",
       "      <td>291.292</td>\n",
       "      <td>295.576</td>\n",
       "      <td>292.807</td>\n",
       "      <td>291.547</td>\n",
       "      <td>291.631</td>\n",
       "      <td>292.189</td>\n",
       "      <td>291.958</td>\n",
       "      <td>0.0</td>\n",
       "      <td>0.0</td>\n",
       "    </tr>\n",
       "    <tr>\n",
       "      <th>2</th>\n",
       "      <td>22/09/12</td>\n",
       "      <td>11:45:12</td>\n",
       "      <td>291.294</td>\n",
       "      <td>291.727</td>\n",
       "      <td>292.334</td>\n",
       "      <td>291.292</td>\n",
       "      <td>295.576</td>\n",
       "      <td>292.808</td>\n",
       "      <td>291.547</td>\n",
       "      <td>291.631</td>\n",
       "      <td>292.189</td>\n",
       "      <td>291.958</td>\n",
       "      <td>0.0</td>\n",
       "      <td>0.0</td>\n",
       "    </tr>\n",
       "    <tr>\n",
       "      <th>3</th>\n",
       "      <td>22/09/12</td>\n",
       "      <td>11:46:12</td>\n",
       "      <td>291.295</td>\n",
       "      <td>291.727</td>\n",
       "      <td>292.334</td>\n",
       "      <td>291.292</td>\n",
       "      <td>295.578</td>\n",
       "      <td>292.807</td>\n",
       "      <td>291.546</td>\n",
       "      <td>291.631</td>\n",
       "      <td>292.189</td>\n",
       "      <td>291.957</td>\n",
       "      <td>0.0</td>\n",
       "      <td>0.0</td>\n",
       "    </tr>\n",
       "    <tr>\n",
       "      <th>4</th>\n",
       "      <td>22/09/12</td>\n",
       "      <td>11:47:12</td>\n",
       "      <td>291.294</td>\n",
       "      <td>291.728</td>\n",
       "      <td>292.334</td>\n",
       "      <td>291.292</td>\n",
       "      <td>295.578</td>\n",
       "      <td>292.807</td>\n",
       "      <td>291.546</td>\n",
       "      <td>291.630</td>\n",
       "      <td>292.189</td>\n",
       "      <td>291.957</td>\n",
       "      <td>0.0</td>\n",
       "      <td>0.0</td>\n",
       "    </tr>\n",
       "    <tr>\n",
       "      <th>...</th>\n",
       "      <td>...</td>\n",
       "      <td>...</td>\n",
       "      <td>...</td>\n",
       "      <td>...</td>\n",
       "      <td>...</td>\n",
       "      <td>...</td>\n",
       "      <td>...</td>\n",
       "      <td>...</td>\n",
       "      <td>...</td>\n",
       "      <td>...</td>\n",
       "      <td>...</td>\n",
       "      <td>...</td>\n",
       "      <td>...</td>\n",
       "      <td>...</td>\n",
       "    </tr>\n",
       "    <tr>\n",
       "      <th>19977</th>\n",
       "      <td>22/09/26</td>\n",
       "      <td>09:51:42</td>\n",
       "      <td>135.366</td>\n",
       "      <td>85.338</td>\n",
       "      <td>77.491</td>\n",
       "      <td>73.340</td>\n",
       "      <td>68.620</td>\n",
       "      <td>73.626</td>\n",
       "      <td>67.923</td>\n",
       "      <td>81.292</td>\n",
       "      <td>76.005</td>\n",
       "      <td>80.287</td>\n",
       "      <td>0.0</td>\n",
       "      <td>0.0</td>\n",
       "    </tr>\n",
       "    <tr>\n",
       "      <th>19978</th>\n",
       "      <td>22/09/26</td>\n",
       "      <td>09:52:42</td>\n",
       "      <td>138.694</td>\n",
       "      <td>85.338</td>\n",
       "      <td>77.491</td>\n",
       "      <td>73.340</td>\n",
       "      <td>68.615</td>\n",
       "      <td>73.625</td>\n",
       "      <td>67.924</td>\n",
       "      <td>81.292</td>\n",
       "      <td>76.005</td>\n",
       "      <td>80.287</td>\n",
       "      <td>0.0</td>\n",
       "      <td>0.0</td>\n",
       "    </tr>\n",
       "    <tr>\n",
       "      <th>19979</th>\n",
       "      <td>22/09/26</td>\n",
       "      <td>09:53:42</td>\n",
       "      <td>138.652</td>\n",
       "      <td>85.338</td>\n",
       "      <td>77.492</td>\n",
       "      <td>73.340</td>\n",
       "      <td>68.612</td>\n",
       "      <td>73.625</td>\n",
       "      <td>67.921</td>\n",
       "      <td>81.292</td>\n",
       "      <td>76.004</td>\n",
       "      <td>80.286</td>\n",
       "      <td>0.0</td>\n",
       "      <td>0.0</td>\n",
       "    </tr>\n",
       "    <tr>\n",
       "      <th>19980</th>\n",
       "      <td>22/09/26</td>\n",
       "      <td>09:54:42</td>\n",
       "      <td>138.551</td>\n",
       "      <td>85.338</td>\n",
       "      <td>77.492</td>\n",
       "      <td>73.339</td>\n",
       "      <td>68.611</td>\n",
       "      <td>73.624</td>\n",
       "      <td>67.919</td>\n",
       "      <td>81.293</td>\n",
       "      <td>76.004</td>\n",
       "      <td>80.287</td>\n",
       "      <td>0.0</td>\n",
       "      <td>0.0</td>\n",
       "    </tr>\n",
       "    <tr>\n",
       "      <th>19981</th>\n",
       "      <td>22/09/26</td>\n",
       "      <td>09:55:42</td>\n",
       "      <td>135.596</td>\n",
       "      <td>85.339</td>\n",
       "      <td>77.492</td>\n",
       "      <td>73.339</td>\n",
       "      <td>68.610</td>\n",
       "      <td>73.623</td>\n",
       "      <td>67.917</td>\n",
       "      <td>81.293</td>\n",
       "      <td>76.004</td>\n",
       "      <td>80.287</td>\n",
       "      <td>0.0</td>\n",
       "      <td>0.0</td>\n",
       "    </tr>\n",
       "  </tbody>\n",
       "</table>\n",
       "<p>19982 rows × 14 columns</p>\n",
       "</div>"
      ],
      "text/plain": [
       "            day      time molyblock tita_det_head intermed_opt_bench  \\\n",
       "0      22/09/12  11:43:12   291.294       291.727            292.334   \n",
       "1      22/09/12  11:44:12   291.294       291.727            292.334   \n",
       "2      22/09/12  11:45:12   291.294       291.727            292.334   \n",
       "3      22/09/12  11:46:12   291.295       291.727            292.334   \n",
       "4      22/09/12  11:47:12   291.294       291.728            292.334   \n",
       "...         ...       ...       ...           ...                ...   \n",
       "19977  22/09/26  09:51:42   135.366        85.338             77.491   \n",
       "19978  22/09/26  09:52:42   138.694        85.338             77.491   \n",
       "19979  22/09/26  09:53:42   138.652        85.338             77.492   \n",
       "19980  22/09/26  09:54:42   138.551        85.338             77.492   \n",
       "19981  22/09/26  09:55:42   135.596        85.339             77.492   \n",
       "\n",
       "      intermed_block_ccr1 cold_tip_ccr2 intermed_block_ccr2 cold_tip_ccr1  \\\n",
       "0                 291.292       295.575             292.808       291.547   \n",
       "1                 291.292       295.576             292.807       291.547   \n",
       "2                 291.292       295.576             292.808       291.547   \n",
       "3                 291.292       295.578             292.807       291.546   \n",
       "4                 291.292       295.578             292.807       291.546   \n",
       "...                   ...           ...                 ...           ...   \n",
       "19977              73.340        68.620              73.626        67.923   \n",
       "19978              73.340        68.615              73.625        67.924   \n",
       "19979              73.340        68.612              73.625        67.921   \n",
       "19980              73.339        68.611              73.624        67.919   \n",
       "19981              73.339        68.610              73.623        67.917   \n",
       "\n",
       "      asic_strap opt_bench cold_shield output_a output_b  \n",
       "0        291.631   292.189     291.958      0.0      0.0  \n",
       "1        291.631   292.189     291.958      0.0      0.0  \n",
       "2        291.631   292.189     291.958      0.0      0.0  \n",
       "3        291.631   292.189     291.957      0.0      0.0  \n",
       "4        291.630   292.189     291.957      0.0      0.0  \n",
       "...          ...       ...         ...      ...      ...  \n",
       "19977     81.292    76.005      80.287      0.0      0.0  \n",
       "19978     81.292    76.005      80.287      0.0      0.0  \n",
       "19979     81.292    76.004      80.286      0.0      0.0  \n",
       "19980     81.293    76.004      80.287      0.0      0.0  \n",
       "19981     81.293    76.004      80.287      0.0      0.0  \n",
       "\n",
       "[19982 rows x 14 columns]"
      ]
     },
     "execution_count": 5,
     "metadata": {},
     "output_type": "execute_result"
    }
   ],
   "source": [
    "df"
   ]
  },
  {
   "cell_type": "code",
   "execution_count": 6,
   "metadata": {},
   "outputs": [],
   "source": [
    "# get rid of non-numeric strings\n",
    "\n",
    "molyblock = df[\"molyblock\"].apply(pd.to_numeric, errors='coerce')\n",
    "opt_bench = df[\"intermed_opt_bench\"].apply(pd.to_numeric, errors='coerce')"
   ]
  },
  {
   "cell_type": "code",
   "execution_count": 33,
   "metadata": {},
   "outputs": [
    {
     "data": {
      "text/plain": [
       "0        11:43:12\n",
       "1        11:44:12\n",
       "2        11:45:12\n",
       "3        11:46:12\n",
       "4        11:47:12\n",
       "           ...   \n",
       "19977    09:51:42\n",
       "19978    09:52:42\n",
       "19979    09:53:42\n",
       "19980    09:54:42\n",
       "19981    09:55:42\n",
       "Name: time, Length: 19982, dtype: object"
      ]
     },
     "execution_count": 33,
     "metadata": {},
     "output_type": "execute_result"
    }
   ],
   "source": [
    "df['time']"
   ]
  },
  {
   "cell_type": "code",
   "execution_count": 24,
   "metadata": {},
   "outputs": [
    {
     "data": {
      "text/plain": [
       "0        11:43:12\n",
       "1        11:44:12\n",
       "2        11:45:12\n",
       "3        11:46:12\n",
       "4        11:47:12\n",
       "           ...   \n",
       "19977    09:51:42\n",
       "19978    09:52:42\n",
       "19979    09:53:42\n",
       "19980    09:54:42\n",
       "19981    09:55:42\n",
       "Name: time, Length: 19982, dtype: object"
      ]
     },
     "execution_count": 24,
     "metadata": {},
     "output_type": "execute_result"
    }
   ],
   "source": [
    "df['time']"
   ]
  },
  {
   "cell_type": "code",
   "execution_count": 37,
   "metadata": {},
   "outputs": [
    {
     "name": "stdout",
     "output_type": "stream",
     "text": [
      "|22/09/12|\n"
     ]
    }
   ],
   "source": [
    "print(\"|\"+df['day'][0]+\"|\")"
   ]
  },
  {
   "cell_type": "code",
   "execution_count": 36,
   "metadata": {},
   "outputs": [
    {
     "name": "stdout",
     "output_type": "stream",
     "text": [
      "|11:43:12|\n"
     ]
    }
   ],
   "source": [
    "print(\"|\" + df['time'][0] + \"|\")"
   ]
  },
  {
   "cell_type": "code",
   "execution_count": 41,
   "metadata": {},
   "outputs": [
    {
     "data": {
      "text/plain": [
       "0        22/09/12T11:43:12\n",
       "1        22/09/12T11:44:12\n",
       "2        22/09/12T11:45:12\n",
       "3        22/09/12T11:46:12\n",
       "4        22/09/12T11:47:12\n",
       "               ...        \n",
       "19977    22/09/26T09:51:42\n",
       "19978    22/09/26T09:52:42\n",
       "19979    22/09/26T09:53:42\n",
       "19980    22/09/26T09:54:42\n",
       "19981    22/09/26T09:55:42\n",
       "Length: 19982, dtype: object"
      ]
     },
     "execution_count": 41,
     "metadata": {},
     "output_type": "execute_result"
    }
   ],
   "source": [
    "df['day'] + \"T\" + df['time']"
   ]
  },
  {
   "cell_type": "code",
   "execution_count": 46,
   "metadata": {},
   "outputs": [],
   "source": [
    "# turn time strings to time objects\n",
    "\n",
    "df[\"full_time\"] = pd.to_datetime(df['day'] + \"T\" + df['time'], format=\"%y/%m/%dT%H:%M:%S\")"
   ]
  },
  {
   "cell_type": "code",
   "execution_count": 53,
   "metadata": {},
   "outputs": [
    {
     "data": {
      "text/plain": [
       "0       2022-09-12 11:43:12\n",
       "1       2022-09-12 11:44:12\n",
       "2       2022-09-12 11:45:12\n",
       "3       2022-09-12 11:46:12\n",
       "4       2022-09-12 11:47:12\n",
       "                ...        \n",
       "19977   2022-09-26 09:51:42\n",
       "19978   2022-09-26 09:52:42\n",
       "19979   2022-09-26 09:53:42\n",
       "19980   2022-09-26 09:54:42\n",
       "19981   2022-09-26 09:55:42\n",
       "Name: full_time, Length: 19982, dtype: datetime64[ns]"
      ]
     },
     "execution_count": 53,
     "metadata": {},
     "output_type": "execute_result"
    }
   ],
   "source": [
    "df[\"full_time\"]"
   ]
  },
  {
   "cell_type": "code",
   "execution_count": 52,
   "metadata": {},
   "outputs": [
    {
     "name": "stdout",
     "output_type": "stream",
     "text": [
      "0              0.0\n",
      "1             60.0\n",
      "2            120.0\n",
      "3            180.0\n",
      "4            240.0\n",
      "           ...    \n",
      "19977    1202910.0\n",
      "19978    1202970.0\n",
      "19979    1203030.0\n",
      "19980    1203090.0\n",
      "19981    1203150.0\n",
      "Name: delta_t, Length: 19982, dtype: float64\n"
     ]
    }
   ],
   "source": [
    "# convert to cumulative mins\n",
    "\n",
    "df[\"delta_t\"] = df[\"full_time\"] - df[\"full_time\"][0]\n",
    "print(df[\"delta_t\"].dt.total_seconds())"
   ]
  },
  {
   "cell_type": "code",
   "execution_count": 66,
   "metadata": {},
   "outputs": [],
   "source": [
    "# find time and temp intervals (note one element at end will be bogus)\n",
    "\n",
    "df[\"interval_t\"] = np.subtract(df[\"delta_t\"].dt.total_seconds(),np.roll(df[\"delta_t\"].dt.total_seconds(),1))\n",
    "opt_bench_dK = np.subtract(opt_bench,np.roll(opt_bench,1))\n",
    "molyblock_dK = np.subtract(molyblock,np.roll(molyblock,1))"
   ]
  },
  {
   "cell_type": "code",
   "execution_count": 67,
   "metadata": {},
   "outputs": [],
   "source": [
    "# find rate of change of temp [K/min]\n",
    "\n",
    "df[\"bench_dKdt\"] = np.divide(opt_bench_dK,df[\"interval_t\"]) * 60\n",
    "df[\"molyblock_dKdt\"] = np.divide(molyblock_dK,df[\"interval_t\"]) * 60"
   ]
  },
  {
   "cell_type": "code",
   "execution_count": 74,
   "metadata": {},
   "outputs": [],
   "source": [
    "plt.clf()\n",
    "plt.plot(df[\"delta_t\"][10:-10],df[\"bench_dKdt\"][10:-10])\n",
    "plt.plot(df[\"delta_t\"][10:-10],df[\"molyblock_dKdt\"][10:-10])\n",
    "plt.show()"
   ]
  },
  {
   "cell_type": "code",
   "execution_count": 65,
   "metadata": {},
   "outputs": [
    {
     "data": {
      "text/plain": [
       "0        292.334\n",
       "1        292.334\n",
       "2        292.334\n",
       "3        292.334\n",
       "4        292.334\n",
       "          ...   \n",
       "19977     77.491\n",
       "19978     77.491\n",
       "19979     77.492\n",
       "19980     77.492\n",
       "19981     77.492\n",
       "Name: intermed_opt_bench, Length: 19982, dtype: float64"
      ]
     },
     "execution_count": 65,
     "metadata": {},
     "output_type": "execute_result"
    }
   ],
   "source": [
    "opt_bench"
   ]
  },
  {
   "cell_type": "code",
   "execution_count": null,
   "metadata": {},
   "outputs": [],
   "source": []
  }
 ],
 "metadata": {
  "kernelspec": {
   "display_name": "Python 3",
   "language": "python",
   "name": "python3"
  },
  "language_info": {
   "codemirror_mode": {
    "name": "ipython",
    "version": 3
   },
   "file_extension": ".py",
   "mimetype": "text/x-python",
   "name": "python",
   "nbconvert_exporter": "python",
   "pygments_lexer": "ipython3",
   "version": "3.6.10"
  }
 },
 "nbformat": 4,
 "nbformat_minor": 4
}
