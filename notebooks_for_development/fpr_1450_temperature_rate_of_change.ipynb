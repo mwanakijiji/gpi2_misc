{
 "cells": [
  {
   "cell_type": "code",
   "execution_count": 1,
   "metadata": {},
   "outputs": [],
   "source": [
    "import pandas as pd\n",
    "import numpy as np\n",
    "import matplotlib.pyplot as plt\n",
    "\n",
    "#%matplotlib qt"
   ]
  },
  {
   "cell_type": "code",
   "execution_count": 2,
   "metadata": {},
   "outputs": [],
   "source": [
    "stem = \"/Users/bandari/Documents/git.repos/gpi2_misc/notebooks_for_development/data/\""
   ]
  },
  {
   "cell_type": "code",
   "execution_count": 3,
   "metadata": {},
   "outputs": [],
   "source": [
    "file_name = stem + \"20220912_temperature.log\""
   ]
  },
  {
   "cell_type": "code",
   "execution_count": 4,
   "metadata": {},
   "outputs": [],
   "source": [
    "df = pd.read_csv(file_name, skiprows=7, names=[\"day\",\"time\",\"molyblock\",\"tita_det_head\",\"intermed_opt_bench\",\n",
    "                                               \"intermed_block_ccr1\",\"cold_tip_ccr2\",\n",
    "                                               \"intermed_block_ccr2\",\"cold_tip_ccr1\",\"asic_strap\",\n",
    "                                               \"opt_bench\",\"cold_shield\",\"output_a\",\"output_b\"])"
   ]
  },
  {
   "cell_type": "code",
   "execution_count": 5,
   "metadata": {},
   "outputs": [],
   "source": [
    "# get rid of non-numeric strings\n",
    "\n",
    "molyblock = df[\"molyblock\"].apply(pd.to_numeric, errors='coerce')\n",
    "opt_bench = df[\"intermed_opt_bench\"].apply(pd.to_numeric, errors='coerce')"
   ]
  },
  {
   "cell_type": "code",
   "execution_count": 6,
   "metadata": {},
   "outputs": [],
   "source": [
    "# turn time strings to time objects\n",
    "\n",
    "df[\"full_time\"] = pd.to_datetime(df['day'] + \"T\" + df['time'], format=\"%y/%m/%dT%H:%M:%S\")"
   ]
  },
  {
   "cell_type": "code",
   "execution_count": 7,
   "metadata": {},
   "outputs": [],
   "source": [
    "# convert to cumulative mins\n",
    "\n",
    "df[\"delta_t\"] = df[\"full_time\"] - df[\"full_time\"][0]"
   ]
  },
  {
   "cell_type": "code",
   "execution_count": 8,
   "metadata": {},
   "outputs": [],
   "source": [
    "# find time and temp intervals (note one element at end will be bogus)\n",
    "\n",
    "## MOLYBLOCK TEMPS ARE ERRONEOUS! BAD SENSOR\n",
    "\n",
    "df[\"interval_t\"] = np.subtract(df[\"delta_t\"].dt.total_seconds(),np.roll(df[\"delta_t\"].dt.total_seconds(),1))\n",
    "opt_bench_dK = np.subtract(opt_bench,np.roll(opt_bench,1))\n",
    "molyblock_dK = np.subtract(molyblock,np.roll(molyblock,1))"
   ]
  },
  {
   "cell_type": "code",
   "execution_count": 9,
   "metadata": {},
   "outputs": [],
   "source": [
    "# find rate of change of temp [K/min]\n",
    "\n",
    "df[\"bench_dKdt\"] = np.divide(opt_bench_dK,df[\"interval_t\"]) * 60\n",
    "df[\"molyblock_dKdt\"] = np.divide(molyblock_dK,df[\"interval_t\"]) * 60"
   ]
  },
  {
   "cell_type": "code",
   "execution_count": 28,
   "metadata": {},
   "outputs": [
    {
     "data": {
      "text/plain": [
       "'\\n\"molyblock\",\"tita_det_head\",\"intermed_opt_bench\",\\n                                               \"intermed_block_ccr1\",\"cold_tip_ccr2\",\\n                                               \"intermed_block_ccr2\",\"cold_tip_ccr1\",\"asic_strap\",\\n                                               \"opt_bench\",\"cold_shield\",\"output_a\",\"output_b\"])\\n'"
      ]
     },
     "execution_count": 28,
     "metadata": {},
     "output_type": "execute_result"
    }
   ],
   "source": [
    "# plot absolute temps\n",
    "\n",
    "plt.clf()\n",
    "plt.plot(df[\"delta_t\"][10:-10], molyblock[10:-10], label=\"Molyblock\")\n",
    "plt.plot(df[\"delta_t\"][10:-10], opt_bench[10:-10], label=\"Bench\")\n",
    "#plt.plot(df[\"delta_t\"][10:-10], df[\"intermed_block_ccr1\"][10:-10].values, label=\"test\")\n",
    "plt.xlabel(\"Elapsed seconds\")\n",
    "plt.ylabel(\"Temp [K]\")\n",
    "plt.legend()\n",
    "plt.savefig(\"junk_abs_temp.png\")\n",
    "\n",
    "'''\n",
    "\"molyblock\",\"tita_det_head\",\"intermed_opt_bench\",\n",
    "                                               \"intermed_block_ccr1\",\"cold_tip_ccr2\",\n",
    "                                               \"intermed_block_ccr2\",\"cold_tip_ccr1\",\"asic_strap\",\n",
    "                                               \"opt_bench\",\"cold_shield\",\"output_a\",\"output_b\"])\n",
    "'''"
   ]
  },
  {
   "cell_type": "code",
   "execution_count": 29,
   "metadata": {},
   "outputs": [],
   "source": [
    "# plot change in temps\n",
    "\n",
    "plt.clf()\n",
    "plt.plot(df[\"delta_t\"][10:-10],df[\"bench_dKdt\"][10:-10], label=\"Bench\")\n",
    "plt.axhline(y=0.25, linestyle=\":\", color=\"gray\")\n",
    "plt.axhline(y=-0.25, linestyle=\":\", color=\"gray\")\n",
    "plt.legend()\n",
    "plt.xlabel(\"Elapsed seconds\")\n",
    "plt.ylabel(\"dK/dt [K/min]\")\n",
    "plt.savefig(\"junk_change_temp.png\")"
   ]
  },
  {
   "cell_type": "code",
   "execution_count": 10,
   "metadata": {},
   "outputs": [
    {
     "name": "stdout",
     "output_type": "stream",
     "text": [
      "Stdev of Bench dKdt [K/min] 0.017748661494064195\n",
      "Stdev of Molyblock dKdt [K/min]; ERRONEOUS 0.7416802138922415\n"
     ]
    }
   ],
   "source": [
    "print(\"Stdev of Bench dKdt [K/min]\", np.std(df[\"bench_dKdt\"][10:-10]))\n",
    "print(\"Stdev of Molyblock dKdt [K/min]; ERRONEOUS\", np.std(df[\"molyblock_dKdt\"][10:-10]))"
   ]
  }
 ],
 "metadata": {
  "kernelspec": {
   "display_name": "Python 3",
   "language": "python",
   "name": "python3"
  },
  "language_info": {
   "codemirror_mode": {
    "name": "ipython",
    "version": 3
   },
   "file_extension": ".py",
   "mimetype": "text/x-python",
   "name": "python",
   "nbconvert_exporter": "python",
   "pygments_lexer": "ipython3",
   "version": "3.6.10"
  }
 },
 "nbformat": 4,
 "nbformat_minor": 4
}
