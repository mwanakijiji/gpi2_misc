{
 "cells": [
  {
   "cell_type": "code",
   "execution_count": null,
   "id": "statutory-subcommittee",
   "metadata": {},
   "outputs": [],
   "source": [
    "# This calculates approximate dew points for the 100-level lab that will house GPI2\n",
    "\n",
    "# Created 2021 May 6 by E.S."
   ]
  },
  {
   "cell_type": "code",
   "execution_count": 2,
   "id": "finnish-governor",
   "metadata": {},
   "outputs": [],
   "source": [
    "import matplotlib.pyplot as plt\n",
    "import pandas as pd\n",
    "import numpy as np"
   ]
  },
  {
   "cell_type": "code",
   "execution_count": 4,
   "id": "centered-proceeding",
   "metadata": {},
   "outputs": [],
   "source": [
    "# constants\n",
    "\n",
    "a = 6.1121 # (mbar)\n",
    "b = 18.678\n",
    "c = 257.14 # (deg C)\n",
    "d = 234.5 # (deg C)"
   ]
  },
  {
   "cell_type": "code",
   "execution_count": 17,
   "id": "exciting-recipient",
   "metadata": {},
   "outputs": [],
   "source": [
    "def C_to_F(C_pass):\n",
    "    \n",
    "    F_pass = C_pass*9/5 + 32\n",
    "    \n",
    "    return F_pass"
   ]
  },
  {
   "cell_type": "code",
   "execution_count": 15,
   "id": "numerical-corpus",
   "metadata": {},
   "outputs": [],
   "source": [
    "def F_to_C(F_pass):\n",
    "    \n",
    "    C_pass = (F_pass - 32) * 5/9 \n",
    "    \n",
    "    return C_pass"
   ]
  },
  {
   "cell_type": "code",
   "execution_count": 18,
   "id": "turkish-young",
   "metadata": {},
   "outputs": [
    {
     "data": {
      "text/plain": [
       "32.0"
      ]
     },
     "execution_count": 18,
     "metadata": {},
     "output_type": "execute_result"
    }
   ],
   "source": [
    "C_to_F(0)"
   ]
  },
  {
   "cell_type": "code",
   "execution_count": 5,
   "id": "directed-dimension",
   "metadata": {},
   "outputs": [],
   "source": [
    "def gamma_fcn(T_pass,RH_pass):\n",
    "    '''\n",
    "    'gamma' part of the Magnus formula\n",
    "    '''\n",
    "    \n",
    "    gamma_T_RH = np.add(np.log(np.divide(RH_pass,100.)),np.divide(b*T_pass,c+T_pass))\n",
    "    \n",
    "    return gamma_T_RH"
   ]
  },
  {
   "cell_type": "code",
   "execution_count": 19,
   "id": "bored-start",
   "metadata": {},
   "outputs": [],
   "source": [
    "def magnus(T_F,RH_pass):\n",
    "    '''\n",
    "    Magnus formula, for finding dew point t_dp as fcn of T (C) and relative humidity RH (%)\n",
    "    \n",
    "    Input and output temperatures are in Fahrenheit\n",
    "    '''\n",
    "    \n",
    "    T_pass = F_to_C(T_F)\n",
    "    \n",
    "    T_dp = np.divide(c*gamma_fcn(T_pass,RH_pass),b-gamma_fcn(T_pass,RH_pass))\n",
    "    \n",
    "    T_dp_F = C_to_F(T_dp)\n",
    "    \n",
    "    return T_dp_F"
   ]
  },
  {
   "cell_type": "code",
   "execution_count": 27,
   "id": "offensive-characteristic",
   "metadata": {},
   "outputs": [],
   "source": [
    "RH = np.arange(67,91,1)\n",
    "dp_75F = magnus(T_F=75,RH_pass=RH)\n",
    "dp_71F = magnus(T_F=71,RH_pass=RH)"
   ]
  },
  {
   "cell_type": "code",
   "execution_count": 31,
   "id": "dietary-somewhere",
   "metadata": {},
   "outputs": [
    {
     "data": {
      "image/png": "[encoded data removed]",
      "text/plain": [
       "<Figure size 432x288 with 1 Axes>"
      ]
     },
     "metadata": {
      "needs_background": "light"
     },
     "output_type": "display_data"
    }
   ],
   "source": [
    "plt.plot(RH,dp_75F,label=\"T = 75 F\")\n",
    "plt.plot(RH,dp_71F,label=\"T = 71 F\")\n",
    "plt.xlabel(\"Relative Humidity (%)\")\n",
    "plt.ylabel(\"Dew point (deg F)\")\n",
    "plt.legend()\n",
    "plt.savefig(\"dew_points.pdf\")"
   ]
  },
  {
   "cell_type": "code",
   "execution_count": null,
   "id": "convenient-actor",
   "metadata": {},
   "outputs": [],
   "source": []
  }
 ],
 "metadata": {
  "kernelspec": {
   "display_name": "Python 3",
   "language": "python",
   "name": "python3"
  },
  "language_info": {
   "codemirror_mode": {
    "name": "ipython",
    "version": 3
   },
   "file_extension": ".py",
   "mimetype": "text/x-python",
   "name": "python",
   "nbconvert_exporter": "python",
   "pygments_lexer": "ipython3",
   "version": "3.7.9"
  }
 },
 "nbformat": 4,
 "nbformat_minor": 5
}
