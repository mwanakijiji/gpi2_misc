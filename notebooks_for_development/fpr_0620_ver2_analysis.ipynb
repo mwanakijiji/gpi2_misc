{
 "cells": [
  {
   "cell_type": "code",
   "execution_count": null,
   "id": "e722bfab",
   "metadata": {},
   "outputs": [],
   "source": [
    "# This reads in reduced FITS frames of calibration lamps, extracts \n",
    "# info from the header, and returns resolution\n",
    "\n",
    "# Created 2021 Sept. 22 by E.S."
   ]
  },
  {
   "cell_type": "code",
   "execution_count": 39,
   "id": "995c439d",
   "metadata": {},
   "outputs": [],
   "source": [
    "import os\n",
    "import numpy as np\n",
    "from astropy.io import fits\n",
    "import matplotlib.pyplot as plt"
   ]
  },
  {
   "cell_type": "code",
   "execution_count": 40,
   "id": "f0983dfe",
   "metadata": {},
   "outputs": [],
   "source": [
    "stem = \"/Users/bandari/Documents/git.repos/gpi2_misc/notebooks_for_development/data/fpr_0620_ver2/\""
   ]
  },
  {
   "cell_type": "code",
   "execution_count": 47,
   "id": "2e2f2dc3",
   "metadata": {},
   "outputs": [],
   "source": [
    "# read in 281x281x5 wavelength calibration cube, extract dispersion w (in um/pix)\n",
    "\n",
    "file_H_xe = \"H_band/xe_lamp/S20131208S0151_H_wavecal.fits\"\n",
    "image_H_xe = fits.open(stem + file_H_xe)\n",
    "\n",
    "file_H_ar = \"H_band/ar_lamp/---\"\n",
    "image_H_ar = fits.open(stem + file_H_xe)\n",
    "\n",
    "file_Y_xe = \"Y_band/xe_lamp/\"\n",
    "image_Y_xe = fits.open(stem + file_Y_xe)\n",
    "\n",
    "file_Y_ar = \"H_band/ar_lamp/---\"\n",
    "image_Y_ar = fits.open(stem + file_Y_xe)\n",
    "\n",
    "file_J_xe = \"H_band/xe_lamp/---\"\n",
    "image_J_xe = fits.open(stem + file_J_xe)\n",
    "\n",
    "file_J_ar = \"H_band/ar_lamp/---\"\n",
    "image_J_ar = fits.open(stem + file_H_xe)\n",
    "\n",
    "file_K1_xe = \"H_band/xe_lamp/---\"\n",
    "image_K1_xe = fits.open(stem + file_H_xe)\n",
    "\n",
    "file_K1_ar = \"H_band/ar_lamp/---\"\n",
    "image_K1_ar = fits.open(stem + file_H_xe)\n",
    "\n",
    "file_K2_xe = \"H_band/xe_lamp/---\"\n",
    "image_K2_xe = fits.open(stem + file_H_xe)\n",
    "\n",
    "file_K2_ar = \"H_band/ar_lamp/---\"\n",
    "image_K2_ar = fits.open(stem + file_H_xe)"
   ]
  },
  {
   "cell_type": "code",
   "execution_count": 44,
   "id": "659beba1",
   "metadata": {},
   "outputs": [],
   "source": [
    "# mean wavelengths (in um) \n",
    "# Source: SVO filter service\n",
    "\n",
    "mean_Y = 1.047154\n",
    "mean_J = 1.234411\n",
    "mean_H = 1.647298\n",
    "mean_K1 = 2.042490\n",
    "mean_K2 = 2.251543"
   ]
  },
  {
   "cell_type": "code",
   "execution_count": 42,
   "id": "20605669",
   "metadata": {},
   "outputs": [],
   "source": [
    "# Eqn. (1) in Woolf+ 2014:\n",
    "# x = x0 + sinθ((λ−λ0)/w) and y=y0 cosθ((λ−λ0)/w)"
   ]
  },
  {
   "cell_type": "code",
   "execution_count": 43,
   "id": "a0137135",
   "metadata": {},
   "outputs": [
    {
     "data": {
      "text/plain": [
       "'\\nHISTORY  Wavelength solution File Format:                                       \\nHISTORY  Dispersion for each spectrum is defined as                             \\nHISTORY  lambda=w * (sqrt((x-x0)^2+(y-y0)^2))+lambda0                           \\nHISTORY     Slice 1:  Y-positions (y0) of spectra (Y=spectral direction) at [lam\\nHISTORY bda0]                                                                   \\nHISTORY     Slice 2:  X-positions (x0) of spectra at [lambda0]                  \\nHISTORY     Slice 3:  lambda0 [um]                                              \\nHISTORY     Slice 4:  dispersion w [um/pixel]                                   \\nHISTORY     Slice 5:  tilts of spectra [radians]   \\n'"
      ]
     },
     "execution_count": 43,
     "metadata": {},
     "output_type": "execute_result"
    }
   ],
   "source": [
    "# FITS file headers say\n",
    "\n",
    "'''\n",
    "HISTORY  Wavelength solution File Format:                                       \n",
    "HISTORY  Dispersion for each spectrum is defined as                             \n",
    "HISTORY  lambda=w * (sqrt((x-x0)^2+(y-y0)^2))+lambda0                           \n",
    "HISTORY     Slice 1:  Y-positions (y0) of spectra (Y=spectral direction) at [lam\n",
    "HISTORY bda0]                                                                   \n",
    "HISTORY     Slice 2:  X-positions (x0) of spectra at [lambda0]                  \n",
    "HISTORY     Slice 3:  lambda0 [um]                                              \n",
    "HISTORY     Slice 4:  dispersion w [um/pixel]                                   \n",
    "HISTORY     Slice 5:  tilts of spectra [radians]   \n",
    "'''"
   ]
  },
  {
   "cell_type": "code",
   "execution_count": 52,
   "id": "a4b13e7f",
   "metadata": {},
   "outputs": [],
   "source": [
    "# check dispersion in five locations: near corners of lenslet array, and in center\n",
    "\n",
    "def print_res(wavel_mean, image_pass, fwhm_pass=2):\n",
    "    '''\n",
    "    Prints the average resolution, based on the mean wavelength of the filter and the dispersion\n",
    "    \n",
    "    INPUTS:\n",
    "    wavel_mean: mean wavelength of filter\n",
    "    image_pass: cube of wavelength calibration\n",
    "    fwhm_pass: FWHM of spectra (around 2)\n",
    "    '''\n",
    "    \n",
    "    # dispersions are in units of um/pixel\n",
    "    \n",
    "    w_top_left = image_pass[1].data[3,182,36]\n",
    "    w_top_right = image_pass[1].data[3,248,180]\n",
    "    w_bottom_left = image_pass[1].data[3,38,99]\n",
    "    w_bottom_right = image_pass[1].data[3,99,247]\n",
    "    w_center = image_pass[1].data[3,140,140]\n",
    "    \n",
    "    w_all = np.array([w_top_left,w_top_right,w_bottom_left,w_bottom_right,w_center])\n",
    "    \n",
    "    # average resolution is central wavelength divided by dispersion across a single pixel.\n",
    "    R_avg = np.divide(np.divide(wavel_mean,w_all),2)\n",
    "    \n",
    "    print(\"Resolution, Top left; Top right; Bottom left; Bottom right; Center\")\n",
    "    print(R_avg)\n",
    "    print(\"------------\")\n",
    "    \n",
    "    return"
   ]
  },
  {
   "cell_type": "code",
   "execution_count": null,
   "id": "d7ed9b5d",
   "metadata": {},
   "outputs": [],
   "source": [
    "# NOTE SOME OF THE BELOW WILL BE INAPPLICABLE DUE TO BAD WAVELENGTH SOLUTIONS WITH CERTAIN LAMPS"
   ]
  },
  {
   "cell_type": "code",
   "execution_count": 53,
   "id": "857fec1b",
   "metadata": {},
   "outputs": [
    {
     "name": "stdout",
     "output_type": "stream",
     "text": [
      "H, Xe, using file S20131208S0151_H_wavecal.fits\n",
      "Resolution, Top left; Top right; Bottom left; Bottom right; Center\n",
      "[53.437496 53.799557 45.841995 45.326855 50.154507]\n",
      "------------\n"
     ]
    }
   ],
   "source": [
    "# H, Xe\n",
    "print(\"H, Xe, using file \" + str(os.path.basename(file_H_xe)))\n",
    "print_res(wavel_mean=mean_H, image_pass=image_H_xe)\n",
    "\n",
    "# H, Ar\n",
    "print(\"H, Ar, using file \" + str(os.path.basename(file_H_ar)))\n",
    "print_res(wavel_mean=mean_H, image_pass=image_H_ar)"
   ]
  },
  {
   "cell_type": "code",
   "execution_count": 53,
   "id": "93cca18c",
   "metadata": {},
   "outputs": [
    {
     "name": "stdout",
     "output_type": "stream",
     "text": [
      "H, Xe, using file S20131208S0151_H_wavecal.fits\n",
      "Resolution, Top left; Top right; Bottom left; Bottom right; Center\n",
      "[53.437496 53.799557 45.841995 45.326855 50.154507]\n",
      "------------\n"
     ]
    }
   ],
   "source": [
    "# Y, Xe\n",
    "print(\"Y, Xe, using file \" + str(os.path.basename(file_Y_xe)))\n",
    "print_res(wavel_mean=mean_Y, image_pass=image_Y_xe)\n",
    "\n",
    "# Y, Ar\n",
    "print(\"Y, Ar, using file \" + str(os.path.basename(file_Y_ar)))\n",
    "print_res(wavel_mean=mean_Y, image_pass=image_Y_ar)"
   ]
  },
  {
   "cell_type": "code",
   "execution_count": 53,
   "id": "8eaf7861",
   "metadata": {},
   "outputs": [
    {
     "name": "stdout",
     "output_type": "stream",
     "text": [
      "H, Xe, using file S20131208S0151_H_wavecal.fits\n",
      "Resolution, Top left; Top right; Bottom left; Bottom right; Center\n",
      "[53.437496 53.799557 45.841995 45.326855 50.154507]\n",
      "------------\n"
     ]
    }
   ],
   "source": [
    "# J, Xe\n",
    "print(\"J, Xe, using file \" + str(os.path.basename(file_J_xe)))\n",
    "print_res(wavel_mean=mean_J, image_pass=image_J_xe)\n",
    "\n",
    "# J, Ar\n",
    "print(\"J, Ar, using file \" + str(os.path.basename(file_J_ar)))\n",
    "print_res(wavel_mean=mean_J, image_pass=image_J_ar)"
   ]
  },
  {
   "cell_type": "code",
   "execution_count": 53,
   "id": "38c83e80",
   "metadata": {},
   "outputs": [
    {
     "name": "stdout",
     "output_type": "stream",
     "text": [
      "H, Xe, using file S20131208S0151_H_wavecal.fits\n",
      "Resolution, Top left; Top right; Bottom left; Bottom right; Center\n",
      "[53.437496 53.799557 45.841995 45.326855 50.154507]\n",
      "------------\n"
     ]
    }
   ],
   "source": [
    "# K1, Xe\n",
    "print(\"K1, Xe, using file \" + str(os.path.basename(file_K1_xe)))\n",
    "print_res(wavel_mean=mean_K1, image_pass=image_K1_xe)\n",
    "\n",
    "# K1, Ar\n",
    "print(\"K1, Ar, using file \" + str(os.path.basename(file_K1_ar)))\n",
    "print_res(wavel_mean=mean_K1, image_pass=image_K1_ar)"
   ]
  },
  {
   "cell_type": "code",
   "execution_count": 53,
   "id": "5c64a8ca",
   "metadata": {},
   "outputs": [
    {
     "name": "stdout",
     "output_type": "stream",
     "text": [
      "H, Xe, using file S20131208S0151_H_wavecal.fits\n",
      "Resolution, Top left; Top right; Bottom left; Bottom right; Center\n",
      "[53.437496 53.799557 45.841995 45.326855 50.154507]\n",
      "------------\n"
     ]
    }
   ],
   "source": [
    "# K2, Xe\n",
    "print(\"K2, Xe, using file \" + str(os.path.basename(file_K2_xe)))\n",
    "print_res(wavel_mean=mean_K2, image_pass=image_K2_xe)\n",
    "\n",
    "# K2, Ar\n",
    "print(\"K2, Ar, using file \" + str(os.path.basename(file_K2_ar)))\n",
    "print_res(wavel_mean=mean_K2, image_pass=image_K2_ar)"
   ]
  }
 ],
 "metadata": {
  "kernelspec": {
   "display_name": "Python 3",
   "language": "python",
   "name": "python3"
  },
  "language_info": {
   "codemirror_mode": {
    "name": "ipython",
    "version": 3
   },
   "file_extension": ".py",
   "mimetype": "text/x-python",
   "name": "python",
   "nbconvert_exporter": "python",
   "pygments_lexer": "ipython3",
   "version": "3.6.10"
  }
 },
 "nbformat": 4,
 "nbformat_minor": 5
}
