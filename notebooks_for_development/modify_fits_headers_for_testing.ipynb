{
 "cells": [
  {
   "cell_type": "code",
   "execution_count": null,
   "metadata": {},
   "outputs": [],
   "source": [
    "# This reads in FITS files, allows changes to the headers, and lets\n",
    "# them be written out again so as to test new versions of the pipeline\n",
    "\n",
    "# Created 2022 Nov. 7 by E.S."
   ]
  },
  {
   "cell_type": "code",
   "execution_count": 1,
   "metadata": {},
   "outputs": [],
   "source": [
    "from astropy.io import fits\n",
    "import pandas as pd"
   ]
  },
  {
   "cell_type": "code",
   "execution_count": 2,
   "metadata": {},
   "outputs": [],
   "source": [
    "# read in example FITS science file\n",
    "\n",
    "#hdul = fits.open(\"./data/S20140422S0341.fits\") # older file, spec\n",
    "hdul = fits.open(\"./data/S20181121S0114.fits\") # older file, pol"
   ]
  },
  {
   "cell_type": "code",
   "execution_count": 3,
   "metadata": {},
   "outputs": [],
   "source": [
    "# read in a calibration file\n",
    "\n",
    "#hdul_cal = fits.open(\"./data/S20140422S0586_dark.fits\")\n",
    "#hdul_cal = fits.open(\"./data/S20131118S0101_H_wavecal.fits\")\n",
    "#hdul_cal = fits.open(\"./data/S20181121S0114_H-polcal.fits\")"
   ]
  },
  {
   "cell_type": "code",
   "execution_count": 4,
   "metadata": {},
   "outputs": [
    {
     "data": {
      "text/plain": [
       "'IFSFILT_H_G1213'"
      ]
     },
     "execution_count": 4,
     "metadata": {},
     "output_type": "execute_result"
    }
   ],
   "source": [
    "hdul[0].header[\"IFSFILT\"]"
   ]
  },
  {
   "cell_type": "code",
   "execution_count": 5,
   "metadata": {},
   "outputs": [
    {
     "data": {
      "text/plain": [
       "'\\ndel hdul[0].header[\"AOSPATIA\"]\\n'"
      ]
     },
     "execution_count": 5,
     "metadata": {},
     "output_type": "execute_result"
    }
   ],
   "source": [
    "# delete a keyword\n",
    "'''\n",
    "del hdul[0].header[\"AOSPATIA\"]\n",
    "'''"
   ]
  },
  {
   "cell_type": "code",
   "execution_count": 6,
   "metadata": {},
   "outputs": [
    {
     "data": {
      "text/plain": [
       "'\\nhdul.writeto(\"junk.fits\", overwrite=True)\\n'"
      ]
     },
     "execution_count": 6,
     "metadata": {},
     "output_type": "execute_result"
    }
   ],
   "source": [
    "# test: make no change, and write out\n",
    "\n",
    "'''\n",
    "hdul.writeto(\"junk.fits\", overwrite=True)\n",
    "'''"
   ]
  },
  {
   "cell_type": "code",
   "execution_count": 3,
   "metadata": {},
   "outputs": [],
   "source": [
    "# change a value\n",
    "\n",
    "#hdul[0].header[\"TELESCOP\"] = \"Gemini-North\"\n",
    "#hdul[0].header[\"AOFILTER\"] = \"\"\n",
    "#hdul[0].header[\"APODIZER\"] = \"\"\n",
    "#hdul[0].header[\"WAVELENG\"] = 9999.\n",
    "#hdul[0].header[\"DISPERSR\"] = \"DISP_PRISM_G1234\"\n",
    "#hdul[0].header[\"IFSFILT\"] = \"IFSFILT_K_G1216\" # single K-band\n",
    "#hdul[0].header[\"LYOTMASK\"] = \"Lyot11-12_G3456\"\n",
    "hdul[0].header[\"OBSMODE\"] = \"K_direct\"\n",
    "#hdul_cal[0].header[\"IFSFILT\"] = \"IFSFILT_K_G1216\" # single K-band"
   ]
  },
  {
   "cell_type": "code",
   "execution_count": 7,
   "metadata": {},
   "outputs": [
    {
     "data": {
      "text/plain": [
       "float"
      ]
     },
     "execution_count": 7,
     "metadata": {},
     "output_type": "execute_result"
    }
   ],
   "source": [
    "type(hdul[0].header[\"WAVELENG\"])"
   ]
  },
  {
   "cell_type": "code",
   "execution_count": 4,
   "metadata": {},
   "outputs": [],
   "source": [
    "# write sci frames\n",
    "\n",
    "#hdul.writeto(\"./data/test_S20140422S0341_keyword_obsmode.fits\", overwrite=False)\n",
    "hdul.writeto(\"./data/test_S20181121S0114_keyword_obsmode.fits\", overwrite=False)"
   ]
  },
  {
   "cell_type": "code",
   "execution_count": 5,
   "metadata": {},
   "outputs": [],
   "source": [
    "# write calibration frames\n",
    "\n",
    "#hdul.writeto(\"S20140422S0586_dark_keyword_ifsfilt.fits\", overwrite=False)\n",
    "#hdul_cal.writeto(\"S20131118S0101_H_wavecal_keyword_ifsfilt.fits\", overwrite=True)\n",
    "hdul_cal.writeto(\"S20181121S0114_H-polcal_keyword_ifsfilt.fits\", overwrite=False)"
   ]
  },
  {
   "cell_type": "code",
   "execution_count": null,
   "metadata": {},
   "outputs": [],
   "source": []
  }
 ],
 "metadata": {
  "kernelspec": {
   "display_name": "Python 3",
   "language": "python",
   "name": "python3"
  },
  "language_info": {
   "codemirror_mode": {
    "name": "ipython",
    "version": 3
   },
   "file_extension": ".py",
   "mimetype": "text/x-python",
   "name": "python",
   "nbconvert_exporter": "python",
   "pygments_lexer": "ipython3",
   "version": "3.6.10"
  }
 },
 "nbformat": 4,
 "nbformat_minor": 4
}
