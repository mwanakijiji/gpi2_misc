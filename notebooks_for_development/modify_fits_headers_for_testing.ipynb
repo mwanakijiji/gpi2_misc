{
 "cells": [
  {
   "cell_type": "code",
   "execution_count": 1,
   "metadata": {},
   "outputs": [],
   "source": [
    "# This reads in FITS files, allows changes to the headers, and lets\n",
    "# them be written out again so as to test new versions of the pipeline\n",
    "\n",
    "# Created 2022 Nov. 7 by E.S."
   ]
  },
  {
   "cell_type": "code",
   "execution_count": 2,
   "metadata": {},
   "outputs": [],
   "source": [
    "from astropy.io import fits\n",
    "import pandas as pd\n",
    "import os\n",
    "import glob"
   ]
  },
  {
   "cell_type": "code",
   "execution_count": 8,
   "metadata": {},
   "outputs": [],
   "source": [
    "# read in example FITS science file\n",
    "\n",
    "hdul = fits.open(\"./data/S20140422S0341.fits\") # older file, spec\n",
    "#hdul = fits.open(\"./data/S20181121S0114.fits\") # older file, pol"
   ]
  },
  {
   "cell_type": "code",
   "execution_count": 9,
   "metadata": {},
   "outputs": [],
   "source": [
    "# read in a calibration file\n",
    "\n",
    "#hdul_cal = fits.open(\"./data/S20140422S0586_dark.fits\")\n",
    "#hdul_cal = fits.open(\"./data/S20131118S0101_H_wavecal.fits\")\n",
    "#hdul_cal = fits.open(\"./data/S20181121S0114_H-polcal.fits\")"
   ]
  },
  {
   "cell_type": "code",
   "execution_count": 4,
   "metadata": {},
   "outputs": [
    {
     "data": {
      "text/plain": [
       "'IFSFILT_H_G1213'"
      ]
     },
     "execution_count": 4,
     "metadata": {},
     "output_type": "execute_result"
    }
   ],
   "source": [
    "hdul[0].header[\"IFSFILT\"]"
   ]
  },
  {
   "cell_type": "code",
   "execution_count": 5,
   "metadata": {},
   "outputs": [
    {
     "data": {
      "text/plain": [
       "'\\ndel hdul[0].header[\"AOSPATIA\"]\\n'"
      ]
     },
     "execution_count": 5,
     "metadata": {},
     "output_type": "execute_result"
    }
   ],
   "source": [
    "# delete a keyword\n",
    "'''\n",
    "del hdul[0].header[\"AOSPATIA\"]\n",
    "'''"
   ]
  },
  {
   "cell_type": "code",
   "execution_count": 6,
   "metadata": {},
   "outputs": [
    {
     "data": {
      "text/plain": [
       "'\\nhdul.writeto(\"junk.fits\", overwrite=True)\\n'"
      ]
     },
     "execution_count": 6,
     "metadata": {},
     "output_type": "execute_result"
    }
   ],
   "source": [
    "# test: make no change, and write out\n",
    "\n",
    "'''\n",
    "hdul.writeto(\"junk.fits\", overwrite=True)\n",
    "'''"
   ]
  },
  {
   "cell_type": "code",
   "execution_count": 3,
   "metadata": {},
   "outputs": [],
   "source": [
    "# change a value\n",
    "\n",
    "#hdul[0].header[\"TELESCOP\"] = \"Gemini-North\"\n",
    "#hdul[0].header[\"AOFILTER\"] = \"\"\n",
    "#hdul[0].header[\"APODIZER\"] = \"\"\n",
    "#hdul[0].header[\"WAVELENG\"] = 9999.\n",
    "#hdul[0].header[\"DISPERSR\"] = \"DISP_PRISM_G1234\"\n",
    "#hdul[0].header[\"IFSFILT\"] = \"IFSFILT_K_G1216\" # single K-band\n",
    "#hdul[0].header[\"LYOTMASK\"] = \"Lyot11-12_G3456\"\n",
    "#hdul[0].header[\"OBSMODE\"] = \"K_direct\"\n",
    "#hdul_cal[0].header[\"IFSFILT\"] = \"IFSFILT_K_G1216\" # single K-band"
   ]
  },
  {
   "cell_type": "code",
   "execution_count": 10,
   "metadata": {},
   "outputs": [],
   "source": [
    "# add a new keyword\n",
    "\n",
    "#hdul[0].header[\"PROJECT\"] = \"GPI2\"\n",
    "hdul[0].header.append(('PROJECT', 'GPI2', 'If GPI2 frames'), end=False)"
   ]
  },
  {
   "cell_type": "code",
   "execution_count": 5,
   "metadata": {},
   "outputs": [
    {
     "data": {
      "text/plain": [
       "str"
      ]
     },
     "execution_count": 5,
     "metadata": {},
     "output_type": "execute_result"
    }
   ],
   "source": [
    "type(hdul[0].header[\"PROJECT\"])"
   ]
  },
  {
   "cell_type": "code",
   "execution_count": 6,
   "metadata": {},
   "outputs": [
    {
     "data": {
      "text/plain": [
       "SIMPLE  =                    T / C# FITS: 11/21/2018 1:21:47 AM                 \n",
       "BITPIX  =                    8                                                  \n",
       "NAXIS   =                    0                                                  \n",
       "EXTEND  =                    T / Extensions are permitted                       \n",
       "LONGSTRN= 'OGIP 1.0'           /  The OGIP Long String Convention may be used.  \n",
       "AOFILTER= 'AOFILT_700NM_G1222' / AO WFS filter selected                         \n",
       "AOFLHLTH= 'GOOD    '           / AO WFS filter health state                     \n",
       "AOSPATIA=                 5.00 / Current size of AO spatial filter              \n",
       "ARTINT  =                 60.0 / Broadband source intensity                     \n",
       "ADC     = 'IN      '           / ADC (DEPLOYED/EXTRACTED)                       \n",
       "ADCANGLE=               296.14 / ADC achieved orientation (deg)                 \n",
       "ADCHLTH = 'GOOD    '           / ADC (in/out) Health                            \n",
       "ADCPOW  =                17.16 / ADC achieved power (deg)                       \n",
       "AOFOLDTP=                 0.02 / AO Pick-Off Mirror Tip Position                \n",
       "AOFOLDTT=                -0.00 / AO Pick-Off Mirror Tilt Position               \n",
       "APODHLTH= 'GOOD    '           / Pupil Plane Mask (Apodizer) health             \n",
       "APODIZER= 'APOD_H_G6205'       / Pupil Plane Mask (Apodizer) selected           \n",
       "ARTSRC  = 'GPI_DEPLOY_OUT'     / Artificial source selected                     \n",
       "ARTIR   = 'GPI_SRC_OFF'        / IR Source state                                \n",
       "ARTVIS  = 'GPI_SRC_OFF'        / VIS source state                               \n",
       "SCSTATE = 'GPI_SRC_OFF'        / SC source state                                \n",
       "SCPOW   =                 0.00 / SC Amplifier power                             \n",
       "CALREFSH= 'OPEN    '           / State of CAL reference arm shutter             \n",
       "CALSCISH= 'OPEN    '           / State of CAL science arm shutter               \n",
       "CALENSH = 'OPEN    '           / State of CAL Entrance shutter                  \n",
       "CALEXSH = 'OPEN    '           / State of CAL Exit shutter                      \n",
       "CALSPHER= 'GPI_SRC_OFF'        / CAL Sphere deployed                            \n",
       "CALSPHAT=                60.00 / CAL Sphere  Attenuation in db                  \n",
       "DISPHLTH= 'GOOD    '           / DISPERSER Health state                         \n",
       "DISPERSR= 'DISP_WOLLASTON_G6261' / Wollaston/Prism/Open                         \n",
       "IFSFILT = 'IFSFILT_H_G1213'    / Filter name                                    \n",
       "IFSFLHLT= 'GOOD    '           / Filter 1 Health state                          \n",
       "GPIHEALT= 'WARNING '           / GPI health                                     \n",
       "LYOTHLTH= 'GOOD    '           / Lyot mask Health state                         \n",
       "LYOTMASK= '080m12_04'          / Lyot mask selected                             \n",
       "OCCHLTH = 'GOOD    '           / Occulter position health state                 \n",
       "OCCULTER= 'FPM_H_G6225'        / Occulter position                              \n",
       "OMSSENT = 'OPEN    '           / State of OMSS Entrance shutter                 \n",
       "OBSMODE = 'H_coron '           / Currently selected observation Mode            \n",
       "PUPVIEWR= '0       '           / Is the pupil viewing mirror inserted           \n",
       "WPANGHLT= 'GOOD    '           / Half-wave plate position health                \n",
       "WPANGLE =                 0.00 / Half-wave plate position                       \n",
       "WPSTATE = 'IN      '           / Half-wave plate state                          \n",
       "SIMLEVEL= 'OUT     '           / Simulate state                                 \n",
       "TTRKFOLD= 'TRUE    '           / TLC Track assembly Fold tracking status(T/F)   \n",
       "TTRKAOWF= 'FALSE   '           / TLC Track assembly AOWFS tracking status(T/F)  \n",
       "TTRKCALI= 'FALSE   '           / TLC Track assembly CALIFS tracking status(T/F) \n",
       "TAPPUPOF= 'FALSE   '           / TLC Track assembly apply pupil offsets(T/F)    \n",
       "TAPLYOTO= 'TRUE    '           / TLC Track assembly apply Lyot offset(T/F)      \n",
       "TAPPDARO= 'TRUE    '           / TLC Track assembly apply DAR residuals(T/F)    \n",
       "TAOWFSOL= 'TRUE    '           / TLC Track assembly apply AOWFS Open Loop model(\n",
       "TAFOLDOL= 'FALSE   '           / TLC Track assembly apply FOLD open model(T/F)  \n",
       "TACALIOL= 'TRUE    '           / TLC Track assembly apply CALIFS Open Loop model\n",
       "TAAOSPOL= 'TRUE    '           / TLC Track assembly apply AOSPAT Temp Correction\n",
       "TAOSPTMX=                0.458 / TLC AO assembly AOSPAT X Motor position        \n",
       "TAOSPTMY=                1.211 / TLC AO assembly AOSPAT Y Motor position        \n",
       "TSRCPOSX=                0.600 / TLC SRC assembly Source X Motor position       \n",
       "TSRCPOSY=               16.000 / TLC SRC assembly Source Y Motor position       \n",
       "CALMTILT=               21.135 / TLC CAL BIAS TILT value                        \n",
       "CALMTIP =               -8.722 / TLC CAL BIAS TIP value                         \n",
       "ARRAYID = 'HAWAII-II RG S/N 201' / Array serial number                          \n",
       "CCDNAME = 'HAWAII2-RG'         / Array name                                     \n",
       "WFSDTEMP=               258.45 / AOWFS detector temperature (K)                 \n",
       "GLITEMP =                12.63 / Glycol Input Temp (C)                          \n",
       "GLOTEMP =                17.75 / Glycol Output Temp (C)                         \n",
       "AEXITEMP=                29.88 / Air Heat Ex Input Temp (C)                     \n",
       "AEXOTEMP=                19.50 / Air Heat Ex Output Temp (C)                    \n",
       "OMSATEMP=                15.93 / Avg OMSS AORelay Temp (C)                      \n",
       "OMSMTEMP=                17.00 / Max OMSS AORelay Temp (C)                      \n",
       "IFSITEMP=                10.19 / INSTRUMENT Cryo Glycol Input Temp (C)          \n",
       "IFSOTEMP=                14.94 / INSTRUMENT Cryo Glycol Output Temp (C)         \n",
       "EEHUMID =                 2.80 / Electronic Enclosure Humidity                  \n",
       "MEMHUMID=                 0.23 / MEMS Humidity %                                \n",
       "OMSHUMID=                 5.64 / Max OMSS Humidity %                            \n",
       "AMBHUMID=                 9.93 / Mean Ambient Humidity%                         \n",
       "CWSTEMP =               480.00 / Cold work surface temperature (K)              \n",
       "DETTEMP =                84.01 / Detector temperature (K)                       \n",
       "DETHTEMP=                89.84 / Detector housing temperature (K)               \n",
       "DEWPRES1=             5.29E-03 / Dewar pressure (mTorr)                         \n",
       "DEWPRES2=             3.49E-03 / Dewar pressure (mTorr)                         \n",
       "SUPCTEMP=                37.50 / Super Continuum temp (C)                       \n",
       "MJD-OBS =   58443.182109341724 / MJD of start of observation                    \n",
       "AIRMASS =                1.062 / Mean airmass for the exposure                  \n",
       "AMEND   =                1.062 / Airmass at end of exposure                     \n",
       "AMSTART =                1.063 / Airmass at start of exposure                   \n",
       "AOFOLD  = 'park-pos.'          / AO Pick-Off Mirror Position                    \n",
       "ASTROMTC=                    F / Astrometric field                              \n",
       "AZIMUTH =           128.300475 / Telescope Azimuth at the start of exposure     \n",
       "CRFOLLOW= 'INDEF   '           / Cass Rotator follow mode (yes|no)              \n",
       "CRPA    =   0.0138725351034066 / Cass Rotator Position Angle at start           \n",
       "DATALAB = 'GS-2017B-Q-500-978-001' / Gemini Datalabel                           \n",
       "DATE    = '2018-11-21'         / UTC Date of observation (YYYY-MM-DD)           \n",
       "DEC     =         -41.01852778 / Target Declination                             \n",
       "DECOFFSE=                  0.0 / Telescope offset in DEC in arcsec              \n",
       "DECTRACK=                  0.0 / Differential tracking rate Dec                 \n",
       "DECTRGOF=                  0.0 / Target offset in DEC in arcsec                 \n",
       "DEWPOIN2=    8.600000000000001 / The dew point (F).                             \n",
       "DEWPOINT=                -13.0 / The dew point (C).                             \n",
       "ELEVATIO=               70.178 / Telescope Elevation at the start of exposure   \n",
       "EPOCH   =               2000.0 / Target Coordinate Epoch                        \n",
       "EQUINOX =               2000.0 / Equinox of coordinate system                   \n",
       "GCALDIFF= 'IR      '           / GCAL Diffuser name                             \n",
       "GCALFILT= 'CLEAR   '           / GCAL Filter name                               \n",
       "GCALLAMP= 'Ar      '           / GCAL Lamp name                                 \n",
       "GCALSHUT= 'CLOSED  '           / GCAL IR lamp Shutter (OPEN or CLOSED)          \n",
       "GEMPRGID= 'GS-2017B-Q-500'     / Gemini programme ID                            \n",
       "HA      = '-01:22:47.49'       / Telescope hour angle at the start of exposure  \n",
       "HUMIDITY=                 13.0 / The Relative Humidity (fraction, 0..101).      \n",
       "IAA     =                  0.0 / Instrument Alignment Angle                     \n",
       "INPORT  =                    1 / Number of ISS port where instrument is located \n",
       "INSTRUME= 'GPI     '           / Instrument used to acquire data                \n",
       "LT      = '01:21:09.5'         / Local time at start of exposure                \n",
       "M2BAFFLE= 'RETRACTED'          / Position of M2 baffle                          \n",
       "M2CENBAF= 'CLOSED  '           / Position of M2 central hole baffle             \n",
       "OBJECT  = 'Ar      '           / Object Name                                    \n",
       "OBSCLASS= 'progCal '           / Observe class                                  \n",
       "OBSERVAT= 'Gemini-South'       / Observatory (Gemini-North|Gemini-South)        \n",
       "OBSERVER= 'GPIES   '           / Observer                                       \n",
       "OBSID   = 'GS-2017B-Q-500-978' / Gemini Observation ID                          \n",
       "OBSTYPE = 'ARC     '           / Observation type                               \n",
       "PA      =                180.0 / Instrument Position Angle at start (degrees)   \n",
       "PAR_ANG =             -63.8425 / Parallactic angle                              \n",
       "PARALLAX=                  0.0 / Target Parallax                                \n",
       "PMDEC   =               0.0107 / Target proper motion in Declination            \n",
       "PMRA    =              0.00281 / Target proper motion in RA                     \n",
       "POFFSET =                  0.0 / Telescope offset in p in arcsec                \n",
       "PRESSUR2=              73100.0 / The atmospheric pressure (Pa).                 \n",
       "PRESSURE=    548.4546799999999 / The atmospheric pressure (mm Hg).              \n",
       "PROP_MD =                    F / Proprietary Metadata                           \n",
       "QOFFSET =                 -0.0 / Telescope offset in q in arcsec                \n",
       "RA      =            75.216125 / Target Right Ascension                         \n",
       "RADVEL  =                  0.0 / Target Heliocentric Radial Velocity            \n",
       "RAOFFSET=                 -0.0 / Telescope offset in RA in arcsec               \n",
       "RATRACK =                  0.0 / Differential tracking rate RA                  \n",
       "RATRGOFF=                  0.0 / Target offset in RA in arcsec                  \n",
       "RAWBG   = 'Any     '           / Raw Background                                 \n",
       "RAWCC   = '50-percentile'      / Raw Cloud Cover                                \n",
       "RAWGEMQA= 'UNKNOWN '           / Gemini Quality Assessment                      \n",
       "RAWIQ   = '70-percentile'      / Raw Image Quality                              \n",
       "RAWPIREQ= 'UNKNOWN '           / PI Requirements Met                            \n",
       "RAWWV   = 'UNKNOWN '           / Raw Water Vapour/Transparency                  \n",
       "RELEASE = '2019-11-21'         / End of proprietary period YYY-MM-DD            \n",
       "SCIBAND =                    1 / Science Ranking Band                           \n",
       "SFLINEAR=                -4.78 / Science fold linear position (mm)              \n",
       "SFRT2   =                 89.3 / Science fold rotation angle (degrees)          \n",
       "SFTILT  =                -45.1 / Science fold tilt angle (degrees)              \n",
       "SSA     = 'P. Prado'           / SSA                                            \n",
       "ST      = '03:38:43.3'         / Sidereal time at the start of the exposure     \n",
       "TAMBIEN2=                58.82 / The ambient temp (F).                          \n",
       "TAMBIENT=                 14.9 / The ambient temp (C).                          \n",
       "TELESCOP= 'Gemini-South'       / Name of telescope (Gemini-North|Gemini-South)  \n",
       "TRKEPOCH=         58443.178972 / Differential tracking reference epoch          \n",
       "TRKEQUIN=               2000.0 / Tracking equinox                               \n",
       "TRKFRAME= 'FK5     '           / Tracking co-ordinate                           \n",
       "UT      = '04:21:10.5'         / UTC at start of exposure                       \n",
       "WAVELENG=               8060.0 / Effective Target Wavelength (A)                \n",
       "WINDDIRE=                221.0 / The wind direction (degrees).                  \n",
       "WINDSPEE=                  0.7 / The wind speed (m/s).                          \n",
       "WINDSPE2=               1.5659 / The wind speed (mph).                          \n",
       "XOFFSET =                  0.0 / Telescope offset in x in arcsec                \n",
       "YOFFSET =                  0.0 / Telescope offset in y in arcsec                \n",
       "DIMTSTMP=                  999 / DIMM time stamp, minutes since last update. Val\n",
       "MASTSTMP=                  999 / MASS time stamp, minutes since last update. Val\n",
       "HMAG    =    7.829999923706055 / H magnitude of the target                      \n",
       "STMAG   =    8.630000114440918 / I magnitude of the target                      \n",
       "AOWFE   =                65.19 / Average wavefront residual error during exposur\n",
       "CALON   = 'FALSE   '           / Is OIWFS currently reacting to data from the CA\n",
       "AOON    = 'FALSE   '           / Is the GPI servo loop running?                 \n",
       "OPTON   = 'YES     '           / Optimizing wavefront                           \n",
       "AOFRAMES=               500.00 / AO camera frame rate                           \n",
       "M2OFFLOA= 'NO      '           / m2 offloading                                  \n",
       "CALTIP  =                -8.72 / Measured LOWFS TIP (cal.calTarget.calTargetPand\n",
       "CALTILT =                21.13 / Measured LOWFS TILT (cal.calTarget.calTargetPan\n",
       "CALFOCU =               539.79 / Measured LOWFS FOCUS (cal.calTarget.calTargetPa\n",
       "RMSERR  =                65.19 / RMS Wavefront Error                            \n",
       "AVGRNOT =                56.54 / r0 average estimate                            \n",
       "FLUX    =              2660.26 / AO average Flux reported                       \n",
       "CALLOOP = 'FALSE   '           / CAL offloading loop status                     \n",
       "AOCLOOP = 'FALSE   '           / AOC offloading loop status                     \n",
       "WOFLOOP = 'FALSE   '           / Woofer offloading loop status                  \n",
       "AOTTLOOP= 'FALSE   '           / TIP/TILT offloading loop status                \n",
       "AOMINSNR=                 0.00 / AO Minimum SNR setting                         \n",
       "CALBTIP =                -8.27 / CAL tip bias level                             \n",
       "CALBTILT=                19.57 / CAL tilt bias level                            \n",
       "CALFOCUS=              -194.84 / CAL focus bias level                           \n",
       "M1OFLOAD= 'FALSE   '           / M1 offloading                                  \n",
       "GMPVER  = '14.4.1  '           / Version number of GMP software                 \n",
       "GDSVER  = '14.4.1  '           / Version number of GDS software                 \n",
       "IFSVER  = '        '           / Version number of GPI IFS software             \n",
       "AOVER   = '0.7     '           / Version number of GPI AO software              \n",
       "CALVER  = '0.9.4   '           / Version number of GPI CAL software             \n",
       "TLCVER  = '0.7     '           / Version number of GPI TLC software             \n",
       "NEXTEND =                    2 / Number of extensions                           \n",
       "DATE-OBS= '2018-11-21'         /  UT start date of exposure                     \n",
       "UTSTART = '04:21:13.244'       /  UT start time of exposure                     \n",
       "UTEND   = '04:21:46.994'       /  UT end time of exposure (after last read)     \n",
       "CCDSIZE = '2048x2048'          /  Array dimensions                              \n",
       "PROJECT = 'GPI2    '           / If GPI2 frames                                 "
      ]
     },
     "execution_count": 6,
     "metadata": {},
     "output_type": "execute_result"
    }
   ],
   "source": [
    "hdul[0].header"
   ]
  },
  {
   "cell_type": "code",
   "execution_count": 11,
   "metadata": {},
   "outputs": [],
   "source": [
    "# write sci frames\n",
    "\n",
    "hdul.writeto(\"./data/test_S20140422S0341_keyword_project.fits\", overwrite=False)\n",
    "#hdul.writeto(\"./data/test_S20181121S0114_keyword_project.fits\", overwrite=False)"
   ]
  },
  {
   "cell_type": "code",
   "execution_count": 5,
   "metadata": {},
   "outputs": [],
   "source": [
    "# write calibration frames\n",
    "\n",
    "#hdul.writeto(\"S20140422S0586_dark_keyword_ifsfilt.fits\", overwrite=False)\n",
    "#hdul_cal.writeto(\"S20131118S0101_H_wavecal_keyword_ifsfilt.fits\", overwrite=True)\n",
    "hdul_cal.writeto(\"S20181121S0114_H-polcal_keyword_ifsfilt.fits\", overwrite=False)"
   ]
  },
  {
   "cell_type": "code",
   "execution_count": 20,
   "metadata": {},
   "outputs": [],
   "source": [
    "# batch job\n",
    "\n",
    "file_list = glob.glob(\"./data/hd_134331/\" + \"*fits\")\n",
    "\n",
    "for i in range(0,len(file_list)):\n",
    "\n",
    "    hdul = fits.open(file_list[i])\n",
    "    \n",
    "    # delete a keyword\n",
    "    #del hdul[0].header[\"AOSPATIA\"]\n",
    "    \n",
    "    # change a value\n",
    "    #hdul[0].header[\"TELESCOP\"] = \"Gemini-North\"\n",
    "    #hdul[0].header[\"AOFILTER\"] = \"\"\n",
    "    #hdul[0].header[\"APODIZER\"] = \"\"\n",
    "    #hdul[0].header[\"WAVELENG\"] = 9999.\n",
    "    #hdul[0].header[\"DISPERSR\"] = \"DISP_PRISM_G1234\"\n",
    "    #hdul[0].header[\"IFSFILT\"] = \"IFSFILT_K_G1216\" # single K-band\n",
    "    #hdul[0].header[\"LYOTMASK\"] = \"Lyot11-12_G3456\"\n",
    "    #hdul[0].header[\"OBSMODE\"] = \"K_direct\"\n",
    "\n",
    "    # add a new keyword\n",
    "    hdul[0].header.append(('PROJECT', 'GPI2', 'If GPI2 frames'), end=False)\n",
    "    \n",
    "    # write sci frames\n",
    "    hdul.writeto(\"./data/hd_134331/modified/\" + os.path.basename(file_list[i]).split(\".\")[0]+\"_keyword_project.fits\", overwrite=False)"
   ]
  },
  {
   "cell_type": "code",
   "execution_count": 4,
   "metadata": {},
   "outputs": [
    {
     "data": {
      "text/plain": [
       "['./data/hd_134331/S20140422S0360.fits',\n",
       " './data/hd_134331/S20140422S0337.fits',\n",
       " './data/hd_134331/S20140422S0321.fits',\n",
       " './data/hd_134331/S20140422S0356.fits',\n",
       " './data/hd_134331/S20140422S0340.fits',\n",
       " './data/hd_134331/S20140422S0341.fits',\n",
       " './data/hd_134331/S20140422S0357.fits',\n",
       " './data/hd_134331/S20140422S0336.fits',\n",
       " './data/hd_134331/S20140422S0361.fits',\n",
       " './data/hd_134331/S20140422S0350.fits',\n",
       " './data/hd_134331/S20140422S0346.fits',\n",
       " './data/hd_134331/S20140422S0331.fits',\n",
       " './data/hd_134331/S20140422S0327.fits',\n",
       " './data/hd_134331/S20140422S0326.fits',\n",
       " './data/hd_134331/S20140422S0330.fits',\n",
       " './data/hd_134331/S20140422S0347.fits',\n",
       " './data/hd_134331/S20140422S0351.fits',\n",
       " './data/hd_134331/S20140422S0329.fits',\n",
       " './data/hd_134331/S20140422S0344.fits',\n",
       " './data/hd_134331/S20140422S0352.fits',\n",
       " './data/hd_134331/S20140422S0325.fits',\n",
       " './data/hd_134331/S20140422S0333.fits',\n",
       " './data/hd_134331/S20140422S0364.fits',\n",
       " './data/hd_134331/S20140422S0348.fits',\n",
       " './data/hd_134331/S20140422S0349.fits',\n",
       " './data/hd_134331/S20140422S0365.fits',\n",
       " './data/hd_134331/S20140422S0332.fits',\n",
       " './data/hd_134331/S20140422S0324.fits',\n",
       " './data/hd_134331/S20140422S0353.fits',\n",
       " './data/hd_134331/S20140422S0345.fits',\n",
       " './data/hd_134331/S20140422S0328.fits',\n",
       " './data/hd_134331/S20140422S0323.fits',\n",
       " './data/hd_134331/S20140422S0335.fits',\n",
       " './data/hd_134331/S20140422S0362.fits',\n",
       " './data/hd_134331/S20140422S0358.fits',\n",
       " './data/hd_134331/S20140422S0339.fits',\n",
       " './data/hd_134331/S20140422S0342.fits',\n",
       " './data/hd_134331/S20140422S0354.fits',\n",
       " './data/hd_134331/S20140422S0355.fits',\n",
       " './data/hd_134331/S20140422S0343.fits',\n",
       " './data/hd_134331/S20140422S0338.fits',\n",
       " './data/hd_134331/S20140422S0359.fits',\n",
       " './data/hd_134331/S20140422S0363.fits',\n",
       " './data/hd_134331/S20140422S0334.fits',\n",
       " './data/hd_134331/S20140422S0322.fits']"
      ]
     },
     "execution_count": 4,
     "metadata": {},
     "output_type": "execute_result"
    }
   ],
   "source": [
    "file_list"
   ]
  },
  {
   "cell_type": "code",
   "execution_count": null,
   "metadata": {},
   "outputs": [],
   "source": []
  }
 ],
 "metadata": {
  "kernelspec": {
   "display_name": "Python 3",
   "language": "python",
   "name": "python3"
  },
  "language_info": {
   "codemirror_mode": {
    "name": "ipython",
    "version": 3
   },
   "file_extension": ".py",
   "mimetype": "text/x-python",
   "name": "python",
   "nbconvert_exporter": "python",
   "pygments_lexer": "ipython3",
   "version": "3.6.10"
  }
 },
 "nbformat": 4,
 "nbformat_minor": 4
}
