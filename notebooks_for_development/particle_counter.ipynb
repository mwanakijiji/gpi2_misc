{
 "cells": [
  {
   "cell_type": "code",
   "execution_count": 1,
   "id": "1d703bab",
   "metadata": {},
   "outputs": [],
   "source": [
    "# Plots accuracy of particle counter\n",
    "\n",
    "# Created 2022 Mar 31 by E.S"
   ]
  },
  {
   "cell_type": "code",
   "execution_count": 13,
   "id": "ae5007d6",
   "metadata": {},
   "outputs": [],
   "source": [
    "import numpy as np\n",
    "import matplotlib.pyplot as plt\n",
    "from scipy import interpolate\n",
    "\n",
    "%matplotlib qt"
   ]
  },
  {
   "cell_type": "code",
   "execution_count": 2,
   "id": "02ed731c",
   "metadata": {},
   "outputs": [],
   "source": [
    "# number concentration precision, as stated by manufacturer\n",
    "\n",
    "# Ref. \n",
    "# 1. 'Sensorion Sensor Specification Statement'\n",
    "# 2. 'Datasheet SPS30' (cdn.sos.sk)\n",
    "\n",
    "## for PM0.5, PM1, PM2.5\n",
    "# conditions of concentration: 0 to 1000 #/cm^3\n",
    "prec_PM05to25_low_numb = 100 # /cm^3\n",
    "# conditions of concentration: 1000 to 3000 #/cm^3\n",
    "prec_PM05to25_high_frac = 0.1 # (as fraction of measured value; from manufacturer's '+-10 %m.v.' (percent of measured value))\n",
    "\n",
    "## for PM4, PM10 (which are extrapolations)\n",
    "# conditions of concentration: 0 to 1000 #/cm^3\n",
    "prec_PM4to10_low_numb = 250 # /cm^3\n",
    "# conditions of concentration: 1000 to 3000 #/cm^3\n",
    "prec_PM4to10_high_frac = 0.25 # (as fraction of measured value; from manufacturer's '+-25 %m.v.' (percent of measured value))\n"
   ]
  },
  {
   "cell_type": "code",
   "execution_count": 3,
   "id": "b159cccb",
   "metadata": {},
   "outputs": [],
   "source": [
    "# boundaries of regimes, in /m^3\n",
    "\n",
    "boundary_0 = 0 * 100**3 # (/m^3)\n",
    "boundary_0to1 = 1000 * 100**3 # (/m^3)\n",
    "boundary_1to2 = 3000 * 100**3 # (/m^3)"
   ]
  },
  {
   "cell_type": "code",
   "execution_count": 4,
   "id": "67cb3ff1",
   "metadata": {},
   "outputs": [],
   "source": [
    "# convert number precisions to /m^3\n",
    "prec_PM05to25_low_numb_perm3 = prec_PM05to25_low_numb * (100**3)\n",
    "prec_PM4to10_low_numb_perm3 = prec_PM4to10_low_numb * (100**3)"
   ]
  },
  {
   "cell_type": "code",
   "execution_count": 9,
   "id": "75f4511e",
   "metadata": {},
   "outputs": [
    {
     "data": {
      "image/png": "[encoded data removed]",
      "text/plain": [
       "<Figure size 432x288 with 1 Axes>"
      ]
     },
     "metadata": {
      "needs_background": "light"
     },
     "output_type": "display_data"
    }
   ],
   "source": [
    "# N_ISO7_array = [352000,83200,2930]\n",
    "# size_ISO7_array = [0.5,1.0,5.0]\n",
    "\n",
    "# maximum concentration limits equal to and greater than \n",
    "# considered sizes in array of particle sizes (particles/m^3)\n",
    "N_ISO6_array = [1e6,237000,102000,35200,8320,293]\n",
    "\n",
    "# particle sizes\n",
    "size_ISO6_array = [0.1,0.2,0.3,0.5,1.0,5.0]\n",
    "\n",
    "# interpolate in log-log space\n",
    "f = interpolate.interp1d(np.log10(size_ISO6_array), np.log10(N_ISO6_array), kind=\"linear\")\n",
    "xnew = [np.log10(2.5)]\n",
    "ynew = f(xnew)   # use interpolation function returned by `interp1d`\n",
    "\n",
    "# plot linear values, with log-log scaling\n",
    "plt.scatter(size_ISO6_array,N_ISO6_array)\n",
    "plt.scatter(np.power(10.,xnew),np.power(10.,ynew))\n",
    "plt.xscale('log')\n",
    "plt.yscale('log')\n",
    "plt.xlabel(\"Particle size (um)\")\n",
    "plt.ylabel(\"Number density (m^-3)\")\n",
    "\n",
    "'''\n",
    "# flipped axes\n",
    "plt.scatter(N_ISO6_array,size_ISO6_array)\n",
    "plt.scatter(np.power(10.,ynew),np.power(10.,xnew))\n",
    "plt.xscale('log')\n",
    "plt.yscale('log')\n",
    "plt.ylabel(\"Particle size (um)\")\n",
    "plt.xlabel(\"Number density (m^-3)\")\n",
    "'''\n",
    "\n",
    "plt.title(\"ISO Class 6 specs, max concentration\")\n",
    "\n",
    "plt.show()"
   ]
  },
  {
   "cell_type": "code",
   "execution_count": 8,
   "id": "713a0542",
   "metadata": {},
   "outputs": [
    {
     "name": "stdout",
     "output_type": "stream",
     "text": [
      "Max PM2.5 value (m^(-3)): 1238.085923221107\n"
     ]
    }
   ],
   "source": [
    "print(\"Max PM2.5 value (m^(-3)):\", np.power(10.,ynew)[0])"
   ]
  },
  {
   "cell_type": "code",
   "execution_count": 57,
   "id": "d3ab94e4",
   "metadata": {},
   "outputs": [],
   "source": [
    "# plot precision\n",
    "\n",
    "# abcissa\n",
    "abcissa_densities = np.linspace(0,boundary_1to2) # (/m^3)\n",
    "\n",
    "# step-like functions of precisions (keep everything in /m^3)\n",
    "ordinate_precisions_PM05to25 = np.zeros(len(abcissa_densities))\n",
    "ordinate_precisions_PM05to25[abcissa_densities < boundary_0to1] = prec_PM05to25_low_numb_perm3\n",
    "ordinate_precisions_PM05to25[abcissa_densities > boundary_0to1] = prec_PM05to25_high_frac*abcissa_densities[\n",
    "                                                                        abcissa_densities > boundary_0to1]\n",
    "\n",
    "ordinate_precisions_PM4to10 = np.zeros(len(abcissa_densities))\n",
    "ordinate_precisions_PM4to10[abcissa_densities < boundary_0to1] = prec_PM4to10_low_numb_perm3\n",
    "ordinate_precisions_PM4to10[abcissa_densities > boundary_0to1] = prec_PM4to10_high_frac*abcissa_densities[\n",
    "                                                                        abcissa_densities > boundary_0to1]\n",
    "\n",
    "plt.clf()\n",
    "\n",
    "f, (ax1) = plt.subplots(1, 1)\n",
    "\n",
    "ax1.plot(abcissa_densities,ordinate_precisions_PM05to25,color=\"blue\",\n",
    "         linewidth=6,label=\"SPS30, PM0.5,PM1,PM2.5 stated precision\")\n",
    "ax1.plot(abcissa_densities,ordinate_precisions_PM4to10,color=\"red\",\n",
    "         linewidth=6,label=\"SPS30, PM4,PM10 stated precision (extrap.)\")\n",
    "ax1.set_ylabel(\"Precision ($\\pm N $m$^{-3}$)\")\n",
    "ax1.set_xlabel(\"Number density (m$^{-3}$)\")\n",
    "\n",
    "ax1.axhline(y=1e6, linestyle=\"--\", color=\"gray\")\n",
    "ax1.annotate(\"$\\geq$0.1 um max density\", (1e8,1e6), rotation=0)\n",
    "ax1.axvline(x=1e6, linestyle=\"--\", color=\"gray\")\n",
    "ax1.annotate(\"$\\geq$0.1 um\", (1e6,7e8), rotation=90)\n",
    "\n",
    "ax1.axhline(y=237000, linestyle=\"--\", color=\"gray\")\n",
    "ax1.annotate(\"$\\geq$0.2 um max density\", (1e8,237000), rotation=0)\n",
    "ax1.axvline(x=237000, linestyle=\"--\", color=\"gray\")\n",
    "ax1.annotate(\"$\\geq$0.2 um\", (237000,7e8), rotation=90)\n",
    "\n",
    "ax1.axhline(y=102000, linestyle=\"--\", color=\"gray\")\n",
    "ax1.annotate(\"$\\geq$0.3 um max density\", (1e8,102000), rotation=0)\n",
    "ax1.axvline(x=102000, linestyle=\"--\", color=\"gray\")\n",
    "ax1.annotate(\"$\\geq$0.3 um\", (102000,7e8), rotation=90)\n",
    "\n",
    "ax1.axhline(y=35200, linestyle=\"--\", color=\"gray\")\n",
    "ax1.annotate(\"$\\geq$0.5 um max density\", (1e8,35200), rotation=0)\n",
    "ax1.axvline(x=35200, linestyle=\"--\", color=\"gray\")\n",
    "ax1.annotate(\"$\\geq$0.5 um\", (35200,7e8), rotation=90)\n",
    "\n",
    "ax1.axhline(y=8320, linestyle=\"--\", color=\"gray\")\n",
    "ax1.annotate(\"$\\geq$1.0 um max density\", (1e8,8320), rotation=0)\n",
    "ax1.axvline(x=8320, linestyle=\"--\", color=\"gray\")\n",
    "ax1.annotate(\"$\\geq$1.0 um\", (8320,7e8), rotation=90)\n",
    "\n",
    "ax1.axhline(y=1238, linestyle=\"--\", color=\"gray\")\n",
    "ax1.annotate(\"$\\geq$2.5 um max density\\n(extrap)\", (1e8,1238), rotation=0)\n",
    "ax1.axvline(x=1238, linestyle=\"--\", color=\"gray\")\n",
    "ax1.annotate(\"$\\geq$2.5 um\\n(extrap)\", (1238,7e8), rotation=90)\n",
    "\n",
    "ax1.axhline(y=293, linestyle=\"--\", color=\"gray\")\n",
    "ax1.annotate(\"$\\geq$5.0 um max density\", (1e8,293), rotation=0)\n",
    "ax1.axvline(x=293, linestyle=\"--\", color=\"gray\")\n",
    "ax1.annotate(\"$\\geq$5.0 um\\nmax density\", (293,7e8), rotation=90)\n",
    "\n",
    "ax1.axhline(y=5e5, linewidth=6, color=\"orange\", label=\"SPS30, Jayke's apparent precision (0.5 & 10 um)\")\n",
    "\n",
    "#ax1.set_ylim([0,5e2])\n",
    "#ax1.set_xlim([1e2,1.1e6])\n",
    "\n",
    "#ax1.legend(loc=\"upper right\")\n",
    "ax1.legend(loc=\"center right\", bbox_to_anchor=(1.0,0.7))\n",
    "\n",
    "ax1.set_xscale('log')\n",
    "ax1.set_yscale('log')\n",
    "\n",
    "plt.suptitle(\"ISO Class 6 (Class 1000) standard\\nmaximum particle number densities\")\n",
    "\n",
    "#plt.tight_layout()\n",
    "plt.show()"
   ]
  },
  {
   "cell_type": "code",
   "execution_count": null,
   "id": "3923c790",
   "metadata": {},
   "outputs": [],
   "source": []
  }
 ],
 "metadata": {
  "kernelspec": {
   "display_name": "Python 3",
   "language": "python",
   "name": "python3"
  },
  "language_info": {
   "codemirror_mode": {
    "name": "ipython",
    "version": 3
   },
   "file_extension": ".py",
   "mimetype": "text/x-python",
   "name": "python",
   "nbconvert_exporter": "python",
   "pygments_lexer": "ipython3",
   "version": "3.6.10"
  }
 },
 "nbformat": 4,
 "nbformat_minor": 5
}
