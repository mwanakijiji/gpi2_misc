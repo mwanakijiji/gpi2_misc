{
 "cells": [
  {
   "cell_type": "code",
   "execution_count": 1,
   "id": "1d703bab",
   "metadata": {},
   "outputs": [],
   "source": [
    "# Plots accuracy of particle counter\n",
    "\n",
    "# Created 2022 Mar 31 by E.S"
   ]
  },
  {
   "cell_type": "code",
   "execution_count": 2,
   "id": "ae5007d6",
   "metadata": {},
   "outputs": [],
   "source": [
    "import numpy as np\n",
    "import matplotlib.pyplot as plt\n",
    "from scipy import interpolate"
   ]
  },
  {
   "cell_type": "code",
   "execution_count": 12,
   "id": "02ed731c",
   "metadata": {},
   "outputs": [],
   "source": [
    "# number concentration precision, as stated by manufacturer\n",
    "\n",
    "# Ref. \n",
    "# 1. 'Sensorion Sensor Specification Statement'\n",
    "# 2. 'Datasheet SPS30'\n",
    "\n",
    "## for PM0.5, PM1, PM2.5\n",
    "# conditions of concentration: 0 to 1000 #/cm3\n",
    "prec_PM05to25_low_numb = 100 # /cm^3\n",
    "# conditions of concentration: 1000 to 3000 #/cm3\n",
    "prec_PM05to25_high_frac = 0.1 # (as fraction of measured value; from manufacturer's '+-10 %m.v.' (percent of measured value))\n",
    "\n",
    "## for PM4, PM10\n",
    "# conditions of concentration: 0 to 1000 #/cm3\n",
    "prec_PM4to10_low_numb = 250 # /cm^3\n",
    "# conditions of concentration: 1000 to 3000 #/cm3\n",
    "prec_PM4to10_high_frac = 0.25 # (as fraction of measured value; from manufacturer's '+-25 %m.v.' (percent of measured value))\n"
   ]
  },
  {
   "cell_type": "code",
   "execution_count": 13,
   "id": "b159cccb",
   "metadata": {},
   "outputs": [],
   "source": [
    "# boundaries of regimes, in /m^3\n",
    "\n",
    "boundary_0 = 0 * 10**6 # (/m^3)\n",
    "boundary_0to1 = 1000 * 10**6 # (/m^3)\n",
    "boundary_1to2 = 3000 * 10**6 # (/m^3)"
   ]
  },
  {
   "cell_type": "code",
   "execution_count": 10,
   "id": "67cb3ff1",
   "metadata": {},
   "outputs": [],
   "source": [
    "# convert number precisions to /m^3\n",
    "prec_PM05to25_low_numb_perm3 = prec_PM05to25_low_numb * (100**3)\n",
    "prec_PM4to10_low_numb_perm3 = prec_PM4to10_low_numb * (100**3)"
   ]
  },
  {
   "cell_type": "code",
   "execution_count": 9,
   "id": "7b599e29",
   "metadata": {},
   "outputs": [
    {
     "data": {
      "text/plain": [
       "250000000"
      ]
     },
     "execution_count": 9,
     "metadata": {},
     "output_type": "execute_result"
    }
   ],
   "source": [
    "prec_PM4to10_low_numb_perm3"
   ]
  },
  {
   "cell_type": "code",
   "execution_count": 17,
   "id": "75f4511e",
   "metadata": {},
   "outputs": [
    {
     "data": {
      "image/png": "[encoded data removed]",
      "text/plain": [
       "<Figure size 432x288 with 1 Axes>"
      ]
     },
     "metadata": {
      "needs_background": "light"
     },
     "output_type": "display_data"
    }
   ],
   "source": [
    "# N_ISO7_array = [352000,83200,2930]\n",
    "# size_ISO7_array = [0.5,1.0,5.0]\n",
    "\n",
    "# maximum concentration limits equal to and greater than \n",
    "# considered sizes in array of particle sizes\n",
    "N_ISO6_array = [1e6,237000,102000,35200,8320,293]\n",
    "\n",
    "# particle sizes\n",
    "size_ISO6_array = [0.1,0.2,0.3,0.5,1.0,5.0]\n",
    "\n",
    "# interpolate in log-log space\n",
    "f = interpolate.interp1d(np.log10(size_ISO6_array), np.log10(N_ISO6_array), kind=\"linear\")\n",
    "xnew = [np.log10(2.5)]\n",
    "ynew = f(xnew)   # use interpolation function returned by `interp1d`\n",
    "\n",
    "# plot linear values, with log-log scaling\n",
    "plt.scatter(size_ISO6_array,N_ISO6_array)\n",
    "plt.scatter(np.power(10.,xnew),np.power(10.,ynew))\n",
    "plt.xscale('log')\n",
    "plt.yscale('log')\n",
    "plt.xlabel(\"Particle size (um)\")\n",
    "plt.ylabel(\"Number density (m^-3)\")\n",
    "\n",
    "'''\n",
    "# flipped axes\n",
    "plt.scatter(N_ISO6_array,size_ISO6_array)\n",
    "plt.scatter(np.power(10.,ynew),np.power(10.,xnew))\n",
    "plt.xscale('log')\n",
    "plt.yscale('log')\n",
    "plt.ylabel(\"Particle size (um)\")\n",
    "plt.xlabel(\"Number density (m^-3)\")\n",
    "'''\n",
    "\n",
    "plt.title(\"ISO Class 6 specs, max concentration\")\n",
    "\n",
    "plt.show()"
   ]
  },
  {
   "cell_type": "code",
   "execution_count": 4,
   "id": "713a0542",
   "metadata": {},
   "outputs": [
    {
     "name": "stdout",
     "output_type": "stream",
     "text": [
      "Max PM2.5 value (m^(-3)): 1238.085923221107\n"
     ]
    }
   ],
   "source": [
    "print(\"Max PM2.5 value (m^(-3)):\", np.power(10.,ynew)[0])"
   ]
  },
  {
   "cell_type": "code",
   "execution_count": 46,
   "id": "d3ab94e4",
   "metadata": {},
   "outputs": [
    {
     "data": {
      "text/plain": [
       "<Figure size 432x288 with 0 Axes>"
      ]
     },
     "metadata": {},
     "output_type": "display_data"
    },
    {
     "data": {
      "image/png": "[encoded data removed]",
      "text/plain": [
       "<Figure size 432x288 with 1 Axes>"
      ]
     },
     "metadata": {
      "needs_background": "light"
     },
     "output_type": "display_data"
    }
   ],
   "source": [
    "# plot precision\n",
    "\n",
    "# abcissa\n",
    "abcissa_densities = np.linspace(0,boundary_1to2) # (/m^3)\n",
    "\n",
    "# step-like functions of precisions\n",
    "ordinate_precisions_PM05to25 = np.zeros(len(abcissa_densities))\n",
    "ordinate_precisions_PM05to25[abcissa_densities < boundary_0to1] = prec_PM05to25_low_numb\n",
    "ordinate_precisions_PM05to25[abcissa_densities > boundary_0to1] = prec_PM05to25_high_frac*abcissa_densities[\n",
    "                                                                        abcissa_densities > boundary_0to1]\n",
    "\n",
    "ordinate_precisions_PM4to10 = np.zeros(len(abcissa_densities))\n",
    "ordinate_precisions_PM4to10[abcissa_densities < boundary_0to1] = prec_PM4to10_low_numb\n",
    "ordinate_precisions_PM4to10[abcissa_densities > boundary_0to1] = prec_PM4to10_high_frac*abcissa_densities[\n",
    "                                                                        abcissa_densities > boundary_0to1]\n",
    "\n",
    "plt.clf()\n",
    "\n",
    "f, (ax1) = plt.subplots(1, 1)\n",
    "\n",
    "ax1.plot(abcissa_densities,ordinate_precisions_PM05to25,color=\"blue\",label=\"PM0.5,PM1,PM2.5\")\n",
    "ax1.plot(abcissa_densities,ordinate_precisions_PM4to10,color=\"red\",label=\"PM4,PM10\")\n",
    "ax1.set_ylabel(\"Precision ($\\pm N $m$^{-3}$)\")\n",
    "ax1.set_xlabel(\"Number density (m$^{-3}$)\")\n",
    "\n",
    "ax1.axvline(x=1e6)\n",
    "ax1.axvline(x=237000)\n",
    "ax1.axvline(x=102000)\n",
    "ax1.axvline(x=35200)\n",
    "ax1.axvline(x=8320)\n",
    "ax1.axvline(x=1238)\n",
    "ax1.axvline(x=293)\n",
    "ax1.annotate('local max', xy=(3, 1),  xycoords='data',\n",
    "            xytext=(0.8, 0.95), textcoords='axes fraction',\n",
    "            arrowprops=dict(facecolor='black', shrink=0.05),\n",
    "            horizontalalignment='right', verticalalignment='top',\n",
    "            )\n",
    "\n",
    "ax1.set_ylim([0,5e2])\n",
    "ax1.set_xlim([1e2,1.1e6])\n",
    "\n",
    "f.legend()\n",
    "\n",
    "ax1.set_xscale('log')\n",
    "\n",
    "plt.tight_layout()\n",
    "plt.show()"
   ]
  },
  {
   "cell_type": "code",
   "execution_count": 44,
   "id": "0ce64fce",
   "metadata": {},
   "outputs": [
    {
     "data": {
      "image/png": "[encoded data removed]",
      "text/plain": [
       "<Figure size 432x288 with 1 Axes>"
      ]
     },
     "metadata": {
      "needs_background": "light"
     },
     "output_type": "display_data"
    }
   ],
   "source": [
    "# plot accuracy and resolution\n",
    "\n",
    "# convert to numbers, based on salt\n",
    "abcissa_number_nacl = np.divide(abcissa_mass_range,m_nacl)\n",
    "number_range_0to1 = np.divide(100,m_nacl)\n",
    "number_range_1to2 = np.divide(100,m_nacl)\n",
    "\n",
    "plt.scatter(abcissa_number_nacl,2*abcissa_number_nacl)\n",
    "plt.axvline(number_range_0to1, linestyle=\"--\", color=\"gray\")\n",
    "plt.axvline(number_range_1to2, linestyle=\"--\", color=\"gray\")\n",
    "\n",
    "\n",
    "\n",
    "plt.show()"
   ]
  },
  {
   "cell_type": "code",
   "execution_count": null,
   "id": "3923c790",
   "metadata": {},
   "outputs": [],
   "source": []
  }
 ],
 "metadata": {
  "kernelspec": {
   "display_name": "Python 3",
   "language": "python",
   "name": "python3"
  },
  "language_info": {
   "codemirror_mode": {
    "name": "ipython",
    "version": 3
   },
   "file_extension": ".py",
   "mimetype": "text/x-python",
   "name": "python",
   "nbconvert_exporter": "python",
   "pygments_lexer": "ipython3",
   "version": "3.6.10"
  }
 },
 "nbformat": 4,
 "nbformat_minor": 5
}
