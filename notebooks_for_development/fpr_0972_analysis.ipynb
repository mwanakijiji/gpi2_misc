{
 "cells": [
  {
   "cell_type": "code",
   "execution_count": null,
   "metadata": {},
   "outputs": [],
   "source": [
    "# This is predecessor code for reading in FITS images taken at different times, and checking \n",
    "# differences between the PSFs (there shouldn't be any)\n",
    "\n",
    "# Created 2021 June 29 by E.S."
   ]
  },
  {
   "cell_type": "code",
   "execution_count": 1,
   "metadata": {},
   "outputs": [],
   "source": [
    "from astropy.io import fits\n",
    "import matplotlib.pyplot as plt\n",
    "import photutils\n",
    "from photutils import DAOStarFinder\n",
    "import numpy as np\n",
    "import pandas as pd\n",
    "import glob\n",
    "import os"
   ]
  },
  {
   "cell_type": "code",
   "execution_count": 4,
   "metadata": {},
   "outputs": [],
   "source": [
    "stem = \"./data/fpr_0972/\"\n",
    "file_list = np.sort(glob.glob(stem + \"*fits\"))"
   ]
  },
  {
   "cell_type": "code",
   "execution_count": 14,
   "metadata": {},
   "outputs": [
    {
     "name": "stdout",
     "output_type": "stream",
     "text": [
      "0\n",
      "(37, 281, 281)\n",
      "(10, 281, 281)\n",
      "1\n",
      "(37, 281, 281)\n",
      "(10, 281, 281)\n",
      "2\n",
      "(37, 281, 281)\n",
      "(10, 281, 281)\n",
      "3\n",
      "(37, 281, 281)\n",
      "(10, 281, 281)\n",
      "4\n",
      "(37, 281, 281)\n",
      "(10, 281, 281)\n",
      "5\n",
      "(37, 281, 281)\n",
      "(10, 281, 281)\n",
      "6\n",
      "(37, 281, 281)\n",
      "(10, 281, 281)\n",
      "7\n",
      "(37, 281, 281)\n",
      "(10, 281, 281)\n",
      "8\n",
      "(37, 281, 281)\n",
      "(10, 281, 281)\n",
      "9\n",
      "(37, 281, 281)\n",
      "(10, 281, 281)\n"
     ]
    }
   ],
   "source": [
    "# read in frames and put them into a bug cube\n",
    "\n",
    "cube_frames_all = np.zeros((len(file_list),281,281))\n",
    "\n",
    "for fits_num in range(0,len(file_list)):\n",
    "\n",
    "    # read in reduced FITS file\n",
    "    hdul = fits.open(file_list[fits_num])\n",
    "    image_array = hdul[1].data\n",
    "    \n",
    "    # put slice 10 into cube (kind of arbitrary, but is bright)\n",
    "    cube_frames_all[fits_num,:,:] = image_array[10,:,:]"
   ]
  },
  {
   "cell_type": "code",
   "execution_count": 17,
   "metadata": {},
   "outputs": [],
   "source": [
    "# save \n",
    "\n",
    "write_file_name = \"fpr_0972_cube.fits\"\n",
    "hdu_write = fits.PrimaryHDU(cube_frames_all)\n",
    "hdul_write = fits.HDUList([hdu_write])\n",
    "hdul_write.writeto(write_file_name)\n",
    "print(\"Wrote out cube of frames as \" + write_file_name)"
   ]
  },
  {
   "cell_type": "code",
   "execution_count": 26,
   "metadata": {},
   "outputs": [],
   "source": [
    "# find variation across slices\n",
    "\n",
    "noise_vals = np.std(cube_frames_all, axis=0)\n",
    "median_vals = np.median(cube_frames_all, axis=0)\n",
    "\n",
    "# find S/N of central region around PSF core\n",
    "central_s_to_n = np.divide(median_vals[134:163,134:163],noise_vals[134:163,134:163])"
   ]
  },
  {
   "cell_type": "code",
   "execution_count": 29,
   "metadata": {},
   "outputs": [
    {
     "data": {
      "image/png": "[encoded data removed]",
      "text/plain": [
       "<Figure size 432x288 with 1 Axes>"
      ]
     },
     "metadata": {
      "needs_background": "light"
     },
     "output_type": "display_data"
    }
   ],
   "source": [
    "write_hist_name = \"fpr_0972_sn_hist.png\"\n",
    "\n",
    "plt.hist(central_s_to_n)\n",
    "plt.title(\"Histogram of S/N of pixels in region around PSF core\")\n",
    "plt.xlabel(\"S/N\")\n",
    "plt.ylabel(\"Number\")\n",
    "plt.savefig(write_hist_name)"
   ]
  },
  {
   "cell_type": "code",
   "execution_count": null,
   "metadata": {},
   "outputs": [],
   "source": []
  }
 ],
 "metadata": {
  "kernelspec": {
   "display_name": "Python 3",
   "language": "python",
   "name": "python3"
  },
  "language_info": {
   "codemirror_mode": {
    "name": "ipython",
    "version": 3
   },
   "file_extension": ".py",
   "mimetype": "text/x-python",
   "name": "python",
   "nbconvert_exporter": "python",
   "pygments_lexer": "ipython3",
   "version": "3.6.10"
  }
 },
 "nbformat": 4,
 "nbformat_minor": 4
}
