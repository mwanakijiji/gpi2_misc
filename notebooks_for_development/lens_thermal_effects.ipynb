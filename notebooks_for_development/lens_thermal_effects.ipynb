{
 "cells": [
  {
   "cell_type": "code",
   "execution_count": null,
   "id": "09b06d44",
   "metadata": {},
   "outputs": [],
   "source": [
    "# Finds rough focus changes due to thermal effects on lenses\n",
    "\n",
    "# Created 2022 Mar. 15 by E.S."
   ]
  },
  {
   "cell_type": "code",
   "execution_count": 1,
   "id": "bb3a6ae9",
   "metadata": {},
   "outputs": [],
   "source": [
    "import numpy as np"
   ]
  },
  {
   "cell_type": "code",
   "execution_count": 4,
   "id": "d6ab3e43",
   "metadata": {},
   "outputs": [],
   "source": [
    "def del_f(f_init, del_t, T_const, alpha_H):\n",
    "    '''\n",
    "    f_init: focal length of system (assumed length of housing)\n",
    "    del_t: change in temp\n",
    "    T_const: thermal glass constant\n",
    "    alpha_H: thermal expansion coefficient of housing\n",
    "    '''\n",
    "    \n",
    "    return -f_init*del_t*(T_const + alpha_H)"
   ]
  },
  {
   "cell_type": "code",
   "execution_count": 5,
   "id": "36fe170f",
   "metadata": {},
   "outputs": [],
   "source": [
    "# thermal glass constants\n",
    "\n",
    "T_BK7 = -1e-6 # VIS; p. 133\n",
    "T_ZnS = 25e-6 # IR; p. 133\n",
    "T_ZnSe = 36e-6 # IR; p. 133"
   ]
  },
  {
   "cell_type": "code",
   "execution_count": 7,
   "id": "bbc5b466",
   "metadata": {},
   "outputs": [
    {
     "name": "stdout",
     "output_type": "stream",
     "text": [
      "-0.0196\n"
     ]
    }
   ],
   "source": [
    "test_BK7 = del_f(f_init = 100, del_t = 77-273, T_const=T_BK7, alpha_H=0)\n",
    "print(test_BK7)"
   ]
  },
  {
   "cell_type": "code",
   "execution_count": 8,
   "id": "0811db7b",
   "metadata": {},
   "outputs": [
    {
     "name": "stdout",
     "output_type": "stream",
     "text": [
      "0.49000000000000005\n"
     ]
    }
   ],
   "source": [
    "test_ZnS = del_f(f_init = 100, del_t = 77-273, T_const=T_ZnS, alpha_H=0)\n",
    "print(test_ZnS)"
   ]
  },
  {
   "cell_type": "code",
   "execution_count": null,
   "id": "4f393599",
   "metadata": {},
   "outputs": [],
   "source": []
  }
 ],
 "metadata": {
  "kernelspec": {
   "display_name": "Python 3",
   "language": "python",
   "name": "python3"
  },
  "language_info": {
   "codemirror_mode": {
    "name": "ipython",
    "version": 3
   },
   "file_extension": ".py",
   "mimetype": "text/x-python",
   "name": "python",
   "nbconvert_exporter": "python",
   "pygments_lexer": "ipython3",
   "version": "3.6.10"
  }
 },
 "nbformat": 4,
 "nbformat_minor": 5
}
